{
 "cells": [
  {
   "cell_type": "markdown",
   "id": "98139643-b002-4b1d-9af5-d89cf06a7892",
   "metadata": {
    "tags": []
   },
   "source": [
    "# First level analysis of a complete BIDS dataset from openneuro"
   ]
  },
  {
   "cell_type": "markdown",
   "id": "9242b525-2736-4047-84c2-dc2a88e11276",
   "metadata": {},
   "source": [
    "This notebook is based on the [GLM tutorial](https://nilearn.github.io/stable/modules/generated/nilearn.glm.first_level.first_level_from_bids.html#nilearn.glm.first_level.first_level_from_bids) from Nilearn."
   ]
  },
  {
   "cell_type": "code",
   "execution_count": 1,
   "id": "5f7bfbab-b727-4fc8-a0ac-7061fa528b68",
   "metadata": {},
   "outputs": [],
   "source": [
    "import nest_asyncio\n",
    "nest_asyncio.apply()"
   ]
  },
  {
   "cell_type": "code",
   "execution_count": 2,
   "id": "e23a0be8-0774-4b9c-99fd-09557a2c0561",
   "metadata": {},
   "outputs": [],
   "source": [
    "import os\n",
    "import pydra\n",
    "from pydra import Workflow\n",
    "from pydra.engine.specs import File\n",
    "import typing as ty\n",
    "from pathlib import Path\n",
    "import nibabel as nib\n",
    "\n",
    "pydra_tutorial_dir = os.path.dirname(os.getcwd())\n",
    "\n",
    "workflow_dir = Path(pydra_tutorial_dir) / \"outputs\" \n",
    "workflow_out_dir = workflow_dir / \"6_glm\""
   ]
  },
  {
   "cell_type": "code",
   "execution_count": 3,
   "id": "08060680-fa6e-4bb0-bee9-d954fea2eb75",
   "metadata": {},
   "outputs": [],
   "source": [
    "# fetch openneuro BIDS dataset\n",
    "@pydra.mark.task\n",
    "@pydra.mark.annotate({\"exclusion_patterns\": list, \"return\": {\"data_dir\":str}})\n",
    "def get_openneuro_dataset(exclusion_patterns):\n",
    "    from nilearn.datasets import (fetch_openneuro_dataset_index,\n",
    "                              fetch_openneuro_dataset, select_from_index)\n",
    "    \n",
    "    _, urls = fetch_openneuro_dataset_index()\n",
    "    \n",
    "    urls = select_from_index(\n",
    "        urls, exclusion_filters=exclusion_patterns, n_subjects = 1)\n",
    "    data_dir, _ = fetch_openneuro_dataset(urls=urls)\n",
    "    return data_dir"
   ]
  },
  {
   "cell_type": "code",
   "execution_count": 4,
   "id": "2b6e4855-3a2d-43d9-a1cc-070365283833",
   "metadata": {},
   "outputs": [],
   "source": [
    "# obtain FirstLevelModel objects automatically and fit arguments\n",
    "@pydra.mark.task\n",
    "@pydra.mark.annotate({\"data_dir\": str, \"task_label\": str, \"space_label\": str,\"derivatives_folder\": str, \"smoothing_fwhm\": float, \n",
    "                      \"return\": {\"model\": ty.Any, \"imgs\": list, \"subject\": str}})\n",
    "def get_info_from_bids(\n",
    "    data_dir,\n",
    "    task_label,\n",
    "    space_label,\n",
    "    smoothing_fwhm,\n",
    "    derivatives_folder\n",
    "):\n",
    "    from nilearn.glm.first_level import first_level_from_bids\n",
    "    models, models_run_imgs, models_events, models_confounds = \\\n",
    "    first_level_from_bids(dataset_path = data_dir, task_label = task_label, space_label = space_label,\n",
    "                          smoothing_fwhm = smoothing_fwhm, derivatives_folder = derivatives_folder)\n",
    "    \n",
    "    model, imgs, events, confounds = (\n",
    "    models[0], models_run_imgs[0], models_events[0], models_confounds[0])\n",
    "    subject = \"sub-\" + model.subject_label\n",
    "    return model, imgs, subject"
   ]
  },
  {
   "cell_type": "code",
   "execution_count": 5,
   "id": "91749dab-c2d8-4929-9299-e72bd0f45adf",
   "metadata": {},
   "outputs": [],
   "source": [
    "# get design matrix\n",
    "@pydra.mark.task\n",
    "@pydra.mark.annotate({\"data_dir\":str, \"subject\":str, \"workflow_out_dir\":ty.Any, \"return\": {\"dm_path\": str}})\n",
    "def get_designmatrix(data_dir, subject, workflow_out_dir):\n",
    "    from nilearn.interfaces.fsl import get_design_from_fslmat\n",
    "    \n",
    "    fsl_design_matrix_path = os.path.join(\n",
    "        data_dir, 'derivatives', 'task', subject, 'stopsignal.feat', 'design.mat')\n",
    "    design_matrix = get_design_from_fslmat(fsl_design_matrix_path, column_names=None)\n",
    "    \n",
    "    design_columns = ['cond_%02d' % i for i in range(len(design_matrix.columns))]\n",
    "    design_columns[0] = 'Go'\n",
    "    design_columns[4] = 'StopSuccess'\n",
    "    design_matrix.columns = design_columns\n",
    "    dm_path = os.path.join(workflow_out_dir, \"designmatrix.csv\")\n",
    "    design_matrix.to_csv(dm_path,index=None)\n",
    "    return dm_path                      "
   ]
  },
  {
   "cell_type": "code",
   "execution_count": 6,
   "id": "79ee2404-40af-4178-870b-498bdcc79774",
   "metadata": {},
   "outputs": [],
   "source": [
    "# fit models\n",
    "@pydra.mark.task\n",
    "@pydra.mark.annotate({\"model\": ty.Any,\"imgs\": ty.Any,\n",
    "                      \"dm_path\": ty.Any,\"contrast\": str,\n",
    "                      \"return\": {\"model1\": ty.Any, \"z_map_path\":ty.Any}})\n",
    "def model_fit(\n",
    "    model, \n",
    "    imgs,\n",
    "    dm_path,\n",
    "    contrast\n",
    "):\n",
    "    import pandas as pd\n",
    "    design_matrix = pd.read_csv(dm_path)\n",
    "    model1 = model.fit(imgs, design_matrices = [design_matrix])\n",
    "    z_map = model.compute_contrast(contrast)\n",
    "    z_map_path = os.path.join(workflow_out_dir, \"firstlevel_z_map.nii.gz\")\n",
    "    z_map.to_filename(z_map_path)\n",
    "    return model1, z_map_path"
   ]
  },
  {
   "cell_type": "code",
   "execution_count": 8,
   "id": "c5882482-14b6-4d11-8fa6-2cfcc17babf1",
   "metadata": {},
   "outputs": [],
   "source": [
    "# get cluster table\n",
    "@pydra.mark.task\n",
    "@pydra.mark.annotate({\"z_map_path\":str,\n",
    "                    \"return\":{\"output_file\":str}})\n",
    "def cluster_table(z_map_path):\n",
    "    import nibabel as nib\n",
    "    from nilearn.reporting import get_clusters_table\n",
    "    from scipy.stats import norm\n",
    "    \n",
    "    stat_img = nib.load(z_map_path)\n",
    "    output_file = os.path.join(workflow_out_dir, \"cluster_table.csv\")\n",
    "    df = get_clusters_table(stat_img,\n",
    "                            stat_threshold = norm.isf(0.001), \n",
    "                            cluster_threshold=10)\n",
    "    df.to_csv(output_file, index=None)\n",
    "    return output_file\n",
    "\n",
    "# get glm report\n",
    "@pydra.mark.task\n",
    "@pydra.mark.annotate({\"model\":ty.Any, \"contrasts\":str,\n",
    "                    \"return\":{\"output_file\":str}})\n",
    "def glm_report(\n",
    "    model,\n",
    "    contrasts\n",
    "):\n",
    "    from nilearn.reporting import make_glm_report\n",
    "    output_file = os.path.join(workflow_out_dir, \"glm_report.html\")\n",
    "    report = make_glm_report(model, contrasts)\n",
    "    report.save_as_html(output_file)\n",
    "    return output_file"
   ]
  },
  {
   "cell_type": "code",
   "execution_count": 7,
   "id": "c4d4eb57-5211-4b85-bd18-25b0e4270543",
   "metadata": {},
   "outputs": [],
   "source": [
    "# plot z-map comparison\n",
    "@pydra.mark.task\n",
    "@pydra.mark.annotate({\"z_map1\":str, \"z_map2\":str, \"masker\":File})\n",
    "def plot_comparison(\n",
    "    z_map1,\n",
    "    z_map2,\n",
    "    masker,\n",
    "):\n",
    "    from nilearn import plotting\n",
    "    import matplotlib.pyplot as plt\n",
    "    from scipy.stats import norm\n",
    "    plotting.plot_glass_brain(z_map1, colorbar=True, \n",
    "                              threshold = norm.isf(0.001), title = 'Nilearn Z map of \"StopSuccess - Go\" (unc p<0.001)',\n",
    "                              plot_abs=False, display_mode='ortho')\n",
    "    \n",
    "    plotting.plot_glass_brain(z_map2, colorbar=True, \n",
    "                              threshold = norm.isf(0.001), title2 = 'FSL Z map of \"StopSuccess - Go\" (unc p<0.001)',\n",
    "                              plot_abs=False, display_mode='ortho')\n",
    "    \n",
    "    plotting.plot_img_comparison([z_map1], [z_map2], masker,\n",
    "                    ref_label = 'Nilearn', src_label = 'FSL')\n",
    "    \n",
    "    plt.show()\n",
    "    return "
   ]
  },
  {
   "cell_type": "markdown",
   "id": "376173a0-8b0a-488e-8482-aa9ab5406876",
   "metadata": {},
   "source": [
    "## Set up workflow"
   ]
  },
  {
   "cell_type": "markdown",
   "id": "03db7552-d59a-4a89-9ce1-1fa4c9a1ac74",
   "metadata": {},
   "source": [
    "### The main workflow - first-level estimation"
   ]
  },
  {
   "cell_type": "code",
   "execution_count": 9,
   "id": "670b66d6-30a8-49a1-98d4-9367e03b11b8",
   "metadata": {},
   "outputs": [],
   "source": [
    "def firstlevel_workflow(name: str = \"firstlevel\") -> Workflow:\n",
    "    wf = Workflow(name=name, input_spec=[\"data_dir\",\n",
    "                                         \"task_label\",\n",
    "                                         \"space_label\",\n",
    "                                         \"derivatives_folder\",\n",
    "                                         \"smoothing_fwhm\",\n",
    "                                         \"contrast\",\n",
    "                                         \"output_dir\"]\n",
    "                         )\n",
    "\n",
    "    wf.inputs.task_label = 'stopsignal'\n",
    "    wf.inputs.space_label = 'MNI152NLin2009cAsym'\n",
    "    wf.inputs.derivatives_folder = 'derivatives/fmriprep'\n",
    "    wf.inputs.smoothing_fwhm = 5.0\n",
    "    wf.inputs.contrast = 'StopSuccess - Go'\n",
    "    wf.inputs.output_dir = workflow_out_dir\n",
    "\n",
    "    wf.add(get_info_from_bids(name=\"get_info_from_bids\",\n",
    "                              data_dir = wf.lzin.data_dir,\n",
    "                              task_label = wf.lzin.task_label,\n",
    "                              space_label = wf.lzin.space_label,\n",
    "                              derivatives_folder = wf.lzin.derivatives_folder,\n",
    "                              smoothing_fwhm = wf.lzin.smoothing_fwhm\n",
    "                             )\n",
    "          )\n",
    "\n",
    "    wf.add(get_designmatrix(name = \"get_designmatrix\",\n",
    "                            data_dir = wf.lzin.data_dir,\n",
    "                            subject = wf.get_info_from_bids.lzout.subject,\n",
    "                            workflow_out_dir = wf.lzin.output_dir\n",
    "                           )\n",
    "          )\n",
    "\n",
    "    wf.add(model_fit(name = \"l1estimation\",\n",
    "                       model = wf.get_info_from_bids.lzout.model, \n",
    "                       imgs = wf.get_info_from_bids.lzout.imgs, \n",
    "                       dm_path = wf.get_designmatrix.lzout.dm_path,\n",
    "                       contrast = wf.lzin.contrast\n",
    "                    )\n",
    "          )\n",
    "    \n",
    "    wf.add(cluster_table(name = \"cluster_table\", \n",
    "                         z_map_path = wf.l1estimation.lzout.z_map_path))\n",
    "    wf.add(glm_report(name = \"glm_report\",\n",
    "                      model = wf.l1estimation.lzout.model1,\n",
    "                      contrasts = wf.lzin.contrast\n",
    "                     )\n",
    "          )\n",
    "   \n",
    "    wf.set_output([\n",
    "        (\"z_map\", wf.l1estimation.lzout.z_map_path),\n",
    "        (\"cluster_table\", wf.cluster_table.lzout.output_file),\n",
    "        (\"glm_report\", wf.glm_report.lzout.output_file)\n",
    "    ])\n",
    "    return wf"
   ]
  },
  {
   "cell_type": "code",
   "execution_count": null,
   "id": "c23f9509-bf9f-42ac-8144-d040a045a48b",
   "metadata": {},
   "outputs": [],
   "source": [
    "def plot_workflow(name: str = \"plot\") -> Workflow:\n",
    "    wf = Workflow(name=name, input_spec=[\"data_dir\",\n",
    "                                         \"task_label\",\n",
    "                                         \"space_label\",\n",
    "                                         \"derivatives_folder\",\n",
    "                                         \"smoothing_fwhm\",\n",
    "                                         \"contrast\",\n",
    "                                         \"output_dir\"]\n",
    "                         )"
   ]
  },
  {
   "cell_type": "markdown",
   "id": "a4bc54b0-6e83-48c6-b12b-edd4fd056fb8",
   "metadata": {},
   "source": [
    "### Connect all workflows"
   ]
  },
  {
   "cell_type": "code",
   "execution_count": 10,
   "id": "f9d17464-25a7-4eb6-9568-22fc2d0dbf4a",
   "metadata": {},
   "outputs": [],
   "source": [
    "wf = Workflow(name = \"firstlevel_glm\",\n",
    "              input_spec = [\"exclusion_patterns\",\"output_dir\"],\n",
    "             )\n",
    "\n",
    "wf.inputs.exclusion_patterns = ['*group*', '*phenotype*', '*mriqc*',\n",
    "                                '*parameter_plots*', '*physio_plots*',\n",
    "                                '*space-fsaverage*', '*space-T1w*',\n",
    "                                '*dwi*', '*beh*', '*task-bart*',\n",
    "                                '*task-rest*', '*task-scap*', '*task-task*']\n",
    "\n",
    "wf.inputs.output_dir = workflow_out_dir\n",
    "\n",
    "wf.add(get_openneuro_dataset(name = \"get_openneuro_dataset\", \n",
    "                             interface=get_openneuro_dataset,\n",
    "                             exclusion_patterns = wf.lzin.exclusion_patterns\n",
    "                            )\n",
    "      )\n",
    "\n",
    "wf_firstlevel = firstlevel_workflow()\n",
    "wf_firstlevel.inputs.data_dir = wf.get_openneuro_dataset.lzout.data_dir\n",
    "wf.add(wf_firstlevel)\n",
    "\n",
    "wf.set_output([\n",
    "    (\"cluster_table\", wf_firstlevel.lzout.cluster_table),\n",
    "    (\"glm_report\", wf_firstlevel.lzout.glm_report),\n",
    "])"
   ]
  },
  {
   "cell_type": "code",
   "execution_count": 11,
   "id": "c6c8ed43-48b4-4e63-8a67-0fc5a2a7a333",
   "metadata": {},
   "outputs": [
    {
     "name": "stderr",
     "output_type": "stream",
     "text": [
      "/Users/yibeichen/miniconda3/envs/pydra/lib/python3.7/site-packages/nilearn/glm/__init__.py:56: FutureWarning: The nilearn.glm module is experimental. It may change in any future release of Nilearn.\n",
      "  'It may change in any future release of Nilearn.', FutureWarning)\n",
      "/Users/yibeichen/miniconda3/envs/pydra/lib/python3.7/site-packages/nilearn/glm/first_level/first_level.py:905: UserWarning: SliceTimingRef not found in file /Users/yibeichen/nilearn_data/ds000030/ds000030_R1.0.4/uncompressed/sub-10159/func/sub-10159_task-stopsignal_bold.json. It will be assumed that the slice timing reference is 0.0 percent of the repetition time. If it is not the case it will need to be set manually in the generated list of models\n",
      "  img_specs[0])\n",
      "/Users/yibeichen/miniconda3/envs/pydra/lib/python3.7/site-packages/nilearn/glm/__init__.py:56: FutureWarning: The nilearn.glm module is experimental. It may change in any future release of Nilearn.\n",
      "  'It may change in any future release of Nilearn.', FutureWarning)\n",
      "/Users/yibeichen/miniconda3/envs/pydra/lib/python3.7/site-packages/nilearn/glm/__init__.py:56: FutureWarning: The nilearn.glm module is experimental. It may change in any future release of Nilearn.\n",
      "  'It may change in any future release of Nilearn.', FutureWarning)\n",
      "/Users/yibeichen/miniconda3/envs/pydra/lib/python3.7/site-packages/nilearn/glm/__init__.py:56: FutureWarning: The nilearn.glm module is experimental. It may change in any future release of Nilearn.\n",
      "  'It may change in any future release of Nilearn.', FutureWarning)\n",
      "/Users/yibeichen/miniconda3/envs/pydra/lib/python3.7/site-packages/nilearn/plotting/img_plotting.py:300: FutureWarning: Default resolution of the MNI template will change from 2mm to 1mm in version 0.10.0\n",
      "  anat_img = load_mni152_template()\n"
     ]
    },
    {
     "name": "stdout",
     "output_type": "stream",
     "text": [
      "({'firstlevel_glm.exclusion_patterns': ['*group*', '*phenotype*', '*mriqc*', '*parameter_plots*', '*physio_plots*', '*space-fsaverage*', '*space-T1w*', '*dwi*', '*beh*', '*task-bart*', '*task-rest*', '*task-scap*', '*task-task*'], 'firstlevel_glm.output_dir': PosixPath('/Users/yibeichen/GDrive/GitHub/pydra-tutorial/outputs/6_glm')}, Result(output=Output(cluster_table='/Users/yibeichen/GDrive/GitHub/pydra-tutorial/outputs/6_glm/cluster_table.csv', glm_report='/Users/yibeichen/GDrive/GitHub/pydra-tutorial/outputs/6_glm/glm_report.html'), runtime=None, errored=False))\n"
     ]
    }
   ],
   "source": [
    "from pydra import Submitter\n",
    "\n",
    "with Submitter(plugin=\"cf\", n_procs=4) as submitter:\n",
    "    submitter(wf)\n",
    "\n",
    "results = wf.result(return_inputs=True)\n",
    "\n",
    "print(results)"
   ]
  },
  {
   "cell_type": "code",
   "execution_count": 12,
   "id": "63231f36-baf6-4c09-ad3f-2ad36b0b7fc8",
   "metadata": {},
   "outputs": [
    {
     "ename": "NameError",
     "evalue": "name 'data_dir' is not defined",
     "output_type": "error",
     "traceback": [
      "\u001b[0;31m----------------------------------------\u001b[0m",
      "\u001b[0;31mNameError\u001b[0mTraceback (most recent call last)",
      "\u001b[0;32m<ipython-input-12-d65ce951c912>\u001b[0m in \u001b[0;36m<module>\u001b[0;34m\u001b[0m\n\u001b[0;32m----> 1\u001b[0;31m fsl_z_map = nib.load(os.path.join(data_dir, 'derivatives', 'task', subject, 'stopsignal.feat',\n\u001b[0m\u001b[1;32m      2\u001b[0m                  'stats', 'zstat12.nii.gz'))\n\u001b[1;32m      3\u001b[0m \u001b[0;34m\u001b[0m\u001b[0m\n\u001b[1;32m      4\u001b[0m \u001b[0mwf\u001b[0m\u001b[0;34m.\u001b[0m\u001b[0madd\u001b[0m\u001b[0;34m(\u001b[0m\u001b[0;34m)\u001b[0m\u001b[0;34m\u001b[0m\u001b[0;34m\u001b[0m\u001b[0m\n",
      "\u001b[0;31mNameError\u001b[0m: name 'data_dir' is not defined"
     ]
    }
   ],
   "source": [
    "fsl_z_map = nib.load(os.path.join(data_dir, 'derivatives', 'task', subject, 'stopsignal.feat',\n",
    "                 'stats', 'zstat12.nii.gz'))\n",
    "\n",
    "wf.add()"
   ]
  },
  {
   "cell_type": "code",
   "execution_count": null,
   "id": "67240e5b-c8ab-4b78-88eb-598abf06a353",
   "metadata": {},
   "outputs": [],
   "source": [
    "\n",
    "\n"
   ]
  },
  {
   "cell_type": "code",
   "execution_count": null,
   "id": "f90a8805-6291-44b0-afec-aadb381d6b32",
   "metadata": {},
   "outputs": [],
   "source": []
  },
  {
   "cell_type": "code",
   "execution_count": null,
   "id": "b3ebd22d-770c-45f3-b3a3-467806476daf",
   "metadata": {},
   "outputs": [],
   "source": []
  },
  {
   "cell_type": "code",
   "execution_count": null,
   "id": "6cf8aec0-53f5-4c8a-a897-ab361a4a4b2f",
   "metadata": {},
   "outputs": [],
   "source": []
  },
  {
   "cell_type": "code",
   "execution_count": null,
   "id": "bf6d5c84-5445-4e54-ad8e-c5c18ad784e3",
   "metadata": {},
   "outputs": [],
   "source": []
  },
  {
   "cell_type": "code",
   "execution_count": null,
   "id": "218bd10f-4472-48b7-a638-23c108c77a51",
   "metadata": {},
   "outputs": [],
   "source": []
  },
  {
   "cell_type": "code",
   "execution_count": null,
   "id": "9a36aa03-cfe5-400e-bee0-563963be244e",
   "metadata": {},
   "outputs": [],
   "source": [
    "import nibabel as nib\n",
    "fsl_z_map = nib.load(\n",
    "    os.path.join(data_dir, 'derivatives', 'task', subject, 'stopsignal.feat',\n",
    "                 'stats', 'zstat12.nii.gz'))\n",
    "\n",
    "from nilearn import plotting\n",
    "import matplotlib.pyplot as plt\n",
    "from scipy.stats import norm\n",
    "plotting.plot_glass_brain(z_map, output_file= , colorbar=True, threshold=norm.isf(0.001),\n",
    "                          title='Nilearn Z map of \"StopSuccess - Go\" (unc p<0.001)',\n",
    "                          plot_abs=False, display_mode='ortho')\n",
    "plotting.plot_glass_brain(fsl_z_map, output_file= , colorbar=True, threshold=norm.isf(0.001),\n",
    "                          title='FSL Z map of \"StopSuccess - Go\" (unc p<0.001)',\n",
    "                          plot_abs=False, display_mode='ortho')\n",
    "plt.show()\n",
    "\n",
    "from nilearn.plotting import plot_img_comparison\n",
    "plot_img_comparison([z_map], [fsl_z_map], model.masker_,\n",
    "                    ref_label='Nilearn', src_label='FSL')\n",
    "plt.show()"
   ]
  },
  {
   "cell_type": "code",
   "execution_count": null,
   "id": "fb812a45-4fec-485a-b4aa-854784d11336",
   "metadata": {},
   "outputs": [],
   "source": [
    "@pydra.mark.task\n",
    "def test(a,b):\n",
    "    c = a+b\n",
    "    d = a*b\n",
    "    return c, d\n",
    "\n",
    "task1 = test(a=8, b=9)"
   ]
  },
  {
   "cell_type": "code",
   "execution_count": null,
   "id": "5c5741d8-1e5c-47ea-867d-a4aa63ea2de3",
   "metadata": {},
   "outputs": [],
   "source": [
    "task1()\n",
    "r = task1.result()\n",
    "r.output.out[1]"
   ]
  },
  {
   "cell_type": "code",
   "execution_count": null,
   "id": "2bbeaa29-054c-44d1-904d-e53186be5a5e",
   "metadata": {
    "tags": []
   },
   "outputs": [],
   "source": [
    "wf_test = pydra.Workflow(name=\"test_workflow\", input_spec=[\"x\",\"y\"],x=1, y=2)\n",
    "wf_test.add(test(name=\"task1\", a=wf_test.lzin.x, b=wf_test.lzin.y))\n",
    "wf_test.set_output([(\"out\", wf_test.task1.lzout.out)])\n",
    "with pydra.Submitter(plugin=\"cf\") as sub:\n",
    "    sub(wf_test)\n",
    "\n",
    "wf_test.result()"
   ]
  },
  {
   "cell_type": "code",
   "execution_count": null,
   "id": "2aebd974-a107-4b49-9d6f-fcaf04143950",
   "metadata": {},
   "outputs": [],
   "source": []
  }
 ],
 "metadata": {
  "kernelspec": {
   "display_name": "Python 3",
   "language": "python",
   "name": "python3"
  },
  "language_info": {
   "codemirror_mode": {
    "name": "ipython",
    "version": 3
   },
   "file_extension": ".py",
   "mimetype": "text/x-python",
   "name": "python",
   "nbconvert_exporter": "python",
   "pygments_lexer": "ipython3",
   "version": "3.7.13"
  }
 },
 "nbformat": 4,
 "nbformat_minor": 5
}
