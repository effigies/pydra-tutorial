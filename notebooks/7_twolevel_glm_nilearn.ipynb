{
 "cells": [
  {
   "cell_type": "markdown",
   "id": "7c8ffca2-f7d5-4ac3-86ed-42fe5ad9148a",
   "metadata": {},
   "source": [
    "# 7. Multilevel GLM (from Nilearn)"
   ]
  },
  {
   "cell_type": "markdown",
   "id": "98ad6d8a-cb2c-447d-9e25-54fc5bf10a94",
   "metadata": {},
   "source": [
    "In this tutorial, we demonstrate how to write pydra tasks for the first and second level GLM in Nilearn. We use the data from [Balloon Analog Risk-taking Task](https://openneuro.org/datasets/ds000001/versions/1.0.0). \n",
    "Basic information about this dataset:\n",
    "- 16 subjects\n",
    "- 3 runs\n",
    "- functional scan TR: 2.3 \n",
    "- num of functional scan: 300"
   ]
  },
  {
   "cell_type": "code",
   "execution_count": 1,
   "id": "7f0479cc-93eb-4e40-872f-57a07a062e6a",
   "metadata": {},
   "outputs": [],
   "source": [
    "import nest_asyncio\n",
    "nest_asyncio.apply()"
   ]
  },
  {
   "cell_type": "markdown",
   "id": "3d6e1690-018b-491b-9d8d-8c9885a4376e",
   "metadata": {},
   "source": [
    "## Preparation\n",
    "\n",
    "Import packages that will be used globally and set up output directory"
   ]
  },
  {
   "cell_type": "code",
   "execution_count": 2,
   "id": "20eb3282-280f-4b8d-bf16-ef49781a90ae",
   "metadata": {},
   "outputs": [
    {
     "name": "stderr",
     "output_type": "stream",
     "text": [
      "A newer version (0.19) of nipype/pydra is available. You are using 0.18+68.g943ac89.dirty\n"
     ]
    }
   ],
   "source": [
    "import warnings\n",
    "warnings.filterwarnings('ignore')\n",
    "warnings.simplefilter('ignore')\n",
    "\n",
    "import os, glob\n",
    "import datetime\n",
    "import random\n",
    "import pydra\n",
    "from pydra import Workflow\n",
    "from pydra.engine.specs import File, MultiInputFile, MultiOutputFile\n",
    "import typing as ty\n",
    "from pathlib import Path\n",
    "\n",
    "# get current directory\n",
    "pydra_tutorial_dir = os.path.dirname(os.getcwd())\n",
    "\n",
    "# set up output directory\n",
    "workflow_dir = Path(pydra_tutorial_dir) / 'outputs'\n",
    "workflow_out_dir = workflow_dir / '7_glm' /'results'\n",
    "\n",
    "# create the output directory if not exit\n",
    "os.makedirs(workflow_out_dir, exist_ok=True)"
   ]
  },
  {
   "cell_type": "markdown",
   "id": "7e9d8928-4710-4159-ae27-640f1d74bb12",
   "metadata": {},
   "source": [
    "## Download the data\n",
    "\n",
    "[DataLad](http://handbook.datalad.org/en/latest/index.htmlhttp://handbook.datalad.org/en/latest/index.html) is often used in those cases to download data. Here we use its [Python API](http://docs.datalad.org/en/latest/modref.htmlhttp://docs.datalad.org/en/latest/modref.html).\n",
    "\n",
    "We need the following data: \n",
    "\n",
    "1. event information (raw data)\n",
    "2. preprocessed image data (fmriprep)\n",
    "3. confounds (fmriprep)\n",
    "\n",
    "By `datalad.api.install`, datalad downloads all symlinks without storing the actual data locally. We can then use `datalad.api.get` to get the data we need for our analysis. \n",
    "We need to get four types of data from two folders:\n",
    "\n",
    "1. event_info: `*events.tsv` from `rawdata_path`\n",
    "2. bold: `*space-MNI152NLin2009cAsym_res-2_desc-preproc_bold.nii.gz` from `fmriprep_path`\n",
    "3. mask: `*space-MNI152NLin2009cAsym_res-2_desc-brain_mask.nii.gz` from `fmriprep_path`\n",
    "4. confounds: `*desc-confounds_timeseries.tsv` from `fmriprep_path` (this is implicitly needed by `load_confounds_strategy`)"
   ]
  },
  {
   "cell_type": "code",
   "execution_count": 3,
   "id": "40966ba9-9225-4464-b401-7f07e052708e",
   "metadata": {},
   "outputs": [],
   "source": [
    "fmriprep_path = workflow_out_dir / 'data'\n",
    "rawdata_path = workflow_out_dir / 'raw_data'"
   ]
  },
  {
   "cell_type": "code",
   "execution_count": 4,
   "id": "5dabc0fb-3b56-4f65-875b-9b9ce37da3a4",
   "metadata": {},
   "outputs": [],
   "source": [
    "@pydra.mark.task\n",
    "@pydra.mark.annotate(\n",
    "    {\n",
    "        'rawdata_url': str,\n",
    "        'fmriprep_url': str,\n",
    "        'return': {'event_list': MultiOutputFile, \n",
    "                   'img_list': MultiOutputFile, \n",
    "                   'mask_list': MultiOutputFile, \n",
    "                  },\n",
    "    }\n",
    ")\n",
    "def get_data(rawdata_url, fmriprep_url):\n",
    "    print(\"Download data...\")\n",
    "    t1 = datetime.datetime.now()\n",
    "    print(t1)\n",
    "    import datalad.api as dl\n",
    "    fmriprep_path = workflow_dir / '7_glm'/ 'data'\n",
    "    rawdata_path = workflow_dir / '7_glm' / 'raw_data'\n",
    "    \n",
    "    # Install datasets to specific datapaths\n",
    "    dl.install(source=rawdata_url, path=fmriprep_path)\n",
    "    dl.install(source=fmriprep_url, path=rawdata_path)\n",
    "    \n",
    "    # get events.tsv list\n",
    "    event_list = glob.glob(os.path.join(rawdata_path, '*', 'func', '*events.tsv'))\n",
    "    event_list.sort()\n",
    "    for i in event_list:\n",
    "        dl.get(i, dataset=rawdata_path)\n",
    "    # get img list\n",
    "    img_list = glob.glob(os.path.join(fmriprep_path, '*', 'func', '*space-MNI152NLin2009cAsym_res-2_desc-preproc_bold.nii.gz'))\n",
    "    img_list.sort()\n",
    "    for i in img_list:\n",
    "        dl.get(i, dataset=fmriprep_path)\n",
    "    # get img list\n",
    "    mask_list = glob.glob(os.path.join(fmriprep_path, '*', 'func', '*space-MNI152NLin2009cAsym_res-2_desc-brain_mask.nii.gz'))\n",
    "    mask_list.sort()\n",
    "    for i in mask_list:\n",
    "        dl.get(i, dataset=fmriprep_path)\n",
    "    # get confounds list\n",
    "    confound_list = glob.glob(os.path.join(fmriprep_path, '*', 'func', '*desc-confounds_timeseries.tsv'))\n",
    "    confound_list.sort()\n",
    "    for i in mask_list:\n",
    "        dl.get(i, dataset=fmriprep_path)\n",
    "    \n",
    "    return event_list, img_list, mask_list"
   ]
  },
  {
   "cell_type": "markdown",
   "id": "8afb2990-9b66-4ddc-ad7f-d9e573877257",
   "metadata": {},
   "source": [
    "## First-Level GLM\n",
    "\n",
    "We conduct the first level GLM for each run on every subject."
   ]
  },
  {
   "cell_type": "markdown",
   "id": "5efe11a1-4da8-4691-ac7e-32257b3f34d7",
   "metadata": {},
   "source": [
    "### Get events, preproc_bold, and masks for each subject\n",
    "\n",
    "each subject will have a list of three (run) of those files"
   ]
  },
  {
   "cell_type": "code",
   "execution_count": 5,
   "id": "10f04869-993a-41b4-9cce-fea2407e0127",
   "metadata": {},
   "outputs": [],
   "source": [
    "@pydra.mark.task\n",
    "@pydra.mark.annotate(\n",
    "    {\n",
    "        'subj_id': int,\n",
    "        'n_run': int,\n",
    "        'event_list': list, \n",
    "        'img_list': list, \n",
    "        'mask_list': list,\n",
    "        'return': {'subj_id': int, 'subj_events': list, 'subj_imgs':list, 'subj_masks':list},\n",
    "    }\n",
    ")\n",
    "def get_subj_file(subj_id, n_run, event_list, img_list, mask_list):\n",
    "    print(f\"\\nGet subject-{subj_id+1} file...\\n\")\n",
    "    # subj_id starts from 0\n",
    "    start = subj_id*n_run\n",
    "    end = (subj_id+1)*n_run\n",
    "    subj_events = event_list[start:end]\n",
    "    subj_imgs = img_list[start:end]\n",
    "    subj_masks = mask_list[start:end]\n",
    "    return subj_id, subj_events, subj_imgs, subj_masks"
   ]
  },
  {
   "cell_type": "markdown",
   "id": "83636911-1090-49f6-a36e-c88588ad24e6",
   "metadata": {},
   "source": [
    "### Get the first-level design matrix\n",
    "\n",
    "The design matrix is a _M(row)_ x _N(columns)_ matrix. _M_ corresponds to the number of _tr_, while _N_ corresponds to event conditions + confounds."
   ]
  },
  {
   "cell_type": "code",
   "execution_count": 6,
   "id": "1a4f6669-1092-4da2-80fa-375c849952d3",
   "metadata": {},
   "outputs": [],
   "source": [
    "@pydra.mark.task\n",
    "@pydra.mark.annotate(\n",
    "    {\n",
    "        'tr': float,\n",
    "        'n_scans': int,\n",
    "        'hrf_model': str,\n",
    "        'subj_id': int,\n",
    "        'subj_imgs': list,\n",
    "        'subj_events':list,\n",
    "        'return': {'design_matrices': list, 'dm_paths':list},\n",
    "    }\n",
    ")\n",
    "def get_firstlevel_dm(tr, n_scans, hrf_model, subj_id, subj_imgs, subj_events):\n",
    "    print(f\"\\nGet subject-{subj_id+1} firstlevel GLM ...\\n\")\n",
    "    import numpy as np\n",
    "    import pandas as pd\n",
    "    from nilearn.glm.first_level import make_first_level_design_matrix\n",
    "    from nilearn.interfaces.fmriprep import load_confounds_strategy\n",
    "    # read event file\n",
    "    events = []\n",
    "    imgs = []\n",
    "    for run_event in subj_events:\n",
    "        event = pd.read_csv(run_event, sep='\\t').fillna(0)\n",
    "        event = event[['onset', 'duration', 'trial_type']]\n",
    "        events.append(event)\n",
    "    \n",
    "    # get list of confounds directly from fmriprepped bold\n",
    "    confounds = load_confounds_strategy(subj_imgs, denoise_strategy='simple')[0]\n",
    "    \n",
    "    frame_times = np.arange(n_scans) * tr\n",
    "    design_matrices = []\n",
    "    dm_paths = []\n",
    "    for index, (ev, conf) in enumerate(zip(events, confounds)):\n",
    "        design_matrix = make_first_level_design_matrix(frame_times, ev, \n",
    "                                                       hrf_model=hrf_model,\n",
    "                                                       add_regs=conf)          \n",
    "        \n",
    "        # make sure all design matrices have the same length of column\n",
    "        # if you have a block design, this is not needed.\n",
    "        # 39 = 4(events) + 34(confounds) + 13(drift) + 1(constant)\n",
    "        assert design_matrix.shape[1] == 52, \"This design matrix has the wrong column number\"\n",
    "        # sort the column order alphabetical for contrasts\n",
    "        design_matrix = design_matrix.reindex(sorted(design_matrix.columns), axis=1)\n",
    "        dm_path = os.path.join(workflow_out_dir, 'sub-%s_run-%s_designmatrix.csv' % (subj_id+1, index+1))\n",
    "        design_matrix.to_csv(dm_path, index=None)\n",
    "        design_matrices.append(design_matrix)\n",
    "        dm_paths.append(dm_path)\n",
    "    return design_matrices, dm_paths"
   ]
  },
  {
   "cell_type": "markdown",
   "id": "9a8a6d71-2c84-4587-8b79-e3012faea946",
   "metadata": {},
   "source": [
    "### Set up the first-level contrasts"
   ]
  },
  {
   "cell_type": "code",
   "execution_count": 7,
   "id": "6bea4d73-93cd-4929-86c1-76c4c89fb9bc",
   "metadata": {},
   "outputs": [],
   "source": [
    "@pydra.mark.task\n",
    "@pydra.mark.annotate(\n",
    "    {\n",
    "        'subj_id': int,\n",
    "        'design_matrices': list,\n",
    "        'return': {'contrasts': dict},\n",
    "    }\n",
    ")\n",
    "def set_contrast(subj_id, design_matrices):\n",
    "    t1 = datetime.datetime.now()\n",
    "    print(f\"\\nSet firstlevel contrast for subject-{subj_id+1} ...\\n\")\n",
    "    \n",
    "    import pandas as pd\n",
    "    import numpy as np\n",
    "    \n",
    "    design_matrix = design_matrices[0]\n",
    "    contrast_matrix = np.eye(design_matrix.shape[1])\n",
    "    basic_contrasts = dict([(column, contrast_matrix[i])\n",
    "                      for i, column in enumerate(design_matrix.columns)])\n",
    "    contrasts = {\n",
    "        'pumps-control': basic_contrasts['pumps_demean'] - basic_contrasts['control_pumps_demean'],\n",
    "        'control-pumps': -basic_contrasts['control_pumps_demean'] + basic_contrasts['pumps_demean'],\n",
    "        'pumps-baseline': basic_contrasts['pumps_demean'],\n",
    "        'cash-baseline': basic_contrasts['cash_demean'],\n",
    "        'explode-baseline': basic_contrasts['explode_demean']\n",
    "        }\n",
    "    return contrasts"
   ]
  },
  {
   "cell_type": "markdown",
   "id": "547b2360-48bc-486b-8d4c-c85ae347848e",
   "metadata": {},
   "source": [
    "### Fit the first level GLM with fixed-effects"
   ]
  },
  {
   "cell_type": "code",
   "execution_count": 8,
   "id": "026781b0-cfa9-40b9-a3e0-004da0a98a68",
   "metadata": {},
   "outputs": [],
   "source": [
    "@pydra.mark.task\n",
    "@pydra.mark.annotate(\n",
    "    {\n",
    "        'subj_id': int,\n",
    "        'subj_imgs': MultiInputFile,\n",
    "        'subj_masks': MultiInputFile,\n",
    "        'smoothing_fwhm': float,\n",
    "        'design_matrices': list,\n",
    "        'contrasts':dict,\n",
    "        'return': {'z_map_path_dict': dict},\n",
    "    }\n",
    ")\n",
    "def firstlevel_estimation(subj_id, subj_imgs, subj_masks, smoothing_fwhm, design_matrices, contrasts):\n",
    "    print(f\"\\nStart firstlevel estimation for subject-{subj_id+1} ...\\n\")\n",
    "    import nibabel as nib\n",
    "    from nilearn.image import math_img\n",
    "    from nilearn.glm.first_level import FirstLevelModel\n",
    "    print('Compute firstlevel mask...')\n",
    "    # average mask across three runs\n",
    "    mean_mask = math_img('np.mean(img, axis=-1)', img=subj_masks)\n",
    "    # binarize the mean mask\n",
    "    mask = math_img('img > 0', img=mean_mask)\n",
    "    print('Fit the firstlevel model...')\n",
    "    # fit the (fixed-effects) firstlevel model with three runs simultaneously\n",
    "    first_level_model = FirstLevelModel(mask_img=mask, smoothing_fwhm=smoothing_fwhm)\n",
    "    first_level_model = first_level_model.fit(subj_imgs, design_matrices=design_matrices)\n",
    "    \n",
    "    print('Computing contrasts...')\n",
    "    z_map_path_dict = dict.fromkeys(contrasts.keys())\n",
    "    for index, (contrast_id, contrast_val) in enumerate(contrasts.items()):\n",
    "        print('  Contrast % 2i out of %i: %s' % (\n",
    "            index + 1, len(contrasts), contrast_id))\n",
    "        # Estimate the contasts. Note that the model implicitly computes a fixed\n",
    "        # effect across the two sessions\n",
    "        z_map = first_level_model.compute_contrast(\n",
    "            contrast_val, output_type='z_score')\n",
    "\n",
    "        # write the resulting stat images to file\n",
    "        z_map_path = os.path.join(workflow_out_dir, 'sub-%s_contrast-%s_z_map.nii.gz' % (subj_id+1, contrast_id))\n",
    "        z_map_path_dict[contrast_id] = z_map_path\n",
    "        z_map.to_filename(z_map_path)\n",
    "    return z_map_path_dict"
   ]
  },
  {
   "cell_type": "markdown",
   "id": "3d7b6eaa-53d8-4af2-8459-dc94e1ac8621",
   "metadata": {},
   "source": [
    "### Create the first-level GLM workflow"
   ]
  },
  {
   "cell_type": "code",
   "execution_count": 9,
   "id": "1ea7f051-7ce8-4339-be56-9881272c75ea",
   "metadata": {},
   "outputs": [],
   "source": [
    "# initiate the first-level GLM workflow\n",
    "wf_firstlevel = Workflow(\n",
    "    name='wf_firstlevel',\n",
    "    input_spec=[\n",
    "        'subj_id',\n",
    "        'n_run',\n",
    "        'tr',\n",
    "        'n_scans',\n",
    "        'hrf_model',\n",
    "        'event_list', \n",
    "        'img_list', \n",
    "        'mask_list',\n",
    "        'smoothing_fwhm',\n",
    "        'output_dir'\n",
    "    ],\n",
    ")\n",
    "\n",
    "wf_firstlevel.split('subj_id')\n",
    "# add task - get_subj_file\n",
    "wf_firstlevel.add(\n",
    "    get_subj_file(\n",
    "        name = \"get_subj_file\",\n",
    "        subj_id = wf_firstlevel.lzin.subj_id, \n",
    "        n_run = wf_firstlevel.lzin.n_run, \n",
    "        event_list = wf_firstlevel.lzin.event_list, \n",
    "        img_list = wf_firstlevel.lzin.img_list, \n",
    "        mask_list = wf_firstlevel.lzin.mask_list\n",
    "    )\n",
    ")\n",
    "\n",
    "# add task - get_firstlevel_dm\n",
    "wf_firstlevel.add(\n",
    "    get_firstlevel_dm(\n",
    "        name = \"get_firstlevel_dm\",\n",
    "        tr = wf_firstlevel.lzin.tr, \n",
    "        n_scans = wf_firstlevel.lzin.n_scans, \n",
    "        hrf_model = wf_firstlevel.lzin.hrf_model, \n",
    "        subj_id = wf_firstlevel.get_subj_file.lzout.subj_id, \n",
    "        subj_imgs = wf_firstlevel.get_subj_file.lzout.subj_imgs, \n",
    "        subj_events = wf_firstlevel.get_subj_file.lzout.subj_events, \n",
    "    )\n",
    ")\n",
    "\n",
    "# add task - set_contrast\n",
    "wf_firstlevel.add(\n",
    "    set_contrast(\n",
    "        name = \"set_contrast\",\n",
    "        subj_id = wf_firstlevel.get_subj_file.lzout.subj_id,\n",
    "        design_matrices = wf_firstlevel.get_firstlevel_dm.lzout.design_matrices\n",
    "    )\n",
    ")\n",
    "\n",
    "# add task - firstlevel_estimation\n",
    "wf_firstlevel.add(\n",
    "    firstlevel_estimation(\n",
    "        name = \"firstlevel_estimation\",\n",
    "        subj_id = wf_firstlevel.get_subj_file.lzout.subj_id, \n",
    "        subj_imgs = wf_firstlevel.get_subj_file.lzout.subj_imgs, \n",
    "        subj_masks = wf_firstlevel.get_subj_file.lzout.subj_masks, \n",
    "        smoothing_fwhm = wf_firstlevel.lzin.smoothing_fwhm, \n",
    "        design_matrices = wf_firstlevel.get_firstlevel_dm.lzout.design_matrices, \n",
    "        contrasts = wf_firstlevel.set_contrast.lzout.contrasts\n",
    "    )\n",
    ")\n",
    "\n",
    "wf_firstlevel.combine('subj_id')\n",
    "# specify output\n",
    "wf_firstlevel.set_output(\n",
    "    [\n",
    "        ('first_level_contrast', wf_firstlevel.set_contrast.lzout.contrasts),\n",
    "        ('first_level_z_map_list', wf_firstlevel.firstlevel_estimation.lzout.z_map_path_dict),\n",
    "    ]\n",
    ")"
   ]
  },
  {
   "cell_type": "markdown",
   "id": "2c37f45f-2a57-4226-8e5c-fd58e3389a49",
   "metadata": {},
   "source": [
    "## Second-Level GLM\n",
    "\n",
    "The second-level estimation contains the following steps:\n",
    "- construct design matrix\n",
    "- fit the second-level GLM\n",
    "- statistical testing"
   ]
  },
  {
   "cell_type": "markdown",
   "id": "061f24f0-213a-41d2-a262-2c1183596ad4",
   "metadata": {
    "tags": []
   },
   "source": [
    "### Get second-level design matrix\n",
    "\n",
    "This is a one-group design. So we need a design matrix for a one-sample test.\n",
    "\n",
    "The design matrix is a single column of ones, corresponding to the model intercept."
   ]
  },
  {
   "cell_type": "code",
   "execution_count": 10,
   "id": "c14b6ee5-892e-4ca0-9ead-f13ddebc7b47",
   "metadata": {},
   "outputs": [],
   "source": [
    "@pydra.mark.task\n",
    "@pydra.mark.annotate(\n",
    "    {'n_subj': int, 'return': {'design_matrix': ty.Any}}\n",
    ")\n",
    "def get_secondlevel_dm(n_subj):\n",
    "    t1 = datetime.datetime.now()\n",
    "    print(f\"\\nGet secondlevel design matrix ...\\n\")\n",
    "    import pandas as pd\n",
    "    design_matrix = pd.DataFrame([1] * n_subj,columns=['intercept'])\n",
    "    return design_matrix"
   ]
  },
  {
   "cell_type": "markdown",
   "id": "a0648e6e-e96f-4626-b0d0-8259001b0eb6",
   "metadata": {},
   "source": [
    "### Fit the second level GLM\n",
    "\n",
    "Here, we use the list of FirstLevel z-maps as the input for the SecondLevelModel."
   ]
  },
  {
   "cell_type": "code",
   "execution_count": 11,
   "id": "6547b8b3-cb5f-408c-bd12-11ab2fd1b856",
   "metadata": {},
   "outputs": [],
   "source": [
    "@pydra.mark.task\n",
    "@pydra.mark.annotate(\n",
    "    {'firstlevel_zmap_list': list, 'design_matrix': ty.Any, 'firstlevel_contrast':list, \n",
    "     'return': {'secondlevel_mask': ty.Any, 'stat_maps_dict': dict}}\n",
    ")\n",
    "def secondlevel_estimation(firstlevel_zmap_list, design_matrix, firstlevel_contrast):\n",
    "    import nibabel as nib\n",
    "    from nilearn.glm.second_level import SecondLevelModel\n",
    "    print(f\"\\nStart secondlevel estimation ...\\n\")\n",
    "    stat_maps_dict = dict.fromkeys(firstlevel_contrast[0].keys())\n",
    "    for index, (contrast_id, contrast_val) in enumerate(firstlevel_contrast[0].items()):\n",
    "        print(' Contrast % 2i out of %i: %s' % (\n",
    "            index + 1, len(firstlevel_contrast[0]), contrast_id))\n",
    "        second_level_input = [nib.load(z_map_dict[contrast_id]) for z_map_dict in firstlevel_zmap_list]\n",
    "        \n",
    "        second_level_model = SecondLevelModel()\n",
    "        second_level_model = second_level_model.fit(second_level_input, design_matrix=design_matrix)\n",
    "        secondlevel_mask = second_level_model.masker_.mask_img_\n",
    "    \n",
    "        stats = second_level_model.compute_contrast(output_type='all')\n",
    "        # write the resulting stat images to file\n",
    "        z_image_path = os.path.join(workflow_out_dir, 'secondlevel_contrast-%s_z_map.nii.gz' % contrast_id)\n",
    "        stat_maps_dict[contrast_id] = stats\n",
    "        stats['z_score'].to_filename(z_image_path)\n",
    "    return secondlevel_mask, stat_maps_dict"
   ]
  },
  {
   "cell_type": "markdown",
   "id": "10c4126c-890f-4239-93e1-5ef0cb1f8d44",
   "metadata": {},
   "source": [
    "### Create the second-level GLM workflow"
   ]
  },
  {
   "cell_type": "code",
   "execution_count": 12,
   "id": "958ad1f1-05be-4c60-843d-aec2cf999b6c",
   "metadata": {},
   "outputs": [],
   "source": [
    "# initiate the first-level GLM workflow\n",
    "wf_secondlevel = Workflow(\n",
    "    name='wf_secondlevel',\n",
    "    input_spec=[\n",
    "        'n_subj',\n",
    "        'firstlevel_zmap_list', \n",
    "        'firstlevel_contrast',\n",
    "        'n_perm',\n",
    "    ],\n",
    ")\n",
    "\n",
    "# add task - get_secondlevel_dm\n",
    "wf_secondlevel.add(\n",
    "    get_secondlevel_dm(\n",
    "        name = \"get_secondlevel_dm\",\n",
    "        n_subj = wf_secondlevel.lzin.n_subj, \n",
    "    )\n",
    ")\n",
    "\n",
    "# add task - secondlevel_estimation\n",
    "wf_secondlevel.add(\n",
    "    secondlevel_estimation(\n",
    "        name = \"secondlevel_estimation\",\n",
    "        firstlevel_zmap_list = wf_secondlevel.lzin.firstlevel_zmap_list,  \n",
    "        design_matrix = wf_secondlevel.get_secondlevel_dm.lzout.design_matrix, \n",
    "        firstlevel_contrast = wf_secondlevel.lzin.firstlevel_contrast\n",
    "    )\n",
    ")\n",
    "\n",
    "# specify output\n",
    "wf_secondlevel.set_output(\n",
    "    [\n",
    "        ('second_level_designmatrix', wf_secondlevel.get_secondlevel_dm.lzout.design_matrix),\n",
    "        ('second_level_mask', wf_secondlevel.secondlevel_estimation.lzout.secondlevel_mask),\n",
    "        ('second_level_stats_map', wf_secondlevel.secondlevel_estimation.lzout.stat_maps_dict)\n",
    "    ]\n",
    ")"
   ]
  },
  {
   "cell_type": "markdown",
   "id": "bce06fb3-e7eb-45ba-aaea-08928a166c82",
   "metadata": {},
   "source": [
    "## Statistical Testing\n",
    "\n",
    "In this section, we present different ways of doing statistical testing\n",
    "\n",
    "1. Cluster-thresholding without multiple comparison\n",
    "2. Multiple comparison using FDR\n",
    "3. Paramatric testing\n",
    "4. Nonparamatric testing"
   ]
  },
  {
   "cell_type": "markdown",
   "id": "309f9be0-cbd1-434f-be2f-02b8a36274ce",
   "metadata": {},
   "source": [
    "### Cluster-thresholding and Plot without multiple comparison\n",
    "\n",
    "Threshold the resulting map without multiple comparisons correction, abs(z) > 3.29 (equivalent to p < 0.001), cluster size > 10 voxels."
   ]
  },
  {
   "cell_type": "code",
   "execution_count": 13,
   "id": "8110f2e6-77e1-41f4-9484-42b154ca0360",
   "metadata": {},
   "outputs": [],
   "source": [
    "@pydra.mark.task\n",
    "@pydra.mark.annotate(\n",
    "    {'stat_maps_dict': dict, 'threshold': float, 'cluster_threshold': int, \n",
    "     'return': {'thresholded_map_dict': dict, 'plot_contrast_dict': dict}}\n",
    ")\n",
    "def cluster_thresholding(stat_maps_dict, threshold, cluster_threshold):\n",
    "    t1 = datetime.datetime.now()\n",
    "    print(\"\\nStart cluster thresholding ...\\n\")\n",
    "    from nilearn.image import threshold_img\n",
    "    from nilearn.plotting import plot_stat_map\n",
    "    thresholded_map_dict = dict.fromkeys(stat_maps_dict.keys())\n",
    "    plot_contrast_dict = dict.fromkeys(stat_maps_dict.keys())\n",
    "    for index, (stats_id, stats_val) in enumerate(stat_maps_dict.items()):\n",
    "        print('Contrast % 2i out of %i: %s' % (\n",
    "            index + 1, len(stat_maps_dict), stats_id))\n",
    "        thresholded_map = threshold_img(\n",
    "            img = stats_val['z_score'],\n",
    "            threshold=threshold,\n",
    "            cluster_threshold=cluster_threshold,\n",
    "            two_sided=True,\n",
    "        )\n",
    "        thresholded_map_path = os.path.join(workflow_out_dir, 'secondlevel_cluster_thresholded_contrast-%s_z_map.nii.gz' % stats_id)\n",
    "        thresholded_map_dict[stats_id] = thresholded_map_path\n",
    "        thresholded_map.to_filename(thresholded_map_path)\n",
    "        plot_path = os.path.join(workflow_out_dir, \n",
    "                                   'secondlevel_cluster_thresholded_contrast-%s_zmap.jpg' % stats_id)\n",
    "        plot_contrast_dict[stats_id] = plot_path\n",
    "        plot_stat_map(thresholded_map,\n",
    "                               title='Cluster Thresholded z map',\n",
    "                               output_file=plot_path)\n",
    "    print(\"\\nCluster thresholding is done\")\n",
    "    return thresholded_map_dict, plot_contrast_dict"
   ]
  },
  {
   "cell_type": "markdown",
   "id": "9aca1bef-b4c8-43b4-b727-88843730d53c",
   "metadata": {},
   "source": [
    "### Multiple comparison and Plot\n",
    "\n",
    "We have the following choices:\n",
    "- `fdr`: False Discovery Rate (FDR <.05) and no cluster-level threshold\n",
    "- `fpr`: False Positive Rate\n",
    "- `bonferroni`\n",
    "\n",
    "More details see [here](https://nilearn.github.io/stable/modules/generated/nilearn.glm.threshold_stats_img.html#nilearn.glm.threshold_stats_img)"
   ]
  },
  {
   "cell_type": "code",
   "execution_count": 14,
   "id": "29f56355-4f0b-45e3-9d68-625726609693",
   "metadata": {},
   "outputs": [],
   "source": [
    "@pydra.mark.task\n",
    "@pydra.mark.annotate(\n",
    "    {'stat_maps_dict': dict, 'alpha': float, 'height_control': str, \n",
    "     'return': {'thresholded_map_dict': dict, 'plot_contrast_dict': dict}}\n",
    ")\n",
    "def multiple_comparison(stat_maps_dict, alpha, height_control):\n",
    "    print(\"\\nStart multiple comparison ...\\n\")\n",
    "    from nilearn.glm import threshold_stats_img\n",
    "    from nilearn.plotting import plot_stat_map\n",
    "    thresholded_map_dict = dict.fromkeys(stat_maps_dict.keys())\n",
    "    plot_contrast_dict = dict.fromkeys(stat_maps_dict.keys())\n",
    "    for index, (stats_id, stats_val) in enumerate(stat_maps_dict.items()):\n",
    "        print('Contrast % 2i out of %i: %s' % (\n",
    "            index + 1, len(stat_maps_dict), stats_id))\n",
    "        thresholded_map, threshold = threshold_stats_img(\n",
    "            stat_img=stats_val['z_score'], \n",
    "            alpha=alpha, \n",
    "            height_control=height_control)\n",
    "        thresholded_map_path = os.path.join(workflow_out_dir, \n",
    "                                         'secondlevel_multiple_comp_corrected_contrast-%s_z_map.nii.gz' % stats_id)\n",
    "        thresholded_map_dict[stats_id] = thresholded_map_path\n",
    "        thresholded_map.to_filename(thresholded_map_path)\n",
    "        plot_path = os.path.join(workflow_out_dir, \n",
    "                                   'secondlevel_multiple_comp_corrected_contrast-%s_zmap.jpg' % stats_id)\n",
    "        plot_contrast_dict[stats_id] = plot_path\n",
    "        plot_stat_map(thresholded_map,\n",
    "                      title='Thresholded z map, expected fdr = .05',\n",
    "                      threshold=threshold, \n",
    "                      output_file=plot_path)\n",
    "    print(\"\\nMultiple comparison is done\")\n",
    "    return thresholded_map_dict, plot_contrast_dict"
   ]
  },
  {
   "cell_type": "markdown",
   "id": "78bf41ea-317d-435a-a19d-5ab8930a6838",
   "metadata": {},
   "source": [
    "### Paramatric test & Plot\n",
    "\n",
    "We threshold the second level contrast at uncorrected p < 0.001.\n",
    "\n",
    "A nilearn example see [here](https://nilearn.github.io/dev/auto_examples/05_glm_second_level/plot_second_level_one_sample_test.html)"
   ]
  },
  {
   "cell_type": "code",
   "execution_count": 15,
   "id": "e179490b-b20b-4a4a-bdb0-b31ed1158db9",
   "metadata": {},
   "outputs": [],
   "source": [
    "@pydra.mark.task\n",
    "@pydra.mark.annotate(\n",
    "    {'stat_maps_dict': dict, \n",
    "     'secondlevel_mask': ty.Any,\n",
    "     'return': {'thresholded_map_dict': dict, 'plot_contrast_dict': dict}}\n",
    ")\n",
    "def parametric_test(stat_maps_dict, secondlevel_mask):\n",
    "    print(\"\\nStart parametric test ...\\n\")\n",
    "    import numpy as np\n",
    "    from nilearn.image import get_data, math_img\n",
    "    from nilearn.plotting import plot_stat_map\n",
    "    thresholded_map_dict = dict.fromkeys(stat_maps_dict.keys())\n",
    "    plot_contrast_dict = dict.fromkeys(stat_maps_dict.keys())\n",
    "    for index, (stats_id, stats_val) in enumerate(stat_maps_dict.items()):\n",
    "        print('Contrast % 2i out of %i: %s' % (\n",
    "            index + 1, len(stat_maps_dict), stats_id))\n",
    "        p_val = stats_val['p_value']\n",
    "        n_voxels = np.sum(get_data(secondlevel_mask))\n",
    "        # Correcting the p-values for multiple testing and taking negative logarithm\n",
    "        neg_log_pval = math_img(\"-np.log10(np.minimum(1, img * {}))\"\n",
    "                                .format(str(n_voxels)),\n",
    "                                img=p_val)\n",
    "        \n",
    "        thresholded_map_path = os.path.join(workflow_out_dir, 'secondlevel_paramatric_thresholded_contrast-%s_z_map.nii.gz' % stats_id)\n",
    "        thresholded_map_dict[stats_id] = thresholded_map_path\n",
    "        neg_log_pval.to_filename(thresholded_map_path)\n",
    "    \n",
    "        # Since we are plotting negative log p-values and using a threshold equal to 1,\n",
    "        # it corresponds to corrected p-values lower than 10%, meaning that there is\n",
    "        # less than 10% probability to make a single false discovery (90% chance that\n",
    "        # we make no false discovery at all).  This threshold is much more conservative\n",
    "        # than the previous one.\n",
    "        title = ('parametric test (FWER < 10%)')\n",
    "        plot_path = os.path.join(workflow_out_dir, \n",
    "                                   'secondlevel_paramatric_thresholded_contrast-%s_zmap.jpg' % stats_id)\n",
    "        plot_contrast_dict[stats_id] = plot_path\n",
    "        plot_stat_map(\n",
    "            neg_log_pval, colorbar=True,\n",
    "            title=title, output_file=plot_path)\n",
    "    print(\"\\nParametric test is done\")\n",
    "    return thresholded_map_dict, plot_contrast_dict"
   ]
  },
  {
   "cell_type": "markdown",
   "id": "7e02d70a-6e04-407c-84f8-ba824c8b991d",
   "metadata": {},
   "source": [
    "### Non-paramatric test & Plot\n",
    "\n",
    "Here we compute the (corrected) negative log p-values with permutation test."
   ]
  },
  {
   "cell_type": "code",
   "execution_count": 16,
   "id": "de714c06-472f-49d0-a7d1-079007211085",
   "metadata": {},
   "outputs": [],
   "source": [
    "@pydra.mark.task\n",
    "@pydra.mark.annotate(\n",
    "    {'firstlevel_zmap_list': list, 'smoothing_fwhm':float,'design_matrix': ty.Any, 'firstlevel_contrast': list, 'n_perm': int, \n",
    "     'return': {'thresholded_map_dict': dict, 'plot_contrast_dict': dict}}\n",
    ")\n",
    "def nonparametric_test(firstlevel_zmap_list, smoothing_fwhm, design_matrix, firstlevel_contrast, n_perm):\n",
    "    print(f\"\\nStart nonparametric test ...\\n\")\n",
    "    import nibabel as nib\n",
    "    from nilearn.glm.second_level import non_parametric_inference\n",
    "    from nilearn.plotting import plot_stat_map\n",
    "    thresholded_map_dict = dict.fromkeys(firstlevel_contrast[0].keys())\n",
    "    plot_contrast_dict = dict.fromkeys(firstlevel_contrast[0].keys())\n",
    "    for index, (contrast_id, contrast_val) in enumerate(firstlevel_contrast[0].items()):\n",
    "        print('  Contrast % 2i out of %i: %s' % (\n",
    "            index + 1, len(firstlevel_contrast[0]), contrast_id))\n",
    "        # here we set threshold as none to do voxel-level FWER-correction.\n",
    "        second_level_input = [nib.load(z_map_dict[contrast_id]) for z_map_dict in firstlevel_zmap_list]\n",
    "        neg_log_pvals_permuted_ols_unmasked = \\\n",
    "            non_parametric_inference(second_level_input=second_level_input, design_matrix=design_matrix,\n",
    "                                     model_intercept=True, n_perm=n_perm,\n",
    "                                     two_sided_test=False, smoothing_fwhm=smoothing_fwhm, n_jobs=1)\n",
    "        thresholded_map_path = os.path.join(workflow_out_dir, 'secondlevel_permutation_contrast-%s_z_map.nii.gz' % contrast_id)\n",
    "        thresholded_map_dict[contrast_id] = thresholded_map_path\n",
    "        neg_log_pvals_permuted_ols_unmasked.to_filename(thresholded_map_path)\n",
    "        # here I actually have more than one contrast\n",
    "        title = ('permutation test (FWER < 10%)')\n",
    "        plot_path = os.path.join(workflow_out_dir, 'secondlevel_permutation_contrast-%s_zmap.jpg' % contrast_id)\n",
    "        plot_contrast_dict[contrast_id] = plot_path\n",
    "        plot_stat_map(\n",
    "            neg_log_pvals_permuted_ols_unmasked, colorbar=True, \n",
    "            title=title, output_file=plot_path)\n",
    "    print(\"\\nPermutation is done\")\n",
    "    return thresholded_map_dict, plot_contrast_dict"
   ]
  },
  {
   "cell_type": "markdown",
   "id": "4a5b3512-953b-4c68-a166-c3dd7059cb04",
   "metadata": {},
   "source": [
    "## The Ultimate Workflow\n",
    "\n",
    "Now, let's connect all tasks and workflows together.\n",
    "\n",
    "Here we randomly choose **5** subjects to perform the analysis. \n",
    "\n",
    "For computational time, we set `n_perm=`."
   ]
  },
  {
   "cell_type": "code",
   "execution_count": 17,
   "id": "d4d51840-f8dd-4c99-9f53-6dd41aa55afe",
   "metadata": {},
   "outputs": [],
   "source": [
    "wf = Workflow(\n",
    "    name='twolevel_glm',\n",
    "    input_spec=['subj_id', 'rawdata_url', 'fmriprep_url'],\n",
    ")\n",
    "\n",
    "wf.inputs.rawdata_url = 'https://github.com/OpenNeuroDerivatives/ds000001-fmriprep.git'\n",
    "wf.inputs.fmriprep_url = 'https://github.com/OpenNeuroDatasets/ds000001.git'\n",
    "\n",
    "wf.add(\n",
    "    get_data(\n",
    "        name = \"get_data\",\n",
    "        rawdata_url = wf.lzin.rawdata_url, \n",
    "        fmriprep_url = wf.lzin.fmriprep_url)\n",
    ")\n",
    "\n",
    "n_subj = 5\n",
    "\n",
    "\n",
    "# randomly choose subjects\n",
    "wf_firstlevel.inputs.subj_id = random.sample(range(16), n_subj)\n",
    "wf_firstlevel.inputs.n_run = 3\n",
    "wf_firstlevel.inputs.tr = 2.3\n",
    "wf_firstlevel.inputs.n_scans = 300\n",
    "wf_firstlevel.inputs.hrf_model = 'glover'\n",
    "wf_firstlevel.inputs.event_list = wf.get_data.lzout.event_list\n",
    "wf_firstlevel.inputs.img_list = wf.get_data.lzout.img_list\n",
    "wf_firstlevel.inputs.mask_list = wf.get_data.lzout.mask_list\n",
    "wf_firstlevel.inputs.smoothing_fwhm = 5.0\n",
    "wf.add(wf_firstlevel)\n",
    "\n",
    "wf_secondlevel.inputs.n_subj = n_subj\n",
    "wf_secondlevel.inputs.firstlevel_zmap_list = wf.wf_firstlevel.lzout.first_level_z_map_list \n",
    "wf_secondlevel.inputs.firstlevel_contrast = wf.wf_firstlevel.lzout.first_level_contrast\n",
    "wf.add(wf_secondlevel)\n",
    "\n",
    "# add task - cluster_thresholding\n",
    "wf.add(\n",
    "    cluster_thresholding(\n",
    "        name = \"cluster_thresholding\",\n",
    "        stat_maps_dict = wf.wf_secondlevel.lzout.second_level_stats_map, \n",
    "        threshold = 3.29, \n",
    "        cluster_threshold = 10\n",
    "    )\n",
    ")\n",
    "\n",
    "\n",
    "# add task - multiple_comparison\n",
    "wf.add(\n",
    "    multiple_comparison(\n",
    "        name = \"multiple_comparison\",\n",
    "        stat_maps_dict = wf.wf_secondlevel.lzout.second_level_stats_map, \n",
    "        alpha = 0.05,\n",
    "        height_control = 'fdr'\n",
    "    )\n",
    ")\n",
    "\n",
    "# add task - parametric_test\n",
    "wf.add(\n",
    "    parametric_test(\n",
    "        name = \"parametric_test\",\n",
    "        stat_maps_dict =  wf.wf_secondlevel.lzout.second_level_stats_map, \n",
    "        secondlevel_mask = wf.wf_secondlevel.lzout.second_level_mask\n",
    "    )\n",
    "    \n",
    ")\n",
    "\n",
    "# add task - nonparametric_test\n",
    "wf.add(\n",
    "    nonparametric_test(\n",
    "        name = \"nonparametric_test\",\n",
    "        firstlevel_zmap_list = wf.wf_firstlevel.lzout.first_level_z_map_list,\n",
    "        smoothing_fwhm = 5.0,\n",
    "        design_matrix = wf.wf_secondlevel.lzout.second_level_designmatrix,\n",
    "        firstlevel_contrast = wf.wf_firstlevel.lzout.first_level_contrast,\n",
    "        n_perm = 1,\n",
    "    )\n",
    ")\n",
    "\n",
    "wf.set_output(\n",
    "    [\n",
    "        ('second_level_stats_map', wf.wf_secondlevel.lzout.second_level_stats_map)   \n",
    "    ]\n",
    ")"
   ]
  },
  {
   "cell_type": "code",
   "execution_count": 18,
   "id": "1ea4f822-7acf-4110-87b5-970c973cf239",
   "metadata": {
    "scrolled": true,
    "tags": []
   },
   "outputs": [
    {
     "name": "stdout",
     "output_type": "stream",
     "text": [
      "Download data...\n",
      "2022-08-31 20:58:45.929328\n",
      "\n",
      "Get subject-11 file...\n",
      "\n",
      "Get subject-14 file...\n",
      "\n",
      "Get subject-6 file...\n",
      "\n",
      "\n",
      "\n",
      "\n",
      "Get subject-16 file...\n",
      "\n",
      "Get subject-5 file...\n",
      "\n",
      "\n",
      "\n",
      "Get subject-11 firstlevel GLM ...\n",
      "\n",
      "\n",
      "Get subject-16 firstlevel GLM ...\n",
      "\n",
      "Get subject-5 firstlevel GLM ...\n",
      "\n",
      "\n",
      "\n",
      "Get subject-6 firstlevel GLM ...\n",
      "\n",
      "\n",
      "Get subject-14 firstlevel GLM ...\n",
      "\n"
     ]
    },
    {
     "name": "stderr",
     "output_type": "stream",
     "text": [
      "/Users/yibeichen/miniconda3/envs/pydra/lib/python3.7/site-packages/nilearn/glm/__init__.py:56: FutureWarning: The nilearn.glm module is experimental. It may change in any future release of Nilearn.\n",
      "  'It may change in any future release of Nilearn.', FutureWarning)\n",
      "/Users/yibeichen/miniconda3/envs/pydra/lib/python3.7/site-packages/nilearn/glm/__init__.py:56: FutureWarning: The nilearn.glm module is experimental. It may change in any future release of Nilearn.\n",
      "  'It may change in any future release of Nilearn.', FutureWarning)\n",
      "/Users/yibeichen/miniconda3/envs/pydra/lib/python3.7/site-packages/nilearn/glm/__init__.py:56: FutureWarning: The nilearn.glm module is experimental. It may change in any future release of Nilearn.\n",
      "  'It may change in any future release of Nilearn.', FutureWarning)\n",
      "/Users/yibeichen/miniconda3/envs/pydra/lib/python3.7/site-packages/nilearn/glm/__init__.py:56: FutureWarning: The nilearn.glm module is experimental. It may change in any future release of Nilearn.\n",
      "  'It may change in any future release of Nilearn.', FutureWarning)\n",
      "/Users/yibeichen/miniconda3/envs/pydra/lib/python3.7/site-packages/nilearn/glm/__init__.py:56: FutureWarning: The nilearn.glm module is experimental. It may change in any future release of Nilearn.\n",
      "  'It may change in any future release of Nilearn.', FutureWarning)\n"
     ]
    },
    {
     "name": "stdout",
     "output_type": "stream",
     "text": [
      "\n",
      "Set firstlevel contrast for subject-5 ...\n",
      "\n",
      "\n",
      "Set firstlevel contrast for subject-16 ...\n",
      "\n",
      "\n",
      "Set firstlevel contrast for subject-11 ...\n",
      "\n",
      "\n",
      "Set firstlevel contrast for subject-6 ...\n",
      "\n",
      "\n",
      "Set firstlevel contrast for subject-14 ...\n",
      "\n",
      "\n",
      "Start firstlevel estimation for subject-5 ...\n",
      "\n",
      "Compute firstlevel mask...\n",
      "\n",
      "Start firstlevel estimation for subject-16 ...\n",
      "\n",
      "Compute firstlevel mask...\n",
      "Fit the firstlevel model...\n",
      "Fit the firstlevel model...\n",
      "\n",
      "Start firstlevel estimation for subject-11 ...\n",
      "\n",
      "Start firstlevel estimation for subject-6 ...\n",
      "\n",
      "\n",
      "Compute firstlevel mask...Compute firstlevel mask...\n",
      "\n",
      "\n",
      "Start firstlevel estimation for subject-14 ...\n",
      "\n",
      "Compute firstlevel mask...\n",
      "Fit the firstlevel model...Fit the firstlevel model...\n",
      "\n",
      "Fit the firstlevel model...\n",
      "Computing contrasts...\n",
      "  Contrast  1 out of 5: pumps-control\n"
     ]
    },
    {
     "name": "stderr",
     "output_type": "stream",
     "text": [
      "/Users/yibeichen/miniconda3/envs/pydra/lib/python3.7/site-packages/nilearn/glm/first_level/first_level.py:657: UserWarning: One contrast given, assuming it for all 3 runs\n",
      "  warn('One contrast given, assuming it for all %d runs' % n_runs)\n"
     ]
    },
    {
     "name": "stdout",
     "output_type": "stream",
     "text": [
      "  Contrast  2 out of 5: control-pumps\n",
      "  Contrast  3 out of 5: pumps-baseline\n",
      "  Contrast  4 out of 5: cash-baseline\n",
      "  Contrast  5 out of 5: explode-baseline\n",
      "Computing contrasts...\n",
      "  Contrast  1 out of 5: pumps-control\n"
     ]
    },
    {
     "name": "stderr",
     "output_type": "stream",
     "text": [
      "/Users/yibeichen/miniconda3/envs/pydra/lib/python3.7/site-packages/nilearn/glm/first_level/first_level.py:657: UserWarning: One contrast given, assuming it for all 3 runs\n",
      "  warn('One contrast given, assuming it for all %d runs' % n_runs)\n"
     ]
    },
    {
     "name": "stdout",
     "output_type": "stream",
     "text": [
      "  Contrast  2 out of 5: control-pumps\n",
      "Computing contrasts...\n",
      "  Contrast  1 out of 5: pumps-control\n"
     ]
    },
    {
     "name": "stderr",
     "output_type": "stream",
     "text": [
      "/Users/yibeichen/miniconda3/envs/pydra/lib/python3.7/site-packages/nilearn/glm/first_level/first_level.py:657: UserWarning: One contrast given, assuming it for all 3 runs\n",
      "  warn('One contrast given, assuming it for all %d runs' % n_runs)\n"
     ]
    },
    {
     "name": "stdout",
     "output_type": "stream",
     "text": [
      "Computing contrasts...\n",
      "  Contrast  1 out of 5: pumps-control\n"
     ]
    },
    {
     "name": "stderr",
     "output_type": "stream",
     "text": [
      "/Users/yibeichen/miniconda3/envs/pydra/lib/python3.7/site-packages/nilearn/glm/first_level/first_level.py:657: UserWarning: One contrast given, assuming it for all 3 runs\n",
      "  warn('One contrast given, assuming it for all %d runs' % n_runs)\n"
     ]
    },
    {
     "name": "stdout",
     "output_type": "stream",
     "text": [
      "Computing contrasts...\n",
      "  Contrast  1 out of 5: pumps-control\n"
     ]
    },
    {
     "name": "stderr",
     "output_type": "stream",
     "text": [
      "/Users/yibeichen/miniconda3/envs/pydra/lib/python3.7/site-packages/nilearn/glm/first_level/first_level.py:657: UserWarning: One contrast given, assuming it for all 3 runs\n",
      "  warn('One contrast given, assuming it for all %d runs' % n_runs)\n"
     ]
    },
    {
     "name": "stdout",
     "output_type": "stream",
     "text": [
      "  Contrast  3 out of 5: pumps-baseline\n",
      "  Contrast  2 out of 5: control-pumps\n",
      "  Contrast  4 out of 5: cash-baseline\n",
      "  Contrast  2 out of 5: control-pumps\n",
      "  Contrast  2 out of 5: control-pumps\n",
      "  Contrast  5 out of 5: explode-baseline\n",
      "  Contrast  3 out of 5: pumps-baseline\n",
      "  Contrast  3 out of 5: pumps-baseline\n",
      "  Contrast  3 out of 5: pumps-baseline\n",
      "  Contrast  4 out of 5: cash-baseline\n",
      "  Contrast  4 out of 5: cash-baseline\n",
      "  Contrast  4 out of 5: cash-baseline\n",
      "  Contrast  5 out of 5: explode-baseline\n",
      "  Contrast  5 out of 5: explode-baseline\n",
      "  Contrast  5 out of 5: explode-baseline\n",
      "\n",
      "Get secondlevel design matrix ...\n",
      "\n"
     ]
    },
    {
     "name": "stderr",
     "output_type": "stream",
     "text": [
      "/Users/yibeichen/miniconda3/envs/pydra/lib/python3.7/site-packages/nilearn/glm/__init__.py:56: FutureWarning: The nilearn.glm module is experimental. It may change in any future release of Nilearn.\n",
      "  'It may change in any future release of Nilearn.', FutureWarning)\n"
     ]
    },
    {
     "name": "stdout",
     "output_type": "stream",
     "text": [
      "\n",
      "Start secondlevel estimation ...\n",
      "\n",
      " Contrast  1 out of 5: pumps-control\n",
      " Contrast  2 out of 5: control-pumps\n",
      " Contrast  3 out of 5: pumps-baseline\n",
      " Contrast  4 out of 5: cash-baseline\n",
      " Contrast  5 out of 5: explode-baseline\n",
      "\n",
      "Start cluster thresholding ...\n",
      "\n",
      "Contrast  1 out of 5: pumps-control\n"
     ]
    },
    {
     "name": "stderr",
     "output_type": "stream",
     "text": [
      "/Users/yibeichen/miniconda3/envs/pydra/lib/python3.7/site-packages/nilearn/plotting/img_plotting.py:300: FutureWarning: Default resolution of the MNI template will change from 2mm to 1mm in version 0.10.0\n",
      "  anat_img = load_mni152_template()\n",
      "/Users/yibeichen/miniconda3/envs/pydra/lib/python3.7/site-packages/nilearn/plotting/find_cuts.py:68: UserWarning: Given img is empty. Returning default cut_coords=(0.0, 0.0, 0.0) instead.\n",
      "  .format(DEFAULT_CUT_COORDS))\n"
     ]
    },
    {
     "name": "stdout",
     "output_type": "stream",
     "text": [
      "\n",
      "Start multiple comparison ...\n",
      "\n"
     ]
    },
    {
     "name": "stderr",
     "output_type": "stream",
     "text": [
      "/Users/yibeichen/miniconda3/envs/pydra/lib/python3.7/site-packages/nilearn/plotting/displays/_slicers.py:383: UserWarning: empty mask\n",
      "  get_mask_bounds(new_img_like(img, not_mask, affine))\n"
     ]
    },
    {
     "name": "stdout",
     "output_type": "stream",
     "text": [
      "Contrast  2 out of 5: control-pumps\n",
      "Contrast  1 out of 5: pumps-control\n"
     ]
    },
    {
     "name": "stderr",
     "output_type": "stream",
     "text": [
      "/Users/yibeichen/miniconda3/envs/pydra/lib/python3.7/site-packages/nilearn/_utils/param_validation.py:74: UserWarning: The given float value must not exceed 4.694226914112399. But, you have given threshold=inf \n",
      "  threshold))\n",
      "/Users/yibeichen/miniconda3/envs/pydra/lib/python3.7/site-packages/nilearn/plotting/img_plotting.py:300: FutureWarning: Default resolution of the MNI template will change from 2mm to 1mm in version 0.10.0\n",
      "  anat_img = load_mni152_template()\n"
     ]
    },
    {
     "name": "stdout",
     "output_type": "stream",
     "text": [
      "Contrast  3 out of 5: pumps-baseline\n"
     ]
    },
    {
     "name": "stderr",
     "output_type": "stream",
     "text": [
      "/Users/yibeichen/miniconda3/envs/pydra/lib/python3.7/site-packages/nilearn/plotting/find_cuts.py:68: UserWarning: Given img is empty. Returning default cut_coords=(0.0, 0.0, 0.0) instead.\n",
      "  .format(DEFAULT_CUT_COORDS))\n"
     ]
    },
    {
     "name": "stdout",
     "output_type": "stream",
     "text": [
      "Contrast  4 out of 5: cash-baseline\n"
     ]
    },
    {
     "name": "stderr",
     "output_type": "stream",
     "text": [
      "/Users/yibeichen/miniconda3/envs/pydra/lib/python3.7/site-packages/nilearn/plotting/displays/_slicers.py:383: UserWarning: empty mask\n",
      "  get_mask_bounds(new_img_like(img, not_mask, affine))\n"
     ]
    },
    {
     "name": "stdout",
     "output_type": "stream",
     "text": [
      "Contrast  2 out of 5: control-pumps\n"
     ]
    },
    {
     "name": "stderr",
     "output_type": "stream",
     "text": [
      "/Users/yibeichen/miniconda3/envs/pydra/lib/python3.7/site-packages/nilearn/_utils/param_validation.py:74: UserWarning: The given float value must not exceed 4.694226914112399. But, you have given threshold=inf \n",
      "  threshold))\n"
     ]
    },
    {
     "name": "stdout",
     "output_type": "stream",
     "text": [
      "Contrast  3 out of 5: pumps-baseline\n",
      "Contrast  5 out of 5: explode-baseline\n"
     ]
    },
    {
     "name": "stderr",
     "output_type": "stream",
     "text": [
      "/Users/yibeichen/miniconda3/envs/pydra/lib/python3.7/site-packages/nilearn/_utils/param_validation.py:74: UserWarning: The given float value must not exceed 4.574085283336893. But, you have given threshold=inf \n",
      "  threshold))\n"
     ]
    },
    {
     "name": "stdout",
     "output_type": "stream",
     "text": [
      "\n",
      "Start nonparametric test ...\n",
      "\n",
      "\n",
      "Start parametric test ...\n",
      "\n",
      "Contrast  4 out of 5: cash-baseline\n"
     ]
    },
    {
     "name": "stderr",
     "output_type": "stream",
     "text": [
      "/Users/yibeichen/miniconda3/envs/pydra/lib/python3.7/site-packages/nilearn/_utils/param_validation.py:74: UserWarning: The given float value must not exceed 4.490033793169723. But, you have given threshold=inf \n",
      "  threshold))\n"
     ]
    },
    {
     "name": "stdout",
     "output_type": "stream",
     "text": [
      "\n",
      "Cluster thresholding is done\n",
      "  Contrast  1 out of 5: pumps-control\n",
      "Contrast  1 out of 5: pumps-control\n"
     ]
    },
    {
     "name": "stderr",
     "output_type": "stream",
     "text": [
      "<string>:1: RuntimeWarning: divide by zero encountered in log10\n",
      "/Users/yibeichen/miniconda3/envs/pydra/lib/python3.7/site-packages/nilearn/plotting/img_plotting.py:300: FutureWarning: Default resolution of the MNI template will change from 2mm to 1mm in version 0.10.0\n",
      "  anat_img = load_mni152_template()\n",
      "/Users/yibeichen/miniconda3/envs/pydra/lib/python3.7/site-packages/nilearn/mass_univariate/permuted_least_squares.py:504: UserWarning: The specified number of permutations is 1 and the number of jobs to be performed in parallel has set to 1. This is incompatible so only 1 jobs will be running. You may want to perform more permutations in order to take the most of the available computing ressources.\n",
      "  'ressources.' % (n_perm, n_jobs, n_perm))\n"
     ]
    },
    {
     "name": "stdout",
     "output_type": "stream",
     "text": [
      "Contrast  5 out of 5: explode-baseline\n"
     ]
    },
    {
     "name": "stderr",
     "output_type": "stream",
     "text": [
      "/Users/yibeichen/miniconda3/envs/pydra/lib/python3.7/site-packages/nilearn/plotting/img_plotting.py:300: FutureWarning: Default resolution of the MNI template will change from 2mm to 1mm in version 0.10.0\n",
      "  anat_img = load_mni152_template()\n",
      "/Users/yibeichen/miniconda3/envs/pydra/lib/python3.7/site-packages/nilearn/_utils/param_validation.py:74: UserWarning: The given float value must not exceed 4.60634680224833. But, you have given threshold=inf \n",
      "  threshold))\n",
      "/Users/yibeichen/miniconda3/envs/pydra/lib/python3.7/site-packages/nilearn/_utils/niimg.py:62: UserWarning: Non-finite values detected. These values will be replaced with zeros.\n",
      "  \"Non-finite values detected. \"\n"
     ]
    },
    {
     "name": "stdout",
     "output_type": "stream",
     "text": [
      "\n",
      "Multiple comparison is done\n",
      "Contrast  2 out of 5: control-pumps\n"
     ]
    },
    {
     "name": "stderr",
     "output_type": "stream",
     "text": [
      "<string>:1: RuntimeWarning: divide by zero encountered in log10\n"
     ]
    },
    {
     "name": "stdout",
     "output_type": "stream",
     "text": [
      "  Contrast  2 out of 5: control-pumps\n",
      "Contrast  3 out of 5: pumps-baseline\n"
     ]
    },
    {
     "name": "stderr",
     "output_type": "stream",
     "text": [
      "<string>:1: RuntimeWarning: divide by zero encountered in log10\n",
      "/Users/yibeichen/miniconda3/envs/pydra/lib/python3.7/site-packages/nilearn/mass_univariate/permuted_least_squares.py:504: UserWarning: The specified number of permutations is 1 and the number of jobs to be performed in parallel has set to 1. This is incompatible so only 1 jobs will be running. You may want to perform more permutations in order to take the most of the available computing ressources.\n",
      "  'ressources.' % (n_perm, n_jobs, n_perm))\n",
      "/Users/yibeichen/miniconda3/envs/pydra/lib/python3.7/site-packages/nilearn/plotting/find_cuts.py:68: UserWarning: Given img is empty. Returning default cut_coords=(0.0, 0.0, 0.0) instead.\n",
      "  .format(DEFAULT_CUT_COORDS))\n"
     ]
    },
    {
     "name": "stdout",
     "output_type": "stream",
     "text": [
      "Contrast  4 out of 5: cash-baseline\n"
     ]
    },
    {
     "name": "stderr",
     "output_type": "stream",
     "text": [
      "<string>:1: RuntimeWarning: divide by zero encountered in log10\n",
      "/Users/yibeichen/miniconda3/envs/pydra/lib/python3.7/site-packages/nilearn/plotting/find_cuts.py:68: UserWarning: Given img is empty. Returning default cut_coords=(0.0, 0.0, 0.0) instead.\n",
      "  .format(DEFAULT_CUT_COORDS))\n",
      "/Users/yibeichen/miniconda3/envs/pydra/lib/python3.7/site-packages/nilearn/plotting/displays/_slicers.py:383: UserWarning: empty mask\n",
      "  get_mask_bounds(new_img_like(img, not_mask, affine))\n"
     ]
    },
    {
     "name": "stdout",
     "output_type": "stream",
     "text": [
      "  Contrast  3 out of 5: pumps-baseline\n"
     ]
    },
    {
     "name": "stderr",
     "output_type": "stream",
     "text": [
      "/Users/yibeichen/miniconda3/envs/pydra/lib/python3.7/site-packages/nilearn/plotting/displays/_slicers.py:383: UserWarning: empty mask\n",
      "  get_mask_bounds(new_img_like(img, not_mask, affine))\n"
     ]
    },
    {
     "name": "stdout",
     "output_type": "stream",
     "text": [
      "Contrast  5 out of 5: explode-baseline\n"
     ]
    },
    {
     "name": "stderr",
     "output_type": "stream",
     "text": [
      "<string>:1: RuntimeWarning: divide by zero encountered in log10\n"
     ]
    },
    {
     "name": "stdout",
     "output_type": "stream",
     "text": [
      "\n",
      "Parametric test is done\n",
      "  Contrast  4 out of 5: cash-baseline\n",
      "  Contrast  5 out of 5: explode-baseline\n",
      "\n",
      "Permutation is done\n",
      "Result(output=Output(second_level_stats_map={'pumps-control': {'z_score': <nibabel.nifti1.Nifti1Image object at 0x7ff230a10cd0>, 'stat': <nibabel.nifti1.Nifti1Image object at 0x7ff210794f90>, 'p_value': <nibabel.nifti1.Nifti1Image object at 0x7ff2107940d0>, 'effect_size': <nibabel.nifti1.Nifti1Image object at 0x7ff210792b50>, 'effect_variance': <nibabel.nifti1.Nifti1Image object at 0x7ff210792490>}, 'control-pumps': {'z_score': <nibabel.nifti1.Nifti1Image object at 0x7ff210792110>, 'stat': <nibabel.nifti1.Nifti1Image object at 0x7ff2107921d0>, 'p_value': <nibabel.nifti1.Nifti1Image object at 0x7ff210792290>, 'effect_size': <nibabel.nifti1.Nifti1Image object at 0x7ff210792350>, 'effect_variance': <nibabel.nifti1.Nifti1Image object at 0x7ff210792410>}, 'pumps-baseline': {'z_score': <nibabel.nifti1.Nifti1Image object at 0x7ff210792510>, 'stat': <nibabel.nifti1.Nifti1Image object at 0x7ff210792550>, 'p_value': <nibabel.nifti1.Nifti1Image object at 0x7ff210792710>, 'effect_size': <nibabel.nifti1.Nifti1Image object at 0x7ff210792750>, 'effect_variance': <nibabel.nifti1.Nifti1Image object at 0x7ff210792b10>}, 'cash-baseline': {'z_score': <nibabel.nifti1.Nifti1Image object at 0x7ff210792950>, 'stat': <nibabel.nifti1.Nifti1Image object at 0x7ff210792c10>, 'p_value': <nibabel.nifti1.Nifti1Image object at 0x7ff210792910>, 'effect_size': <nibabel.nifti1.Nifti1Image object at 0x7ff210792e50>, 'effect_variance': <nibabel.nifti1.Nifti1Image object at 0x7ff210792d90>}, 'explode-baseline': {'z_score': <nibabel.nifti1.Nifti1Image object at 0x7ff210792cd0>, 'stat': <nibabel.nifti1.Nifti1Image object at 0x7ff210792a90>, 'p_value': <nibabel.nifti1.Nifti1Image object at 0x7ff2604291d0>, 'effect_size': <nibabel.nifti1.Nifti1Image object at 0x7ff260429390>, 'effect_variance': <nibabel.nifti1.Nifti1Image object at 0x7ff21078e850>}}), runtime=None, errored=False)\n"
     ]
    }
   ],
   "source": [
    "from pydra import Submitter\n",
    "\n",
    "with Submitter(plugin='cf', n_procs=8) as submitter:\n",
    "    submitter(wf)\n",
    "\n",
    "results = wf.result()\n",
    "\n",
    "print(results)"
   ]
  },
  {
   "cell_type": "markdown",
   "id": "3717d47b-c183-4176-8548-8e58fcdca67e",
   "metadata": {},
   "source": [
    "# Let's Plot!\n",
    "\n",
    "We only use 5 subjects, so it's reasonable the following plots have nothing survived from testing."
   ]
  },
  {
   "cell_type": "markdown",
   "id": "807d0451-04f4-469e-a3e3-7914893ee3ad",
   "metadata": {},
   "source": [
    "## Cluster Thresholding"
   ]
  },
  {
   "cell_type": "code",
   "execution_count": 19,
   "id": "7a6e7e1d-424f-4400-b417-333f593907e7",
   "metadata": {},
   "outputs": [
    {
     "data": {
      "image/jpeg": "[encoded data removed]",
      "text/plain": [
       "<IPython.core.display.Image object>"
      ]
     },
     "execution_count": 19,
     "metadata": {},
     "output_type": "execute_result"
    }
   ],
   "source": [
    "from IPython.display import Image\n",
    "ct_list = glob.glob(os.path.join(workflow_out_dir, \"secondlevel_cluster_thresholded*.jpg\"))\n",
    "Image(filename=ct_list[0])"
   ]
  },
  {
   "cell_type": "markdown",
   "id": "f48e66ed-6d63-4f07-b369-870589f265c9",
   "metadata": {},
   "source": [
    "## Multiple Comparison"
   ]
  },
  {
   "cell_type": "code",
   "execution_count": 20,
   "id": "c4c45f6b-8d3e-4cd2-946e-b81c8acebc2f",
   "metadata": {},
   "outputs": [
    {
     "data": {
      "image/jpeg": "[encoded data removed]",
      "text/plain": [
       "<IPython.core.display.Image object>"
      ]
     },
     "execution_count": 20,
     "metadata": {},
     "output_type": "execute_result"
    }
   ],
   "source": [
    "mc_list = glob.glob(os.path.join(workflow_out_dir, \"secondlevel_multiple_comp*.jpg\"))\n",
    "Image(filename=mc_list[0])"
   ]
  },
  {
   "cell_type": "markdown",
   "id": "0e253230-db11-4fce-90cf-1c522c0f99f2",
   "metadata": {},
   "source": [
    "## Paramatric Test"
   ]
  },
  {
   "cell_type": "code",
   "execution_count": 21,
   "id": "19a35f9d-4a45-459b-8d1f-3c28e278ae10",
   "metadata": {},
   "outputs": [
    {
     "data": {
      "image/jpeg": "[encoded data removed]",
      "text/plain": [
       "<IPython.core.display.Image object>"
      ]
     },
     "execution_count": 21,
     "metadata": {},
     "output_type": "execute_result"
    }
   ],
   "source": [
    "pt_list = glob.glob(os.path.join(workflow_out_dir, \"secondlevel_paramatric*.jpg\"))\n",
    "Image(filename=pt_list[0])"
   ]
  },
  {
   "cell_type": "code",
   "execution_count": 22,
   "id": "ae6ed5c1-25f5-4926-8a1b-13bc78302617",
   "metadata": {},
   "outputs": [
    {
     "data": {
      "image/jpeg": "[encoded data removed]",
      "text/plain": [
       "<IPython.core.display.Image object>"
      ]
     },
     "execution_count": 22,
     "metadata": {},
     "output_type": "execute_result"
    }
   ],
   "source": [
    "npt_list = glob.glob(os.path.join(workflow_out_dir, \"secondlevel_permutation*.jpg\"))\n",
    "Image(filename=npt_list[0])"
   ]
  }
 ],
 "metadata": {
  "jupytext": {
   "formats": "ipynb,md:myst"
  },
  "kernelspec": {
   "display_name": "Python 3 (ipykernel)",
   "language": "python",
   "name": "python3"
  },
  "language_info": {
   "codemirror_mode": {
    "name": "ipython",
    "version": 3
   },
   "file_extension": ".py",
   "mimetype": "text/x-python",
   "name": "python",
   "nbconvert_exporter": "python",
   "pygments_lexer": "ipython3",
   "version": "3.7.13"
  }
 },
 "nbformat": 4,
 "nbformat_minor": 5
}
