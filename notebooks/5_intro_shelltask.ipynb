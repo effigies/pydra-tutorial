{
 "cells": [
  {
   "cell_type": "code",
   "execution_count": null,
   "metadata": {
    "collapsed": false,
    "jupyter": {
     "outputs_hidden": false
    },
    "pycharm": {
     "name": "#%%\n"
    }
   },
   "outputs": [],
   "source": [
    "import nest_asyncio\n",
    "nest_asyncio.apply()"
   ]
  },
  {
   "cell_type": "markdown",
   "metadata": {},
   "source": [
    "## ShellCommandTask\n",
    "\n",
    "In addition to `FunctionTask`, pydra allows for creating tasks from shell commands by using `ShellCommandTask`.\n",
    "\n",
    "Let's run a simple command `pwd` using pydra"
   ]
  },
  {
   "cell_type": "code",
   "execution_count": null,
   "metadata": {},
   "outputs": [],
   "source": [
    "import pydra"
   ]
  },
  {
   "cell_type": "code",
   "execution_count": null,
   "metadata": {},
   "outputs": [],
   "source": [
    "cmd = \"pwd\"\n",
    "# we should use executable to pass the command we want to run\n",
    "shelly = pydra.ShellCommandTask(name=\"shelly\", executable=cmd)\n",
    "\n",
    "# we can always check the cmdline of our task\n",
    "shelly.cmdline"
   ]
  },
  {
   "cell_type": "markdown",
   "metadata": {},
   "source": [
    "and now let's try to run it:"
   ]
  },
  {
   "cell_type": "code",
   "execution_count": null,
   "metadata": {},
   "outputs": [],
   "source": [
    "with pydra.Submitter(plugin=\"cf\") as sub:\n",
    "    sub(shelly)\n"
   ]
  },
  {
   "cell_type": "markdown",
   "metadata": {},
   "source": [
    "and check the result"
   ]
  },
  {
   "cell_type": "code",
   "execution_count": null,
   "metadata": {},
   "outputs": [],
   "source": [
    "shelly.result()"
   ]
  },
  {
   "cell_type": "markdown",
   "metadata": {},
   "source": [
    "the result should have `return_code`, `stdout` and `stderr`. If everything goes well `return_code` should be `0`, `stdout` should point to the working directory and `stderr` should be an empty string."
   ]
  },
  {
   "cell_type": "markdown",
   "metadata": {},
   "source": [
    "### Commands with arguments and inputs\n",
    "you can also use longer command by providing a list:"
   ]
  },
  {
   "cell_type": "code",
   "execution_count": null,
   "metadata": {},
   "outputs": [],
   "source": [
    "cmd = [\"echo\", \"hail\", \"pydra\"]\n",
    "shelly = pydra.ShellCommandTask(name=\"shelly\", executable=cmd)\n",
    "print(\"cmndline = \", shelly.cmdline)\n",
    "\n",
    "with pydra.Submitter(plugin=\"cf\") as sub:\n",
    "    sub(shelly)\n",
    "shelly.result()"
   ]
  },
  {
   "cell_type": "markdown",
   "metadata": {},
   "source": [
    "#### using args\n",
    "In addition to `executable`, we can also use `args`. Last example can be also rewritten:"
   ]
  },
  {
   "cell_type": "code",
   "execution_count": null,
   "metadata": {},
   "outputs": [],
   "source": [
    "cmd = \"echo\"\n",
    "args = [\"hail\", \"pydra\"]\n",
    "\n",
    "shelly = pydra.ShellCommandTask(name=\"shelly\", executable=cmd, args=args)\n",
    "print(\"cmndline = \", shelly.cmdline)\n",
    "\n",
    "with pydra.Submitter(plugin=\"cf\") as sub:\n",
    "    sub(shelly)\n",
    "shelly.result()"
   ]
  },
  {
   "cell_type": "markdown",
   "metadata": {},
   "source": [
    "### Customized input\n",
    "\n",
    "Pydra always checks `executable` and `args`, but we can also provide additional inputs, in order to do it, we have to modify `input_spec` first by using `SpecInfo` class:"
   ]
  },
  {
   "cell_type": "code",
   "execution_count": null,
   "metadata": {},
   "outputs": [],
   "source": [
    "import attr\n",
    "\n",
    "my_input_spec = pydra.specs.SpecInfo(\n",
    "    name=\"Input\",\n",
    "    fields=[\n",
    "        (\n",
    "            \"text\",\n",
    "            attr.ib(\n",
    "                type=str,\n",
    "                metadata={\"position\": 1, \"argstr\": \"\", \"help_string\": \"text\", \"mandatory\": True},\n",
    "                ),\n",
    "        )\n",
    "    ],\n",
    "    bases=(pydra.specs.ShellSpec,),\n",
    ")\n"
   ]
  },
  {
   "cell_type": "markdown",
   "metadata": {},
   "source": [
    "Notice, that in order to create your own `input_spec`, you have to provide a list of `fields`. There are several valid syntax to specify elements of `fields`:\n",
    "- `(name, attribute)`\n",
    "- `(name, type, default)`\n",
    "- `(name, type, default, metadata)`\n",
    "- `(name, type, metadata)`\n",
    "\n",
    "where `name`, `type`, and `default` are the name, type and default values of the field. `attribute` is defined by using `attr.ib`, in the example the attribute has `type` and `metadata`, but the full specification can be found [here](https://www.attrs.org/en/stable/api.html#attr.ib). \n",
    "\n",
    "In `metadata`, you can provide additional information that is used by `pydra`, `help_string` is the only key that is required, and the full list of supported keys is `['position', 'argstr', 'requires', 'mandatory', 'allowed_values', 'output_field_name', 'copyfile', 'separate_ext', 'container_path', 'help_string', 'xor', 'output_file_template']`. Among the supported keys, you have:\n",
    "- `help_string`: a sring, description of the argument;\n",
    "- `position`: integer grater than 0, defines the relative position of the arguments when the shell command is constructed;\n",
    "- `argstr`: a string, e.g. \"-o\", can be used to specify a flag if needed for the command argument; \n",
    "- `mandatory`: a bool, if True, pydra will raise an exception, if the argument is not provided;\n",
    "\n",
    "The complete documentations for all suported keys is available [here](https://pydra.readthedocs.io/en/latest/input_spec.html).\n",
    " "
   ]
  },
  {
   "cell_type": "markdown",
   "metadata": {},
   "source": [
    "To define `my_input_spec` we used the most general syntax that requires `(name, attribute)`, but \n",
    "perhaps the simplest syntax is the last one, that contains `(name, type, metadata)`. Using this syntax, `my_input_spec` could look like this:\n",
    "\n",
    "```\n",
    "my_input_spec_short = pydra.specs.SpecInfo(\n",
    "    name=\"Input\",\n",
    "    fields=[\n",
    "        (\"text\", str, {\"position\": 1, \"help_string\": \"text\", \"mandatory\": True}),\n",
    "    ],\n",
    "    bases=(pydra.specs.ShellSpec,),\n",
    ")\n",
    "```"
   ]
  },
  {
   "cell_type": "markdown",
   "metadata": {},
   "source": [
    "After defining `my_input_spec`, we can define our task:"
   ]
  },
  {
   "cell_type": "code",
   "execution_count": null,
   "metadata": {},
   "outputs": [],
   "source": [
    "cmd_exec = \"echo\"\n",
    "hello = \"HELLO\"\n",
    "shelly = pydra.ShellCommandTask(\n",
    "    name=\"shelly\", executable=cmd_exec, text=hello, input_spec=my_input_spec\n",
    ")\n",
    "\n",
    "print(\"cmndline = \", shelly.cmdline)\n",
    "\n",
    "with pydra.Submitter(plugin=\"cf\") as sub:\n",
    "    sub(shelly)\n",
    "shelly.result()"
   ]
  },
  {
   "cell_type": "markdown",
   "metadata": {},
   "source": [
    "### Customized output\n",
    "\n",
    "We can also customized output if we want to return something more than the `stdout`, e.g. a file."
   ]
  },
  {
   "cell_type": "code",
   "execution_count": null,
   "metadata": {},
   "outputs": [],
   "source": [
    "my_output_spec = pydra.specs.SpecInfo(\n",
    "    name=\"Output\",\n",
    "    fields=[(\"newfile\", pydra.specs.File, \"newfile_tmp.txt\")],\n",
    "    bases=(pydra.specs.ShellOutSpec,),\n",
    ")\n"
   ]
  },
  {
   "cell_type": "markdown",
   "metadata": {},
   "source": [
    "now we can create a task that returns a new file:"
   ]
  },
  {
   "cell_type": "code",
   "execution_count": null,
   "metadata": {},
   "outputs": [],
   "source": [
    "cmd = [\"touch\", \"newfile_tmp.txt\"]\n",
    "shelly = pydra.ShellCommandTask(name=\"shelly\", executable=cmd, output_spec=my_output_spec)\n",
    "\n",
    "print(\"cmndline = \", shelly.cmdline)\n",
    "\n",
    "with pydra.Submitter(plugin=\"cf\") as sub:\n",
    "    sub(shelly)\n",
    "shelly.result()"
   ]
  },
  {
   "cell_type": "markdown",
   "metadata": {
    "solution2": "hidden",
    "solution2_first": true
   },
   "source": [
    "#### exercise 1\n",
    "\n",
    "Write a task that creates two new files, use provided output spec."
   ]
  },
  {
   "cell_type": "code",
   "execution_count": null,
   "metadata": {},
   "outputs": [],
   "source": [
    "cmd = \"touch\"\n",
    "args = [\"newfile_1.txt\", \"newfile_2.txt\"]\n",
    "\n",
    "my_output_spec = pydra.specs.SpecInfo(\n",
    "    name=\"Output\",\n",
    "    fields=[\n",
    "        (\n",
    "            \"out1\",\n",
    "            attr.ib(\n",
    "                type=pydra.specs.File,\n",
    "                metadata={\n",
    "                    \"output_file_template\": \"{args}\",\n",
    "                    \"help_string\": \"output file\",\n",
    "                },\n",
    "            ),\n",
    "        )\n",
    "    ],\n",
    "    bases=(pydra.specs.ShellOutSpec,),\n",
    ")\n",
    "\n",
    "# write your solution here\n"
   ]
  },
  {
   "cell_type": "markdown",
   "metadata": {},
   "source": [
    "# DO NOT RUN IF Docker IS NOT AVAILABLE\n",
    "\n",
    "**Note, that the following task use Docker, so they will fail if the Docker is not available. It will also fail in Binder.**"
   ]
  },
  {
   "cell_type": "markdown",
   "metadata": {},
   "source": [
    "### DockerTask\n",
    "\n",
    "all the commands can be also run in a docker container using `DockerTask`. Syntax is very similar, but additional argument `image` is required."
   ]
  },
  {
   "cell_type": "code",
   "execution_count": null,
   "metadata": {
    "tags": [
     "raises-exception"
    ]
   },
   "outputs": [],
   "source": [
    "cmd = \"whoami\"\n",
    "docky = pydra.DockerTask(name=\"docky\", executable=cmd, image=\"busybox\")\n",
    "\n",
    "with pydra.Submitter() as sub:\n",
    "    docky(submitter=sub)\n",
    "\n",
    "docky.result()"
   ]
  },
  {
   "cell_type": "markdown",
   "metadata": {
    "solution2": "shown",
    "solution2_first": true
   },
   "source": [
    "#### exercise2\n",
    "\n",
    "Use splitter to run the same command in two different images:"
   ]
  },
  {
   "cell_type": "code",
   "execution_count": null,
   "metadata": {
    "solution2": "shown",
    "tags": [
     "raises-exception"
    ]
   },
   "outputs": [],
   "source": [
    "cmd = \"whoami\"\n",
    "docky = pydra.DockerTask(name=\"docky\", executable=cmd, image=[\"busybox\", \"ubuntu\"]).split(\"image\")\n",
    "\n",
    "with pydra.Submitter() as sub:\n",
    "    docky(submitter=sub)\n",
    "\n",
    "docky.result()"
   ]
  },
  {
   "cell_type": "code",
   "execution_count": null,
   "metadata": {},
   "outputs": [],
   "source": [
    "#write your solution here"
   ]
  },
  {
   "cell_type": "markdown",
   "metadata": {},
   "source": [
    "#### Using `ShellCommandTask` with `container_info` argument:\n",
    "\n",
    "You can run the shell command in a docker container by adding `container_info` argument to `ShellCommandTask`:"
   ]
  },
  {
   "cell_type": "code",
   "execution_count": null,
   "metadata": {
    "tags": [
     "raises-exception"
    ]
   },
   "outputs": [],
   "source": [
    "shelly = pydra.ShellCommandTask(name=\"shelly\", executable=\"whoami\", container_info=(\"docker\", \"busybox\"))\n",
    "with pydra.Submitter() as sub:\n",
    "    shelly(submitter=sub)\n",
    "\n",
    "shelly.result()"
   ]
  },
  {
   "cell_type": "markdown",
   "metadata": {},
   "source": [
    "If we don't provide `container_info` the output should be different:"
   ]
  },
  {
   "cell_type": "code",
   "execution_count": null,
   "metadata": {},
   "outputs": [],
   "source": [
    "shelly = pydra.ShellCommandTask(name=\"shelly\", executable=\"whoami\")\n",
    "with pydra.Submitter() as sub:\n",
    "    shelly(submitter=sub)\n",
    "\n",
    "shelly.result()"
   ]
  },
  {
   "cell_type": "code",
   "execution_count": null,
   "metadata": {},
   "outputs": [],
   "source": []
  }
 ],
 "metadata": {
  "kernelspec": {
   "display_name": "Python 3",
   "language": "python",
   "name": "python3"
  },
  "language_info": {
   "codemirror_mode": {
    "name": "ipython",
    "version": 3
   },
   "file_extension": ".py",
   "mimetype": "text/x-python",
   "name": "python",
   "nbconvert_exporter": "python",
   "pygments_lexer": "ipython3",
   "version": "3.7.13"
  },
  "pycharm": {
   "stem_cell": {
    "cell_type": "raw",
    "metadata": {
     "collapsed": false
    },
    "source": []
   }
  }
 },
 "nbformat": 4,
 "nbformat_minor": 4
}
