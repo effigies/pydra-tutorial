{
 "cells": [
  {
   "cell_type": "markdown",
   "metadata": {},
   "source": [
    "## Introduction to Tasks with States\n",
    "\n",
    "Task might be run for a single set of input values or we can generate multiple sets, that will be called \"states\". If we want to run our `Task` multiple times we have to provide an input that is an iterable and specify the way we want to map values of the inputs to the specific states. In order to do it, we set so-called `splitter`. \n",
    "\n",
    "Let's start from a simple `FunctionTask` that takes a list as an input:"
   ]
  },
  {
   "cell_type": "code",
   "execution_count": null,
   "metadata": {
    "jupyter": {
     "outputs_hidden": false
    },
    "pycharm": {
     "name": "#%%\n"
    }
   },
   "outputs": [],
   "source": [
    "import nest_asyncio\n",
    "nest_asyncio.apply()"
   ]
  },
  {
   "cell_type": "code",
   "execution_count": null,
   "metadata": {},
   "outputs": [],
   "source": [
    "import pydra\n",
    "\n",
    "@pydra.mark.task\n",
    "def add_two(x):\n",
    "    return x + 2\n",
    "\n",
    "task1 = add_two(x=[1, 2, 3])"
   ]
  },
  {
   "cell_type": "markdown",
   "metadata": {},
   "source": [
    "Before we set any splitter, the task's `state` should be `None`"
   ]
  },
  {
   "cell_type": "code",
   "execution_count": null,
   "metadata": {},
   "outputs": [],
   "source": [
    "task1.state is None"
   ]
  },
  {
   "cell_type": "markdown",
   "metadata": {},
   "source": [
    "Now, we can set the `splitter` by using the `split` method. Since our task has only one input, there is only one option to create a set of inputs, i.e. `splitter=\"x\"`:"
   ]
  },
  {
   "cell_type": "code",
   "execution_count": null,
   "metadata": {},
   "outputs": [],
   "source": [
    "task1.split(\"x\")"
   ]
  },
  {
   "cell_type": "markdown",
   "metadata": {},
   "source": [
    "Now, we can check that our task has a `state`:"
   ]
  },
  {
   "cell_type": "code",
   "execution_count": null,
   "metadata": {},
   "outputs": [],
   "source": [
    "task1.state"
   ]
  },
  {
   "cell_type": "markdown",
   "metadata": {},
   "source": [
    "And we can print information about the state:"
   ]
  },
  {
   "cell_type": "code",
   "execution_count": null,
   "metadata": {},
   "outputs": [],
   "source": [
    "print(task1.state)"
   ]
  },
  {
   "cell_type": "markdown",
   "metadata": {},
   "source": [
    "within the `state` information about the splitter has been stored: "
   ]
  },
  {
   "cell_type": "code",
   "execution_count": null,
   "metadata": {},
   "outputs": [],
   "source": [
    "task1.state.splitter"
   ]
  },
  {
   "cell_type": "markdown",
   "metadata": {},
   "source": [
    "Note, that *pydra* adds name of the function to the name of the input.\n",
    "\n",
    "Now, we can run the task and check results:"
   ]
  },
  {
   "cell_type": "code",
   "execution_count": null,
   "metadata": {},
   "outputs": [],
   "source": [
    "task1()\n",
    "task1.result()"
   ]
  },
  {
   "cell_type": "markdown",
   "metadata": {},
   "source": [
    "We can also return results together with values of the input, we just have to set an additional argument `return_inputs` to `True` (or `val`)"
   ]
  },
  {
   "cell_type": "code",
   "execution_count": null,
   "metadata": {},
   "outputs": [],
   "source": [
    "task1.result(return_inputs=True)"
   ]
  },
  {
   "cell_type": "markdown",
   "metadata": {},
   "source": [
    "If we want to return indices instead of values, we can set `return_inputs` to `ind`"
   ]
  },
  {
   "cell_type": "code",
   "execution_count": null,
   "metadata": {},
   "outputs": [],
   "source": [
    "task1.result(return_inputs=\"ind\")"
   ]
  },
  {
   "cell_type": "markdown",
   "metadata": {},
   "source": [
    "For tasks with a state *pydra* prepare all sets of inputs and run the task for each of the set. We could simply represent this by the following figure:"
   ]
  },
  {
   "attachments": {},
   "cell_type": "markdown",
   "metadata": {},
   "source": [
    "![nd_spl_1.png](../figures/nd_spl_1.png)"
   ]
  },
  {
   "cell_type": "markdown",
   "metadata": {},
   "source": [
    "### Multiple inputs and state splitting\n",
    "\n",
    "We can also use `State` for functions with multiple inputs:"
   ]
  },
  {
   "cell_type": "code",
   "execution_count": null,
   "metadata": {},
   "outputs": [],
   "source": [
    "@pydra.mark.task\n",
    "def add_var(a, b):\n",
    "    return a + b"
   ]
  },
  {
   "cell_type": "markdown",
   "metadata": {},
   "source": [
    "Now we have more options to define `splitter`, it depends on the type of inputs and on our application. For example, we could have `a` that is a list, `b` that is a single value, and split over `a` values:"
   ]
  },
  {
   "cell_type": "code",
   "execution_count": null,
   "metadata": {},
   "outputs": [],
   "source": [
    "task2 = add_var(a=[1, 2, 3], b=10).split(\"a\")\n",
    "task2()\n",
    "task2.result()"
   ]
  },
  {
   "cell_type": "markdown",
   "metadata": {},
   "source": [
    "Now we have three results for each element from the `a` list and the value of `b` is always the same. "
   ]
  },
  {
   "attachments": {},
   "cell_type": "markdown",
   "metadata": {},
   "source": [
    "![nd_spl_2.png](../figures/nd_spl_2.png)"
   ]
  },
  {
   "cell_type": "markdown",
   "metadata": {},
   "source": [
    "But we can have lists for both inputs, and use both inputs in the splitter. Let's assume that `a` and `b` are two elements lists."
   ]
  },
  {
   "cell_type": "code",
   "execution_count": null,
   "metadata": {},
   "outputs": [],
   "source": [
    "task3 = add_var(a=[1, 2], b=[10, 100])"
   ]
  },
  {
   "cell_type": "markdown",
   "metadata": {},
   "source": [
    "Now, we have two options to map the input values, we might want to run the task for two sets of values: (`a`=1, `b`=10) and (`a`=2, `b`=100), or we might want to run the task for four sets: (`a`=1, `b`=10), (`a`=1, `b`=100), (`a`=2, `b`=10) and (`a`=2, `b`=100). \n",
    "\n",
    "**The first situation will be represented by the so-called \"scalar\" splitter, the later by the so-called \"outer\" splitter.**"
   ]
  },
  {
   "cell_type": "markdown",
   "metadata": {},
   "source": [
    "#### Scalar splitter\n",
    "\n",
    "Let's start from the scalar splitter, that uses parentheses in the syntax:"
   ]
  },
  {
   "cell_type": "code",
   "execution_count": null,
   "metadata": {},
   "outputs": [],
   "source": [
    "task3.split((\"a\", \"b\"))\n",
    "task3()\n",
    "task3.result()"
   ]
  },
  {
   "cell_type": "markdown",
   "metadata": {},
   "source": [
    "As we expected, we have two outputs: `1+10=11` and `2+100=102`. \n",
    "\n",
    "We can represent the execution by the graph:"
   ]
  },
  {
   "attachments": {},
   "cell_type": "markdown",
   "metadata": {},
   "source": [
    "![nd_spl_4.png](../figures/nd_spl_4.png)"
   ]
  },
  {
   "cell_type": "markdown",
   "metadata": {},
   "source": [
    "#### Outer splitter\n",
    "\n",
    "For the outer splitter we will use brackets:"
   ]
  },
  {
   "cell_type": "code",
   "execution_count": null,
   "metadata": {},
   "outputs": [],
   "source": [
    "task4 = add_var(a=[1, 2], b=[10, 100])\n",
    "task4.split([\"a\", \"b\"])\n",
    "task4()\n",
    "task4.result()"
   ]
  },
  {
   "cell_type": "markdown",
   "metadata": {},
   "source": [
    "Now, we have results for all of the combinations of values from `a` and `b`."
   ]
  },
  {
   "attachments": {},
   "cell_type": "markdown",
   "metadata": {},
   "source": [
    "![nd_spl_3.png](../figures/nd_spl_3.png)"
   ]
  },
  {
   "cell_type": "markdown",
   "metadata": {},
   "source": [
    "Note, that once you set the splitter, you will get error when you try to set the splitter again. However, you can always set `overwrite` to `True` if you really intend to change the splitter."
   ]
  },
  {
   "cell_type": "code",
   "execution_count": null,
   "metadata": {
    "tags": [
     "raises-exception"
    ]
   },
   "outputs": [],
   "source": [
    "task4.split((\"a\", \"b\"))"
   ]
  },
  {
   "cell_type": "markdown",
   "metadata": {},
   "source": [
    "For more inputs we can create more complex splitter, and use scalar and outer splitters together. **Note, that the scalar splitter can only work for lists that have the same length, but the outer splitter doesn't have this limitation.** \n",
    "\n",
    "Let's run one more example that takes four inputs, `x` and `y` components of two vectors, and calculates all possible sums of vectors. `x` components should be kept together with corresponding `y` components (i.e. scalar splitters: `(\"x1\", \"y1\")` and `(\"x2\", \"y2\")`), but we should use outer splitter for two vectors to get all combinations."
   ]
  },
  {
   "cell_type": "code",
   "execution_count": null,
   "metadata": {},
   "outputs": [],
   "source": [
    "@pydra.mark.task\n",
    "def add_vector(x1, y1, x2, y2):\n",
    "    return (x1 + x2, y1 + y2)\n",
    "\n",
    "task5 = add_vector(name=\"add_vect\", output_names=[\"x\", \"y\"], \n",
    "                   x1=[10, 20], y1=[1, 2], x2=[10, 20, 30], y2=[10, 20, 30])\n",
    "task5.split(splitter=[(\"x1\", \"y1\"), (\"x2\", \"y2\")])\n",
    "task5()\n",
    "task5.result()"
   ]
  },
  {
   "cell_type": "markdown",
   "metadata": {},
   "source": [
    "We should get six outputs: two elements for vector1 times three elements for vector2."
   ]
  },
  {
   "cell_type": "markdown",
   "metadata": {},
   "source": [
    "### Combining the output\n",
    "\n",
    "When we use `splitter`, we can also define `combiner`, if we want to combine together the results.\n",
    "\n",
    "If we take the `task4` as an example and combine all results for each element of the input `b`, we can modify the task as follows:"
   ]
  },
  {
   "cell_type": "code",
   "execution_count": null,
   "metadata": {},
   "outputs": [],
   "source": [
    "task5 = add_var(a=[1, 2], b=[10, 100])\n",
    "task5.split([\"a\", \"b\"])\n",
    "# adding combiner\n",
    "task5.combine(\"b\")\n",
    "task5()\n",
    "task5.result()"
   ]
  },
  {
   "cell_type": "markdown",
   "metadata": {},
   "source": [
    "Now our result contains two elements, each one is a list. The first one contains results for `a=1` and both values of `b`, and the second contains results for `a=2` and both values of `b`. Let's print the result again using `return_inputs`:"
   ]
  },
  {
   "cell_type": "code",
   "execution_count": null,
   "metadata": {},
   "outputs": [],
   "source": [
    "all_results = task5.result(return_inputs=True)\n",
    "print(f\"first list, a=1: {all_results[0]}\")\n",
    "print(f\"\\n second list, a=2: {all_results[1]}\")"
   ]
  },
  {
   "attachments": {},
   "cell_type": "markdown",
   "metadata": {},
   "source": [
    "![nd_spl_3_comb1.png](../figures/nd_spl_3_comb1.png)"
   ]
  },
  {
   "cell_type": "markdown",
   "metadata": {},
   "source": [
    "But we could also group all elements from the input `a` and have a different combined output:"
   ]
  },
  {
   "cell_type": "code",
   "execution_count": null,
   "metadata": {},
   "outputs": [],
   "source": [
    "task6 = add_var(a=[1, 2], b=[10, 100])\n",
    "task6.split([\"a\", \"b\"])\n",
    "# changing the combiner\n",
    "task6.combine(\"a\")\n",
    "task6()\n",
    "task6.result()"
   ]
  },
  {
   "cell_type": "markdown",
   "metadata": {},
   "source": [
    "We still have two elements in our results, but this time the first element contains results for `b=10` and both values of `a`, and the second contains results for `b=100` and both values of `a`."
   ]
  },
  {
   "cell_type": "code",
   "execution_count": null,
   "metadata": {},
   "outputs": [],
   "source": [
    "all_results = task6.result(return_inputs=True)\n",
    "print(f\"first list, b=10: {all_results[0]}\")\n",
    "print(f\"\\n second list, b=100: {all_results[1]}\")"
   ]
  },
  {
   "attachments": {},
   "cell_type": "markdown",
   "metadata": {},
   "source": [
    "![nd_spl_3_comb2.png](../figures/nd_spl_3_comb2.png)"
   ]
  },
  {
   "cell_type": "markdown",
   "metadata": {},
   "source": [
    "We can also combine all elements by providing a list of all inputs to the `combiner`:"
   ]
  },
  {
   "cell_type": "code",
   "execution_count": null,
   "metadata": {},
   "outputs": [],
   "source": [
    "task7 = add_var(a=[1, 2], b=[10, 100])\n",
    "task7.split([\"a\", \"b\"])\n",
    "# combining all inputs\n",
    "task7.combine([\"a\", \"b\"])\n",
    "task7()\n",
    "task7.result()"
   ]
  },
  {
   "cell_type": "markdown",
   "metadata": {},
   "source": [
    "This time the output contains one element that is a list of all outputs:"
   ]
  },
  {
   "attachments": {},
   "cell_type": "markdown",
   "metadata": {},
   "source": [
    "![nd_spl_3_comb3.png](../figures/nd_spl_3_comb3.png)"
   ]
  },
  {
   "cell_type": "markdown",
   "metadata": {},
   "source": [
    "### Lists as an input\n",
    "\n",
    "Note that list can be used as an input even without using any splitter, there are functions that take a list as a single input value:"
   ]
  },
  {
   "cell_type": "code",
   "execution_count": null,
   "metadata": {},
   "outputs": [],
   "source": [
    "@pydra.mark.task\n",
    "def moment(lst, n):\n",
    "    return sum([i ** n for i in lst]) / len(lst)\n",
    "\n",
    "task8 = moment(n=3, lst=[2, 3, 4])\n",
    "\n",
    "task8()\n",
    "task8.result()\n"
   ]
  },
  {
   "cell_type": "markdown",
   "metadata": {
    "solution2": "shown",
    "solution2_first": true
   },
   "source": [
    "### Exercise 1\n",
    "\n",
    "Let's say we want to calculate squares and cubes of integers from 2 to 5, and combine separately all squares and all cubes:"
   ]
  },
  {
   "cell_type": "markdown",
   "metadata": {
    "solution2": "shown"
   },
   "source": [
    "First we will define a function that returns powers:"
   ]
  },
  {
   "cell_type": "code",
   "execution_count": null,
   "metadata": {
    "solution2": "shown"
   },
   "outputs": [],
   "source": [
    "@pydra.mark.task\n",
    "def power(x, n):\n",
    "    return x**n"
   ]
  },
  {
   "cell_type": "markdown",
   "metadata": {
    "solution2": "shown"
   },
   "source": [
    "Now we can create a task that takes two lists as its input, outer splitter for `x` and `n`, and combine all `x`: "
   ]
  },
  {
   "cell_type": "code",
   "execution_count": null,
   "metadata": {
    "solution2": "shown"
   },
   "outputs": [],
   "source": [
    "task_ex1 = power(x=[2, 3, 4, 5], n=[2, 3]).split([\"x\", \"n\"]).combine(\"x\")\n",
    "task_ex1()\n",
    "task_ex1.result()"
   ]
  },
  {
   "cell_type": "markdown",
   "metadata": {
    "solution2": "shown"
   },
   "source": [
    "The result should contain two list, the first one is for squares, the second for cubes."
   ]
  },
  {
   "cell_type": "code",
   "execution_count": null,
   "metadata": {
    "scrolled": true,
    "solution2": "shown"
   },
   "outputs": [],
   "source": [
    "squares_list = [el.output.out for el in task_ex1.result()[0]]\n",
    "cubes_list = [el.output.out for el in task_ex1.result()[1]]\n",
    "print(f\"squares: {squares_list}\")\n",
    "print(f\"cubes: {cubes_list}\")"
   ]
  },
  {
   "cell_type": "markdown",
   "metadata": {},
   "source": [
    "### Parallel execution\n",
    "\n",
    "We run task multiple times for multiple sets of input, but we didn't talk about the execution time. Let's create a function that sleeps for a second and run for four values:"
   ]
  },
  {
   "cell_type": "code",
   "execution_count": null,
   "metadata": {},
   "outputs": [],
   "source": [
    "import time\n",
    "\n",
    "@pydra.mark.task\n",
    "def add_two_sleep(x):\n",
    "    time.sleep(1)\n",
    "    return x + 2\n",
    "\n",
    "task9 = add_two_sleep(x=[1, 2, 3, 4]).split(\"x\")\n",
    "t0 = time.time()\n",
    "task9()\n",
    "print(f'total time: {time.time() - t0}')\n",
    "task9.result()"
   ]
  },
  {
   "cell_type": "markdown",
   "metadata": {},
   "source": [
    "The total time will depend on the machine you are using, but it could be below `1.1s`, so clearly the tasks are running in parallel!\n",
    "\n",
    "If we run `Task` that has a `State`, pydra will automatically create a `Submitter` with a default `Worker` that is `cf`, i.e. `concurrent.futures.ProcessPoolExecutor`.\n",
    "\n",
    "We could also create a `Submitter` first, and than use it to run the task:"
   ]
  },
  {
   "cell_type": "code",
   "execution_count": null,
   "metadata": {},
   "outputs": [],
   "source": [
    "task10 = add_two_sleep(x=[1, 2, 3, 4]).split(\"x\")\n",
    "\n",
    "t0 = time.time()\n",
    "with pydra.Submitter(plugin=\"cf\") as sub:\n",
    "    task10(submitter=sub)\n",
    "print(f'total time: {time.time() - t0}')\n",
    "print(f\"results: {task10.result()}\")\n"
   ]
  },
  {
   "cell_type": "markdown",
   "metadata": {},
   "source": [
    "or we can provide the name of the plugin:"
   ]
  },
  {
   "cell_type": "code",
   "execution_count": null,
   "metadata": {},
   "outputs": [],
   "source": [
    "task11 = add_two_sleep(x=[1, 2, 3, 4]).split(\"x\")\n",
    "\n",
    "t0 = time.time()\n",
    "task11(plugin=\"cf\")\n",
    "print(f'total time: {time.time() - t0}')\n",
    "print(f\"results: {task11.result()}\")\n"
   ]
  },
  {
   "cell_type": "markdown",
   "metadata": {},
   "source": [
    "The last option for running the task is to create a `Submitter` first and run the submitter (`Submitter` is also a callable object) with the task as  a `runnable`:"
   ]
  },
  {
   "cell_type": "code",
   "execution_count": null,
   "metadata": {},
   "outputs": [],
   "source": [
    "task12 = add_two_sleep(x=[1, 2, 3, 4]).split(\"x\")\n",
    "\n",
    "t0 = time.time()\n",
    "with pydra.Submitter(plugin=\"cf\") as sub:\n",
    "    sub(runnable=task12)\n",
    "print(f'total time: {time.time() - t0}')\n",
    "print(f\"results: {task12.result()}\")\n"
   ]
  },
  {
   "cell_type": "markdown",
   "metadata": {},
   "source": [
    "All of the execution time should be similar, since all tasks are run by *pydra* in the same way, i.e. *pydra* creates a submitter with `ConcurrentFutures` worker, if a number of processors is not provided, `ConcurrentFutures` takes all available processors as `max_workers`. However, if we want to set a specific number of processors, we can set it using `n_procs` when creating a `Submitter`. Let's see how the execution time changes when we use `n_procs=2`.\n"
   ]
  },
  {
   "cell_type": "code",
   "execution_count": null,
   "metadata": {},
   "outputs": [],
   "source": [
    "task13 = add_two_sleep(x=[1, 2, 3, 4]).split(\"x\")\n",
    "\n",
    "t0 = time.time()\n",
    "with pydra.Submitter(plugin=\"cf\", n_procs=2) as sub:\n",
    "    sub(runnable=task13)\n",
    "print(f'total time: {time.time() - t0}')\n",
    "print(f\"results: {task13.result()}\")\n"
   ]
  },
  {
   "cell_type": "markdown",
   "metadata": {},
   "source": [
    "Now, the total time could be significantly different. For example, if your machine has at least 4 processors, the previous `tasks9` - `task12` took around 1s to run, but the task13 took around 2s.\n",
    "If you have 2 processors or less, you should not see any difference in the execution time."
   ]
  }
 ],
 "metadata": {
  "celltoolbar": "Tags",
  "kernelspec": {
   "display_name": "Python 3",
   "language": "python",
   "name": "python3"
  },
  "language_info": {
   "codemirror_mode": {
    "name": "ipython",
    "version": 3
   },
   "file_extension": ".py",
   "mimetype": "text/x-python",
   "name": "python",
   "nbconvert_exporter": "python",
   "pygments_lexer": "ipython3",
   "version": "3.7.8"
  },
  "pycharm": {
   "stem_cell": {
    "cell_type": "raw",
    "metadata": {
     "collapsed": false
    },
    "source": []
   }
  }
 },
 "nbformat": 4,
 "nbformat_minor": 4
}
