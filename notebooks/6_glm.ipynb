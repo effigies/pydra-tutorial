{
 "cells": [
  {
   "cell_type": "markdown",
   "id": "98139643-b002-4b1d-9af5-d89cf06a7892",
   "metadata": {
    "tags": []
   },
   "source": [
    "# First level analysis of a complete BIDS dataset from openneuro"
   ]
  },
  {
   "cell_type": "code",
   "execution_count": 1,
   "id": "5f7bfbab-b727-4fc8-a0ac-7061fa528b68",
   "metadata": {},
   "outputs": [],
   "source": [
    "import nest_asyncio\n",
    "nest_asyncio.apply()"
   ]
  },
  {
   "cell_type": "markdown",
   "id": "91ccd642-12c6-4908-aa4c-a0d4ed3e04db",
   "metadata": {
    "tags": []
   },
   "source": [
    "## Fetch openneuro BIDS dataset"
   ]
  },
  {
   "cell_type": "code",
   "execution_count": null,
   "id": "5b98f95e-b17f-42a2-a6f8-b9a523d79659",
   "metadata": {},
   "outputs": [],
   "source": []
  },
  {
   "cell_type": "markdown",
   "id": "d57a1d4e-1b34-4257-a140-77cb195157e7",
   "metadata": {
    "jp-MarkdownHeadingCollapsed": true,
    "tags": []
   },
   "source": [
    "## Obtain FirstLevelModel objects automatically and fit arguments"
   ]
  },
  {
   "cell_type": "markdown",
   "id": "abc262c2-3cfa-48dc-be2f-dc895feedbbc",
   "metadata": {
    "tags": []
   },
   "source": [
    "## First level model estimation (one subject)"
   ]
  },
  {
   "cell_type": "markdown",
   "id": "6a087e76-5b71-4c8d-ab59-e5a663b5058e",
   "metadata": {},
   "source": [
    "## Simple statistical report of thresholded contrast"
   ]
  },
  {
   "cell_type": "markdown",
   "id": "71260eae-b81a-4105-9913-3ba5a4172d45",
   "metadata": {},
   "source": [
    "## Generating a report"
   ]
  },
  {
   "cell_type": "code",
   "execution_count": null,
   "id": "2aebd974-a107-4b49-9d6f-fcaf04143950",
   "metadata": {},
   "outputs": [],
   "source": []
  }
 ],
 "metadata": {
  "kernelspec": {
   "display_name": "Python 3",
   "language": "python",
   "name": "python3"
  },
  "language_info": {
   "codemirror_mode": {
    "name": "ipython",
    "version": 3
   },
   "file_extension": ".py",
   "mimetype": "text/x-python",
   "name": "python",
   "nbconvert_exporter": "python",
   "pygments_lexer": "ipython3",
   "version": "3.7.13"
  }
 },
 "nbformat": 4,
 "nbformat_minor": 5
}
