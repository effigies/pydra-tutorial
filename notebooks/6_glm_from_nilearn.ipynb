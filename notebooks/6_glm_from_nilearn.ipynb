{
 "cells": [
  {
   "cell_type": "markdown",
   "id": "98139643-b002-4b1d-9af5-d89cf06a7892",
   "metadata": {
    "tags": []
   },
   "source": [
    "# First level analysis of a complete BIDS dataset from openneuro"
   ]
  },
  {
   "cell_type": "markdown",
   "id": "9242b525-2736-4047-84c2-dc2a88e11276",
   "metadata": {},
   "source": [
    "In this tutorial, we will go through a simple workflow of the first level general linear modeling with a BIDS dataset from openneuro. This analysis is only performed on **one** subject.\n",
    "\n",
    "This tutorial is based on the [Nilearn GLM tutorial](https://nilearn.github.io/stable/auto_examples/04_glm_first_level/plot_bids_features.html#sphx-glr-auto-examples-04-glm-first-level-plot-bids-features-py)."
   ]
  },
  {
   "cell_type": "code",
   "execution_count": null,
   "id": "5f7bfbab-b727-4fc8-a0ac-7061fa528b68",
   "metadata": {},
   "outputs": [],
   "source": [
    "import nest_asyncio\n",
    "nest_asyncio.apply()"
   ]
  },
  {
   "cell_type": "markdown",
   "id": "b986e31e-fa30-49a4-8f47-71d65c2cf57c",
   "metadata": {
    "tags": []
   },
   "source": [
    "## Preparation\n",
    "\n",
    "Import packages that will be used globally and set up output directory"
   ]
  },
  {
   "cell_type": "code",
   "execution_count": null,
   "id": "e23a0be8-0774-4b9c-99fd-09557a2c0561",
   "metadata": {},
   "outputs": [],
   "source": [
    "import os\n",
    "import pydra\n",
    "from pydra import Workflow\n",
    "from pydra.engine.specs import File\n",
    "import typing as ty\n",
    "from pathlib import Path\n",
    "\n",
    "# get current directory\n",
    "pydra_tutorial_dir = os.path.dirname(os.getcwd())\n",
    "\n",
    "# set up output directory\n",
    "workflow_dir = Path(pydra_tutorial_dir) / \"outputs\" \n",
    "workflow_out_dir = workflow_dir / \"6_glm\"\n",
    "\n",
    "# create the output directory if not exit\n",
    "os.makedirs(workflow_out_dir, exist_ok = True) "
   ]
  },
  {
   "cell_type": "markdown",
   "id": "a3c47b68-0ff2-4ca3-b243-d8d8d3945835",
   "metadata": {
    "tags": []
   },
   "source": [
    "## Create tasks\n",
    "\n",
    "In this section, we converte major steps into tasks.\n",
    "Each pydra task can have multiple python functions. We recommand to put those logically more related functions into the same task.\n",
    "\n",
    "It is very **important** to keep in mind what adjacent tasks of your current task will be.\n",
    "1. Your previous task will decide your arguments in the current task\n",
    "2. Your next task will be impacted by the returns in the current task"
   ]
  },
  {
   "cell_type": "markdown",
   "id": "8b3d3a01-97ef-4023-a6d7-d18030383236",
   "metadata": {},
   "source": [
    "### fetch openneuro BIDS dataset\n",
    "\n",
    "In this task, we do the following:\n",
    "1. get openneuro dataset index\n",
    "2. specify exclusion patterns and number of subjects\n",
    "3. download the data we need\n",
    "\n",
    "\n",
    "**Notes:** Here we still use `n_subjects` as an argument. Given that we will only analyze one subject, you can also remove this argument and specify `n_subjects =1` in `select_from_index`. If you do, do not forget to modify the argument in the workflow later."
   ]
  },
  {
   "cell_type": "code",
   "execution_count": null,
   "id": "08060680-fa6e-4bb0-bee9-d954fea2eb75",
   "metadata": {},
   "outputs": [],
   "source": [
    "@pydra.mark.task\n",
    "@pydra.mark.annotate({\"exclusion_patterns\": list, \"n_subjects\":int, \"return\": {\"data_dir\":str}})\n",
    "def get_openneuro_dataset(exclusion_patterns, n_subjects):\n",
    "    \n",
    "    from nilearn.datasets import (fetch_openneuro_dataset_index,\n",
    "                              fetch_openneuro_dataset, select_from_index)\n",
    "    _, urls = fetch_openneuro_dataset_index()\n",
    "    urls = select_from_index(\n",
    "        urls, exclusion_filters=exclusion_patterns, n_subjects = n_subjects)\n",
    "    data_dir, _ = fetch_openneuro_dataset(urls=urls)\n",
    "    return data_dir"
   ]
  },
  {
   "cell_type": "markdown",
   "id": "fbf9f2eb-8b63-41ba-8a67-730897f12687",
   "metadata": {},
   "source": [
    "### obtain FirstLevelModel objects automatically and fit arguments\n",
    "\n",
    "To get the first level model(s) we have to specify \n",
    "1. the dataset directory\n",
    "2. the task_label\n",
    "3. the space_label \n",
    "4. the folder with the desired derivatives (fMRIPrep)\n",
    "\n",
    "In our case, we only have one subject so we will only have one first level model.\n",
    "Then, for this model, we will obtain \n",
    "1. the list of run images \n",
    "2. events\n",
    "3. confound regressors \n",
    "\n",
    "Those are inferred from the confounds.tsv files available in the BIDS dataset. "
   ]
  },
  {
   "cell_type": "code",
   "execution_count": null,
   "id": "2b6e4855-3a2d-43d9-a1cc-070365283833",
   "metadata": {},
   "outputs": [],
   "source": [
    "@pydra.mark.task\n",
    "@pydra.mark.annotate({\"data_dir\": str, \"task_label\": str, \"space_label\": str,\"derivatives_folder\": str, \"smoothing_fwhm\": float, \n",
    "                      \"return\": {\"model\": ty.Any, \"imgs\": list, \"subject\": str}})\n",
    "def get_info_from_bids(\n",
    "    data_dir,\n",
    "    task_label,\n",
    "    space_label,\n",
    "    smoothing_fwhm,\n",
    "    derivatives_folder\n",
    "):\n",
    "    from nilearn.glm.first_level import first_level_from_bids\n",
    "    models, models_run_imgs, models_events, models_confounds = \\\n",
    "    first_level_from_bids(dataset_path = data_dir, task_label = task_label, space_label = space_label,\n",
    "                          smoothing_fwhm = smoothing_fwhm, derivatives_folder = derivatives_folder)\n",
    "    model, imgs, events, confounds = (\n",
    "        models[0], models_run_imgs[0], models_events[0], models_confounds[0])\n",
    "    subject = \"sub-\" + model.subject_label\n",
    "    return model, imgs, subject"
   ]
  },
  {
   "cell_type": "markdown",
   "id": "ebd92386-14a6-4325-b1bc-75e320647be9",
   "metadata": {},
   "source": [
    "### Get design matrix\n",
    "\n",
    "This task does the following:\n",
    "1. read the design matrix in `.mat`\n",
    "2. rename the column\n",
    "3. save the new design matrix as `.csv`\n",
    "\n",
    "**Think:** What if we don't save the new design matrix, but `return` it directly? In other words, we `return` a `pandas.DataFrame` instead of a `path`. What will happen? Worth a try :) \n"
   ]
  },
  {
   "cell_type": "code",
   "execution_count": null,
   "id": "91749dab-c2d8-4929-9299-e72bd0f45adf",
   "metadata": {},
   "outputs": [],
   "source": [
    "@pydra.mark.task\n",
    "@pydra.mark.annotate({\"data_dir\":str, \"subject\":str, \"return\": {\"dm_path\": str}})\n",
    "def get_designmatrix(data_dir, subject):\n",
    "    \n",
    "    from nilearn.interfaces.fsl import get_design_from_fslmat\n",
    "    fsl_design_matrix_path = os.path.join(\n",
    "        data_dir, 'derivatives', 'task', subject, 'stopsignal.feat', 'design.mat')\n",
    "    design_matrix = get_design_from_fslmat(fsl_design_matrix_path, column_names=None)\n",
    "    \n",
    "    design_columns = ['cond_%02d' % i for i in range(len(design_matrix.columns))]\n",
    "    design_columns[0] = 'Go'\n",
    "    design_columns[4] = 'StopSuccess'\n",
    "    design_matrix.columns = design_columns\n",
    "    dm_path = os.path.join(workflow_out_dir, \"designmatrix.csv\")\n",
    "    design_matrix.to_csv(dm_path,index=None)\n",
    "    return dm_path                      "
   ]
  },
  {
   "cell_type": "markdown",
   "id": "03aa1870-2e42-4144-b478-961118d8f473",
   "metadata": {},
   "source": [
    "### Fit 1st level model\n",
    "\n",
    "What we are doing here is:\n",
    "1. use the design matrix to fit the first level model\n",
    "2. compute the contrast\n",
    "3. save the z_map and masker for futher use"
   ]
  },
  {
   "cell_type": "code",
   "execution_count": null,
   "id": "79ee2404-40af-4178-870b-498bdcc79774",
   "metadata": {},
   "outputs": [],
   "source": [
    "@pydra.mark.task\n",
    "@pydra.mark.annotate({\"model\": ty.Any,\"imgs\": ty.Any,\n",
    "                      \"dm_path\": ty.Any,\"contrast\": str,\n",
    "                      \"return\": {\"model\": ty.Any, \"z_map_path\":str, \"masker\":ty.Any}})\n",
    "def model_fit(\n",
    "    model, \n",
    "    imgs,\n",
    "    dm_path,\n",
    "    contrast\n",
    "):\n",
    "    import pandas as pd\n",
    "    design_matrix = pd.read_csv(dm_path)\n",
    "    model.fit(imgs, design_matrices = [design_matrix])\n",
    "    z_map = model.compute_contrast(contrast)\n",
    "    z_map_path = os.path.join(workflow_out_dir, \"firstlevel_z_map.nii.gz\")\n",
    "    z_map.to_filename(z_map_path)\n",
    "    masker_path = os.path.join(workflow_out_dir, \"firstlevel_masker.nii.gz\")\n",
    "    masker = model.masker_\n",
    "    return model, z_map_path, masker"
   ]
  },
  {
   "cell_type": "markdown",
   "id": "f10a1114-1f92-4f1f-84ef-6f89a4bc6a76",
   "metadata": {},
   "source": [
    "### Get cluster table and glm report\n",
    "\n",
    "For publication purposes, we obtain a cluster table and a summary report."
   ]
  },
  {
   "cell_type": "code",
   "execution_count": null,
   "id": "c5882482-14b6-4d11-8fa6-2cfcc17babf1",
   "metadata": {},
   "outputs": [],
   "source": [
    "\n",
    "@pydra.mark.task\n",
    "@pydra.mark.annotate({\"z_map_path\":str,\n",
    "                    \"return\":{\"output_file\":str}})\n",
    "def cluster_table(z_map_path):\n",
    "    import nibabel as nib\n",
    "    from nilearn.reporting import get_clusters_table\n",
    "    from scipy.stats import norm\n",
    "    \n",
    "    stat_img = nib.load(z_map_path)\n",
    "    output_file = os.path.join(workflow_out_dir, \"cluster_table.csv\")\n",
    "    df = get_clusters_table(stat_img,\n",
    "                            stat_threshold = norm.isf(0.001), \n",
    "                            cluster_threshold=10)\n",
    "    df.to_csv(output_file, index=None)\n",
    "    return output_file\n",
    "\n",
    "# get glm report\n",
    "@pydra.mark.task\n",
    "@pydra.mark.annotate({\"model\":ty.Any, \"contrasts\":str,\n",
    "                    \"return\":{\"output_file\":str}})\n",
    "def glm_report(\n",
    "    model,\n",
    "    contrasts\n",
    "):\n",
    "    from nilearn.reporting import make_glm_report\n",
    "    output_file = os.path.join(workflow_out_dir, \"glm_report.html\")\n",
    "    report = make_glm_report(model, contrasts)\n",
    "    report.save_as_html(output_file)\n",
    "    return output_file"
   ]
  },
  {
   "cell_type": "markdown",
   "id": "46e63037-f9cd-40dd-9c12-d6ab3ba1b7f3",
   "metadata": {},
   "source": [
    "### Make plots \n",
    "\n",
    "Here we want to make some plots to display our results and compare the result from FSL.\n",
    "1. plot nilearn z-map\n",
    "2. plot fsl z-map\n",
    "3. plot nilearn and fsl comparison\n",
    "4. plot design matrix contrast\n",
    "\n",
    "You can also seperate this task into multiple sub-tasks. But it makes more sense to put them into one task as they use the same files and function `nilearn.plotting` repeatedly."
   ]
  },
  {
   "cell_type": "code",
   "execution_count": null,
   "id": "c4d4eb57-5211-4b85-bd18-25b0e4270543",
   "metadata": {},
   "outputs": [],
   "source": [
    "@pydra.mark.task\n",
    "@pydra.mark.annotate({\"data_dir\":str, \"dm_path\":str, \"z_map_path\":str, \n",
    "                      \"contrast\":str,\"subject\":str, \"masker\":ty.Any, \n",
    "                      \"return\":{\"output_file1\":str, \"output_file2\":str,\n",
    "                                \"output_file3\":str, \"output_file4\":str}})\n",
    "def plots(\n",
    "    data_dir,\n",
    "    dm_path,\n",
    "    z_map_path,\n",
    "    contrast,\n",
    "    subject,\n",
    "    masker,\n",
    "):\n",
    "    import pandas as pd\n",
    "    import nibabel as nib\n",
    "    from nilearn.plotting import plot_glass_brain, plot_img_comparison, plot_contrast_matrix\n",
    "    import matplotlib.pyplot as plt\n",
    "    from scipy.stats import norm\n",
    "    \n",
    "    # plot and save nilearn z-map\n",
    "    z_map = nib.load(z_map_path)\n",
    "    output_file1 = os.path.join(workflow_out_dir, \"nilearn_z_map.png\")\n",
    "    plot_glass_brain(z_map, output_file = output_file1, colorbar = True,\n",
    "                     threshold = norm.isf(0.001), title = 'Nilearn Z map of \"StopSuccess - Go\" (unc p<0.001)',\n",
    "                     plot_abs = False, display_mode = 'ortho')\n",
    "    \n",
    "    # plot and save fsl z-map\n",
    "    fsl_z_map = nib.load(\n",
    "    os.path.join(data_dir, 'derivatives', 'task', subject, 'stopsignal.feat',\n",
    "                 'stats', 'zstat12.nii.gz'))\n",
    "    output_file2 = os.path.join(workflow_out_dir, \"fsl_z_map.png\")\n",
    "    plot_glass_brain(fsl_z_map, output_file = output_file2, colorbar = True, \n",
    "                     threshold = norm.isf(0.001), title = 'FSL Z map of \"StopSuccess - Go\" (unc p<0.001)',\n",
    "                     plot_abs = False, display_mode = 'ortho')\n",
    "    \n",
    "    # plot and save nilearn and fsl comparison\n",
    "    plot_img_comparison([z_map], [fsl_z_map], masker, output_dir = workflow_out_dir, \n",
    "                        ref_label = 'Nilearn', src_label = 'FSL')\n",
    "    old = os.path.join(workflow_out_dir, \"0000.png\")\n",
    "    new = os.path.join(workflow_out_dir, \"nilearn_fsl_comp.png\")\n",
    "    output_file3 = os.rename(old,new)\n",
    "    \n",
    "    # plot and save design matrix contrast\n",
    "    design_matrix = pd.read_csv(dm_path)\n",
    "    output_file4 = os.path.join(workflow_out_dir, \"firstlevel_contrast.png\")\n",
    "    plot_contrast_matrix(contrast, design_matrix, output_file = output_file4)\n",
    "    return output_file1, output_file2, output_file3, output_file4"
   ]
  },
  {
   "cell_type": "markdown",
   "id": "03db7552-d59a-4a89-9ce1-1fa4c9a1ac74",
   "metadata": {
    "tags": []
   },
   "source": [
    "## Make a workflow from tasks\n",
    "\n",
    "Now we have created all tasks we need for this first level analysis, and there are two choices for our next step.\n",
    "1. create one workflow to connect all tasks together\n",
    "2. create sub-workflows with some closely related tasks, and connect these workflows along with other tasks into a larger workflow.\n",
    "\n",
    "We recommand the second approach as it is alway a good practice to group tasks, especially when there are a large number of tasks in the analysis.\n",
    "\n",
    "Our analysis can be divided into three parts: (1) get/read the data, (2) analyze the data, and (3) plot the result, where (1) and (3) only have one task each. So we can put all tasks in (2) into one workflow and name it as `firstlevel` or whatever you prefer."
   ]
  },
  {
   "cell_type": "code",
   "execution_count": null,
   "id": "670b66d6-30a8-49a1-98d4-9367e03b11b8",
   "metadata": {},
   "outputs": [],
   "source": [
    "def firstlevel_workflow(name: str = \"firstlevel\") -> Workflow:\n",
    "    # initiate a workflow\n",
    "    wf = Workflow(name=name, input_spec=[\"data_dir\",\n",
    "                                         \"task_label\",\n",
    "                                         \"space_label\",\n",
    "                                         \"derivatives_folder\",\n",
    "                                         \"smoothing_fwhm\",\n",
    "                                         \"contrast\",\n",
    "                                         \"output_dir\"]\n",
    "                         )\n",
    "\n",
    "    # specify input\n",
    "    wf.inputs.task_label = 'stopsignal'\n",
    "    wf.inputs.space_label = 'MNI152NLin2009cAsym'\n",
    "    wf.inputs.derivatives_folder = 'derivatives/fmriprep'\n",
    "    wf.inputs.smoothing_fwhm = 5.0\n",
    "    \n",
    "    # add task - get_info_from_bids\n",
    "    wf.add(get_info_from_bids(name=\"get_info_from_bids\",\n",
    "                              data_dir = wf.lzin.data_dir,\n",
    "                              task_label = wf.lzin.task_label,\n",
    "                              space_label = wf.lzin.space_label,\n",
    "                              derivatives_folder = wf.lzin.derivatives_folder,\n",
    "                              smoothing_fwhm = wf.lzin.smoothing_fwhm\n",
    "                             )\n",
    "          )\n",
    "    # add task - get_designmatrix\n",
    "    wf.add(get_designmatrix(name = \"get_designmatrix\",\n",
    "                            data_dir = wf.lzin.data_dir,\n",
    "                            subject = wf.get_info_from_bids.lzout.subject,\n",
    "                           )\n",
    "          )\n",
    "    wf.add(model_fit(name = \"l1estimation\",\n",
    "                       model = wf.get_info_from_bids.lzout.model, \n",
    "                       imgs = wf.get_info_from_bids.lzout.imgs, \n",
    "                       dm_path = wf.get_designmatrix.lzout.dm_path,\n",
    "                       contrast = wf.lzin.contrast\n",
    "                    )\n",
    "          )\n",
    "    # add task - cluster_table\n",
    "    wf.add(cluster_table(name = \"cluster_table\", \n",
    "                         z_map_path = wf.l1estimation.lzout.z_map_path))\n",
    "    # add task - glm_report\n",
    "    wf.add(glm_report(name = \"glm_report\",\n",
    "                      model = wf.l1estimation.lzout.model,\n",
    "                      contrasts = wf.lzin.contrast\n",
    "                     )\n",
    "          )\n",
    "   # specify output\n",
    "    wf.set_output([\n",
    "        (\"z_map\", wf.l1estimation.lzout.z_map_path),\n",
    "        (\"masker\", wf.l1estimation.lzout.masker),\n",
    "        (\"subject\", wf.get_info_from_bids.lzout.subject),\n",
    "        (\"dm_path\", wf.get_designmatrix.lzout.dm_path),\n",
    "        (\"cluster_table\", wf.cluster_table.lzout.output_file),\n",
    "        (\"glm_report\", wf.glm_report.lzout.output_file)\n",
    "    ])\n",
    "    return wf"
   ]
  },
  {
   "cell_type": "markdown",
   "id": "a4bc54b0-6e83-48c6-b12b-edd4fd056fb8",
   "metadata": {
    "tags": []
   },
   "source": [
    "## The overaching workflow\n",
    "\n",
    "Connect other tasks and the above workflow into one\n",
    "\n",
    "Now we need to create the overaching glm workflow that connects the above workflow and other tasks (e.g., `get/read the data` and `plot the result`) "
   ]
  },
  {
   "cell_type": "code",
   "execution_count": null,
   "id": "f9d17464-25a7-4eb6-9568-22fc2d0dbf4a",
   "metadata": {},
   "outputs": [],
   "source": [
    "wf = Workflow(name = \"firstlevel_glm\",\n",
    "              input_spec = [\"exclusion_patterns\",\"n_subjects\",\"contrast\",\"output_dir\"],\n",
    "             )\n",
    "\n",
    "wf.inputs.exclusion_patterns = ['*group*', '*phenotype*', '*mriqc*',\n",
    "                                '*parameter_plots*', '*physio_plots*',\n",
    "                                '*space-fsaverage*', '*space-T1w*',\n",
    "                                '*dwi*', '*beh*', '*task-bart*',\n",
    "                                '*task-rest*', '*task-scap*', '*task-task*']\n",
    "wf.inputs.n_subjects = 1\n",
    "wf.inputs.output_dir = workflow_out_dir\n",
    "wf.inputs.contrast = 'StopSuccess - Go'\n",
    "\n",
    "wf.add(get_openneuro_dataset(name = \"get_openneuro_dataset\", \n",
    "                             exclusion_patterns = wf.lzin.exclusion_patterns,\n",
    "                             n_subjects = wf.lzin.n_subjects\n",
    "                            )\n",
    "      )\n",
    "\n",
    "wf_firstlevel = firstlevel_workflow()\n",
    "wf_firstlevel.inputs.data_dir = wf.get_openneuro_dataset.lzout.data_dir\n",
    "wf_firstlevel.inputs.contrast = wf.inputs.contrast\n",
    "wf_firstlevel.inputs.output_dir = wf.inputs.output_dir\n",
    "wf.add(wf_firstlevel)\n",
    "\n",
    "wf.add(plots(name = \"plots\",\n",
    "             data_dir = wf.get_openneuro_dataset.lzout.data_dir,\n",
    "             dm_path = wf_firstlevel.lzout.dm_path,\n",
    "             z_map_path = wf_firstlevel.lzout.z_map,\n",
    "             contrast = wf.lzin.contrast,\n",
    "             subject =  wf_firstlevel.lzout.subject,\n",
    "             masker = wf_firstlevel.lzout.masker\n",
    "            )\n",
    "      )\n",
    "\n",
    "wf.set_output([\n",
    "    (\"output1\", wf.plots.lzout.output_file1),\n",
    "    (\"output2\", wf.plots.lzout.output_file2),\n",
    "    (\"output3\", wf.plots.lzout.output_file3),\n",
    "    (\"output4\", wf.plots.lzout.output_file4)\n",
    "])"
   ]
  },
  {
   "cell_type": "markdown",
   "id": "fd608a90-da13-4fc3-9bdb-e1ec40920bb1",
   "metadata": {},
   "source": [
    "## Run Workflow Run"
   ]
  },
  {
   "cell_type": "code",
   "execution_count": null,
   "id": "c6c8ed43-48b4-4e63-8a67-0fc5a2a7a333",
   "metadata": {
    "tags": []
   },
   "outputs": [],
   "source": [
    "from pydra import Submitter\n",
    "\n",
    "with Submitter(plugin=\"cf\", n_procs=4) as submitter:\n",
    "    submitter(wf)\n",
    "\n",
    "results = wf.result(return_inputs=True)\n",
    "\n",
    "print(results)"
   ]
  },
  {
   "cell_type": "markdown",
   "id": "b70f45cf-ef08-4da5-a391-47062bf77be9",
   "metadata": {
    "tags": []
   },
   "source": [
    "## Visualization"
   ]
  },
  {
   "cell_type": "markdown",
   "id": "4aede438-60c0-440e-b84a-ed7fa11d22df",
   "metadata": {},
   "source": [
    "If you arrive here without any errors, Yay! you just made your first pydra workflow for a first-level GLM!\n",
    "\n",
    "Type `!tree ../outputs/`, you should see the same results as the following.\n",
    "\n",
    "No `tree` installed? \n",
    "\n",
    "Type `!ls ../outputs/6_glm`"
   ]
  },
  {
   "cell_type": "markdown",
   "id": "395eda11-0ecd-4a7d-813d-a2f041c0c326",
   "metadata": {},
   "source": [
    "![glm_tree.png](../figures/glm_tree.png)"
   ]
  },
  {
   "cell_type": "markdown",
   "id": "eb970ef2-a8d9-4471-8b39-e5dbf4c8ac8b",
   "metadata": {},
   "source": [
    "Let's see what those figures look like"
   ]
  },
  {
   "cell_type": "markdown",
   "id": "405900f5-05b5-4d2c-a21f-b86bfc7d2150",
   "metadata": {},
   "source": [
    "### First level contrast"
   ]
  },
  {
   "cell_type": "markdown",
   "id": "5aa8c7b8-5ab6-41ba-80c4-ce2427f0bf34",
   "metadata": {},
   "source": [
    "![firstlevel_contrast.png](../figures/firstlevel_contrast.png)"
   ]
  },
  {
   "cell_type": "markdown",
   "id": "58d4fcde-3159-4c2b-bab8-5300cc7d0b8a",
   "metadata": {},
   "source": [
    "### Nilearn Z map"
   ]
  },
  {
   "cell_type": "markdown",
   "id": "9d942bde-74f2-4ebe-bd9d-fb01d5436a44",
   "metadata": {},
   "source": [
    "![nilearn_z_map.png](../figures/nilearn_z_map.png)"
   ]
  },
  {
   "cell_type": "markdown",
   "id": "819326ca-d658-49e8-8a82-bae26c7f0421",
   "metadata": {},
   "source": [
    "### FSL Z map"
   ]
  },
  {
   "cell_type": "markdown",
   "id": "1d6af1aa-99c0-4430-8e0e-c066b65aa066",
   "metadata": {},
   "source": [
    "![fsl_z_map.png](../figures/fsl_z_map.png)"
   ]
  },
  {
   "cell_type": "markdown",
   "id": "68f26fb2-0c6a-4810-b8ac-ad6b93573e25",
   "metadata": {},
   "source": [
    "### Nilearn FSL comparison"
   ]
  },
  {
   "cell_type": "markdown",
   "id": "ffe0e8ee-0b72-4789-8e9f-850a776165ca",
   "metadata": {},
   "source": [
    "![nilearn_fsl_comp.png](../figures/nilearn_fsl_comp.png)"
   ]
  },
  {
   "cell_type": "markdown",
   "id": "06399e83-2c51-4632-b017-fb31b83d09ac",
   "metadata": {
    "tags": []
   },
   "source": [
    "## Exercise"
   ]
  },
  {
   "cell_type": "markdown",
   "id": "79a25085-9bea-4bbf-99d8-9be886a26994",
   "metadata": {},
   "source": [
    "What if we need to run the first-level GLM on multiple subject? We will need the `splitter`. \n",
    "\n",
    "So, where should we add `.split`?"
   ]
  },
  {
   "cell_type": "code",
   "execution_count": null,
   "id": "30cc11c6-9403-49d4-b4c8-978fff17630d",
   "metadata": {},
   "outputs": [],
   "source": []
  }
 ],
 "metadata": {
  "kernelspec": {
   "display_name": "Python 3",
   "language": "python",
   "name": "python3"
  },
  "language_info": {
   "codemirror_mode": {
    "name": "ipython",
    "version": 3
   },
   "file_extension": ".py",
   "mimetype": "text/x-python",
   "name": "python",
   "nbconvert_exporter": "python",
   "pygments_lexer": "ipython3",
   "version": "3.7.13"
  }
 },
 "nbformat": 4,
 "nbformat_minor": 5
}
