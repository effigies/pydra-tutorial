{
 "cells": [
  {
   "cell_type": "code",
   "execution_count": 44,
   "id": "78c03f2b-9ac8-4e0e-9d05-818648a34799",
   "metadata": {},
   "outputs": [],
   "source": [
    "import os, glob\n",
    "import pydra\n",
    "from pydra import Workflow\n",
    "from pydra.engine.specs import File, MultiInputFile\n",
    "import typing as ty\n",
    "from pathlib import Path\n",
    "\n",
    "# get current directory\n",
    "pydra_tutorial_dir = os.path.dirname(os.getcwd())\n",
    "\n",
    "# set up output directory\n",
    "workflow_dir = Path(pydra_tutorial_dir) / 'outputs'\n",
    "workflow_out_dir = workflow_dir / '7_glm'\n",
    "output_dir = workflow_out_dir / 'test_nilearn'\n",
    "\n",
    "# create the output directory if not exit\n",
    "os.makedirs(output_dir, exist_ok=True)"
   ]
  },
  {
   "cell_type": "markdown",
   "id": "00002987-ed5f-4339-a7ae-554f3aa5ad45",
   "metadata": {},
   "source": [
    "## Read data"
   ]
  },
  {
   "cell_type": "code",
   "execution_count": 2,
   "id": "7ab75255-6d5b-4e35-a4ff-c20d19f86cf5",
   "metadata": {},
   "outputs": [],
   "source": [
    "fmriprep_path = workflow_out_dir / 'data'\n",
    "rawdata_path = workflow_out_dir / 'raw_data'\n",
    "# get events.tsv list\n",
    "event_list = glob.glob(os.path.join(rawdata_path, '*', 'func', '*events.tsv'))\n",
    "event_list.sort()\n",
    "# get img list\n",
    "img_list = glob.glob(os.path.join(fmriprep_path, '*', 'func', '*space-MNI152NLin2009cAsym_res-2_desc-preproc_bold.nii.gz'))\n",
    "img_list.sort()\n",
    "# get mask list\n",
    "mask_list  = glob.glob(os.path.join(fmriprep_path, '*', 'func', '*space-MNI152NLin2009cAsym_res-2_desc-brain_mask.nii.gz'))\n",
    "mask_list.sort()\n",
    "# get confounds list\n",
    "confound_list = glob.glob(os.path.join(fmriprep_path, '*', 'func', '*desc-confounds_timeseries.tsv'))\n",
    "confound_list.sort()"
   ]
  },
  {
   "cell_type": "code",
   "execution_count": 108,
   "id": "bf735ca3-7a3d-4dee-83f2-ac662e69d007",
   "metadata": {},
   "outputs": [],
   "source": [
    "def get_subj_file(subj_id, n_run, event_list, img_list, mask_list):\n",
    "    # subj_id starts from 0\n",
    "    start = subj_id*n_run\n",
    "    end = start+2\n",
    "    subj_events = event_list[start:end]\n",
    "    subj_imgs = img_list[start:end]\n",
    "    subj_masks = mask_list[start:end]\n",
    "    return subj_id, subj_events, subj_imgs, subj_masks"
   ]
  },
  {
   "cell_type": "code",
   "execution_count": 109,
   "id": "4c14bf16-5c40-40ba-a4f1-29a6c9e50615",
   "metadata": {},
   "outputs": [],
   "source": [
    "def get_firstlevel_dm(tr, n_scans, hrf_model, subj_id, subj_imgs, subj_events):\n",
    "    import numpy as np\n",
    "    import pandas as pd\n",
    "    from nilearn.glm.first_level import make_first_level_design_matrix\n",
    "    from nilearn.interfaces.fmriprep import load_confounds_strategy\n",
    "    # read event file\n",
    "    events = []\n",
    "    imgs = []\n",
    "    for run_event in subj_events:\n",
    "        event = pd.read_csv(run_event, sep='\\t').fillna(0)\n",
    "        event = event[['onset', 'duration', 'trial_type']]\n",
    "        events.append(event)\n",
    "    \n",
    "    # get list of confounds directly from fmriprepped bold\n",
    "    confounds = load_confounds_strategy(subj_imgs, denoise_strategy='simple')[0]\n",
    "    \n",
    "    frame_times = np.arange(n_scans) * tr\n",
    "    design_matrices = []\n",
    "    dm_paths = []\n",
    "    for index, (ev, conf) in enumerate(zip(events, confounds)):\n",
    "        design_matrix = make_first_level_design_matrix(frame_times, ev, \n",
    "                                                       hrf_model=hrf_model,\n",
    "                                                       add_regs=conf)          \n",
    "        \n",
    "        # make sure all design matrices have the same length of column\n",
    "        # if you have a block design, this is not needed.\n",
    "        # 39 = 4(events) + 34(confounds) + 13(drift) + 1(constant)\n",
    "        assert design_matrix.shape[1] == 52, \"This design matrix has the wrong column number\"\n",
    "        # sort the column order alphabetical for contrasts\n",
    "        design_matrix = design_matrix.reindex(sorted(design_matrix.columns), axis=1)\n",
    "        dm_path = os.path.join(output_dir, 'sub-%s_run-%s_designmatrix.csv' % (subj_id, index+1))\n",
    "        design_matrix.to_csv(dm_path, index=None)\n",
    "        design_matrices.append(design_matrix)\n",
    "        dm_paths.append(dm_path)\n",
    "    return design_matrices, dm_paths"
   ]
  },
  {
   "cell_type": "code",
   "execution_count": 110,
   "id": "537f6cfb-5ceb-4e9d-b6c8-a2dbcd8da7a8",
   "metadata": {},
   "outputs": [],
   "source": [
    "def set_contrast(subj_id, design_matrices):\n",
    "    import pandas as pd\n",
    "    import numpy as np\n",
    "    from nilearn.plotting import plot_contrast_matrix\n",
    "    \n",
    "    design_matrix = design_matrices[0]\n",
    "    contrast_matrix = np.eye(design_matrix.shape[1])\n",
    "    basic_contrasts = dict([(column, contrast_matrix[i])\n",
    "                      for i, column in enumerate(design_matrix.columns)])\n",
    "    contrasts = {\n",
    "        'pumps-control': basic_contrasts['pumps_demean'] - basic_contrasts['control_pumps_demean'],\n",
    "        'control-pumps': -basic_contrasts['control_pumps_demean'] + basic_contrasts['pumps_demean'],\n",
    "        'pumps-baseline': basic_contrasts['pumps_demean'],\n",
    "        'cash-baseline': basic_contrasts['cash_demean'],\n",
    "        'explode-baseline': basic_contrasts['explode_demean'],\n",
    "        'effects_of_interest': np.vstack((basic_contrasts['pumps_demean'],\n",
    "                                          basic_contrasts['cash_demean'],\n",
    "                                          basic_contrasts['explode_demean']))\n",
    "        }\n",
    "    \n",
    "    contrast_plot = []\n",
    "    for index, (contrast_id, contrast_val) in enumerate(contrasts.items()):\n",
    "        print('  Plot Contrast % 2i out of %i: %s' % (\n",
    "            index + 1, len(contrasts), contrast_id))\n",
    "        contrast_plot_path = os.path.join(output_dir, 'sub-%s_firstlevel_contrast-%s.jpg' % (subj_id, contrast_id))\n",
    "        plot_contrast_matrix(contrast_val, design_matrix, output_file=contrast_plot_path)\n",
    "        contrast_plot.append(contrast_plot_path)\n",
    "    return contrasts, contrast_plot"
   ]
  },
  {
   "cell_type": "code",
   "execution_count": 111,
   "id": "d7697598-0493-4134-a76a-1fb730f9353b",
   "metadata": {},
   "outputs": [],
   "source": [
    "def firstlevel_estimation(subj_id, subj_imgs, subj_masks, smoothing_fwhm, design_matrices, contrasts):\n",
    "    import nibabel as nib\n",
    "    from nilearn.image import concat_imgs, mean_img\n",
    "    from nilearn.glm.first_level import FirstLevelModel\n",
    "    \n",
    "    print('Compute firstlevel mask...')\n",
    "    # average mask across three runs\n",
    "    mean_mask = math_img('np.mean(img, axis=-1)', img=subj_masks)\n",
    "    # binarize the mean mask\n",
    "    mask = math_img('img > 0', img=mean_mask)\n",
    "    # fit the (fixed-effects) firstlevel model with three runs simultaneously\n",
    "    first_level_model = FirstLevelModel(mask_img=mask, smoothing_fwhm=smoothing_fwhm, minimize_memory=True)\n",
    "    first_level_model = first_level_model.fit(subj_imgs, design_matrices=design_matrices)\n",
    "    \n",
    "    print('Computing contrasts...')\n",
    "    z_map_path_dict = dict.fromkeys(contrasts.keys())\n",
    "    for index, (contrast_id, contrast_val) in enumerate(contrasts.items()):\n",
    "        print('  Contrast % 2i out of %i: %s' % (\n",
    "            index + 1, len(contrasts), contrast_id))\n",
    "        # Estimate the contasts. Note that the model implicitly computes a fixed\n",
    "        # effect across the two sessions\n",
    "        z_map = first_level_model.compute_contrast(\n",
    "            contrast_val, output_type='z_score')\n",
    "\n",
    "        # write the resulting stat images to file\n",
    "        z_map_path = os.path.join(output_dir, 'sub-%s_contrast-%s_z_map.nii.gz' % (subj_id, contrast_id))\n",
    "        z_map_path_dict[contrast_id] = z_map_path\n",
    "        z_map.to_filename(z_map_path)\n",
    "        \n",
    "    return first_level_model, z_map_path_dict"
   ]
  },
  {
   "cell_type": "code",
   "execution_count": 112,
   "id": "a31c2b45-ec4d-4e48-a192-88a34927247e",
   "metadata": {
    "collapsed": true,
    "jupyter": {
     "outputs_hidden": true
    },
    "tags": []
   },
   "outputs": [
    {
     "name": "stdout",
     "output_type": "stream",
     "text": [
      "firstlevel GLM for sub-1\n",
      "  Plot Contrast  1 out of 6: pumps-control\n",
      "  Plot Contrast  2 out of 6: control-pumps\n",
      "  Plot Contrast  3 out of 6: pumps-baseline\n",
      "  Plot Contrast  4 out of 6: cash-baseline\n",
      "  Plot Contrast  5 out of 6: explode-baseline\n",
      "  Plot Contrast  6 out of 6: effects_of_interest\n",
      "Compute firstlevel mask...\n",
      "Computing contrasts...\n",
      "  Contrast  1 out of 6: pumps-control\n"
     ]
    },
    {
     "name": "stderr",
     "output_type": "stream",
     "text": [
      "/Users/yibeichen/miniconda3/envs/pydra/lib/python3.7/site-packages/nilearn/glm/first_level/first_level.py:657: UserWarning: One contrast given, assuming it for all 2 runs\n",
      "  warn('One contrast given, assuming it for all %d runs' % n_runs)\n"
     ]
    },
    {
     "name": "stdout",
     "output_type": "stream",
     "text": [
      "  Contrast  2 out of 6: control-pumps\n",
      "  Contrast  3 out of 6: pumps-baseline\n",
      "  Contrast  4 out of 6: cash-baseline\n",
      "  Contrast  5 out of 6: explode-baseline\n",
      "  Contrast  6 out of 6: effects_of_interest\n"
     ]
    },
    {
     "name": "stderr",
     "output_type": "stream",
     "text": [
      "/Users/yibeichen/miniconda3/envs/pydra/lib/python3.7/site-packages/nilearn/glm/contrasts.py:352: UserWarning: Running approximate fixed effects on F statistics.\n",
      "  warn('Running approximate fixed effects on F statistics.')\n"
     ]
    },
    {
     "name": "stdout",
     "output_type": "stream",
     "text": [
      "firstlevel GLM for sub-2\n",
      "  Plot Contrast  1 out of 6: pumps-control\n",
      "  Plot Contrast  2 out of 6: control-pumps\n",
      "  Plot Contrast  3 out of 6: pumps-baseline\n",
      "  Plot Contrast  4 out of 6: cash-baseline\n",
      "  Plot Contrast  5 out of 6: explode-baseline\n",
      "  Plot Contrast  6 out of 6: effects_of_interest\n",
      "Compute firstlevel mask...\n",
      "Computing contrasts...\n",
      "  Contrast  1 out of 6: pumps-control\n"
     ]
    },
    {
     "name": "stderr",
     "output_type": "stream",
     "text": [
      "/Users/yibeichen/miniconda3/envs/pydra/lib/python3.7/site-packages/nilearn/glm/first_level/first_level.py:657: UserWarning: One contrast given, assuming it for all 2 runs\n",
      "  warn('One contrast given, assuming it for all %d runs' % n_runs)\n"
     ]
    },
    {
     "name": "stdout",
     "output_type": "stream",
     "text": [
      "  Contrast  2 out of 6: control-pumps\n",
      "  Contrast  3 out of 6: pumps-baseline\n",
      "  Contrast  4 out of 6: cash-baseline\n",
      "  Contrast  5 out of 6: explode-baseline\n",
      "  Contrast  6 out of 6: effects_of_interest\n"
     ]
    },
    {
     "name": "stderr",
     "output_type": "stream",
     "text": [
      "/Users/yibeichen/miniconda3/envs/pydra/lib/python3.7/site-packages/nilearn/glm/contrasts.py:352: UserWarning: Running approximate fixed effects on F statistics.\n",
      "  warn('Running approximate fixed effects on F statistics.')\n"
     ]
    },
    {
     "name": "stdout",
     "output_type": "stream",
     "text": [
      "firstlevel GLM for sub-3\n",
      "  Plot Contrast  1 out of 6: pumps-control\n",
      "  Plot Contrast  2 out of 6: control-pumps\n",
      "  Plot Contrast  3 out of 6: pumps-baseline\n",
      "  Plot Contrast  4 out of 6: cash-baseline\n",
      "  Plot Contrast  5 out of 6: explode-baseline\n",
      "  Plot Contrast  6 out of 6: effects_of_interest\n",
      "Compute firstlevel mask...\n",
      "Computing contrasts...\n",
      "  Contrast  1 out of 6: pumps-control\n"
     ]
    },
    {
     "name": "stderr",
     "output_type": "stream",
     "text": [
      "/Users/yibeichen/miniconda3/envs/pydra/lib/python3.7/site-packages/nilearn/glm/first_level/first_level.py:657: UserWarning: One contrast given, assuming it for all 2 runs\n",
      "  warn('One contrast given, assuming it for all %d runs' % n_runs)\n"
     ]
    },
    {
     "name": "stdout",
     "output_type": "stream",
     "text": [
      "  Contrast  2 out of 6: control-pumps\n",
      "  Contrast  3 out of 6: pumps-baseline\n",
      "  Contrast  4 out of 6: cash-baseline\n",
      "  Contrast  5 out of 6: explode-baseline\n",
      "  Contrast  6 out of 6: effects_of_interest\n"
     ]
    },
    {
     "name": "stderr",
     "output_type": "stream",
     "text": [
      "/Users/yibeichen/miniconda3/envs/pydra/lib/python3.7/site-packages/nilearn/glm/contrasts.py:352: UserWarning: Running approximate fixed effects on F statistics.\n",
      "  warn('Running approximate fixed effects on F statistics.')\n"
     ]
    }
   ],
   "source": [
    "# select one subject\n",
    "subj_list = [1,2,3]\n",
    "n_run = 3\n",
    "tr = 2.3\n",
    "n_scans = 300\n",
    "hrf_model='glover'\n",
    "smoothing_fwhm=5.0\n",
    "second_level_input = []\n",
    "z_map_dict_list = []\n",
    "for subj_id in subj_list:\n",
    "    print('firstlevel GLM for sub-%s' % subj_id)\n",
    "    subj_id, subj_events, subj_imgs, subj_masks = get_subj_file(\n",
    "        subj_id=subj_id, n_run=n_run, \n",
    "        event_list=event_list, img_list=img_list, mask_list=mask_list)\n",
    "    design_matrices, dm_paths = get_firstlevel_dm(\n",
    "        tr=tr, n_scans=n_scans, hrf_model=hrf_model, \n",
    "    subj_id=subj_id, subj_imgs=subj_imgs, subj_events=subj_events)\n",
    "    contrasts, contrast_plot = set_contrast(subj_id=subj_id, design_matrices=design_matrices)\n",
    "    first_level_model, z_map_path_dict = firstlevel_estimation(\n",
    "        subj_id=subj_id, subj_imgs=subj_imgs, subj_masks=subj_masks, \n",
    "        smoothing_fwhm=smoothing_fwhm, design_matrices=design_matrices, contrasts=contrasts)\n",
    "    second_level_input.append(first_level_model)\n",
    "    z_map_dict_list.append(z_map_path_dict)"
   ]
  },
  {
   "cell_type": "markdown",
   "id": "3dc87313-9aed-4601-afaa-8001fca94f70",
   "metadata": {},
   "source": [
    "## Second level GLM"
   ]
  },
  {
   "cell_type": "code",
   "execution_count": 100,
   "id": "89b2105c-a184-48aa-956f-fb2288e1a5b9",
   "metadata": {},
   "outputs": [],
   "source": [
    "def get_secondlevel_dm(subj_list):\n",
    "    import pandas as pd\n",
    "    n_subj = len(subj_list)\n",
    "    design_matrix = pd.DataFrame([1] * n_subj,columns=['intercept'])\n",
    "    dm_path = os.path.join(output_dir, 'secondlevel_designmatrix.csv')\n",
    "    design_matrix.to_csv(dm_path, index=None)\n",
    "    return design_matrix"
   ]
  },
  {
   "cell_type": "code",
   "execution_count": 124,
   "id": "2c5c3df8-4be4-4b9d-9928-5f8f505f5c5a",
   "metadata": {},
   "outputs": [],
   "source": [
    "def secondlevel_estimation(second_level_input, design_matrix, first_level_contrast):\n",
    "    \"\"\" task to estimate the second level\n",
    "    Parameters\n",
    "    ----------\n",
    "    second_level_input : list\n",
    "        the list of FirstLevelModel\n",
    "    design_matrix : ty.Any\n",
    "        a pandas.DataFrame that specifies the second level design\n",
    "    first_level_contrast : dict\n",
    "        a dictionary of contrasts\n",
    "\n",
    "    Returns\n",
    "    -------\n",
    "    second_level_model : SecondLevelModel object\n",
    "        \n",
    "    stat_maps_dict : dict\n",
    "        \n",
    "    \"\"\"\n",
    "    from nilearn.glm.second_level import SecondLevelModel\n",
    "    second_level_model = SecondLevelModel().fit(second_level_input=second_level_input, confounds = None, design_matrix=design_matrix)\n",
    "    \n",
    "    print('Computing contrasts...')\n",
    "    stat_maps_dict = {}\n",
    "    for index, (contrast_id, contrast_val) in enumerate(first_level_contrast.items()):\n",
    "        print('  Contrast % 2i out of %i: %s' % (\n",
    "            index + 1, len(first_level_contrast), contrast_id))\n",
    "        \n",
    "        # Estimate the contasts. Note that the model implicitly computes a fixed\n",
    "        # effect across the two sessions\n",
    "        stat_maps = second_level_model.compute_contrast(first_level_contrast=contrast_val, output_type='all')\n",
    "        stat_maps_dict[contrast_id] = stat_maps\n",
    "        # # write the resulting stat images to file\n",
    "        # z_image_path = path.join(output_dir, 'contrast-%s_z_map.nii.gz' % contrast_id)\n",
    "        # z_image_path_list.append(z_image_path)\n",
    "        # z_map.to_filename(z_image_path)\n",
    "    return second_level_model, stat_maps_dict"
   ]
  },
  {
   "cell_type": "code",
   "execution_count": 151,
   "id": "0d714427-fd79-412d-886e-2a31779a7cd8",
   "metadata": {
    "tags": []
   },
   "outputs": [],
   "source": [
    "def cluster_thresholding(stat_maps_dict, threshold, cluster_threshold):\n",
    "    from nilearn.image import threshold_img\n",
    "    from nilearn import plotting\n",
    "    thresholded_map_dict = dict.fromkeys(stat_maps_dict.keys())\n",
    "    plot_contrast_dict = dict.fromkeys(stat_maps_dict.keys())\n",
    "    for index, (stats_id, stats_val) in enumerate(stat_maps_dict.items()):\n",
    "        print('  Contrast % 2i out of %i: %s' % (\n",
    "            index + 1, len(stat_maps_dict), stats_id))\n",
    "        thresholded_map = threshold_img(\n",
    "            img = stats_val['z_score'],\n",
    "            threshold=threshold,\n",
    "            cluster_threshold=cluster_threshold,\n",
    "            two_sided=True,\n",
    "        )\n",
    "        thresholded_map_path = os.path.join(output_dir, 'secondlevel_cluster_thresholded_contrast-%s_z_map.nii.gz' % stats_id)\n",
    "        thresholded_map_dict[stats_id] = thresholded_map_path\n",
    "        thresholded_map.to_filename(thresholded_map_path)\n",
    "        plot_path = os.path.join(output_dir, \n",
    "                                   'secondlevel_cluster_thresholded_contrast-%s_zmap.jpg' % stats_id)\n",
    "        plot_contrast_dict[stats_id] = plot_path\n",
    "        plotting.plot_stat_map(thresholded_map,\n",
    "                               title='Cluster Thresholded z map',\n",
    "                               output_file=plot_path)\n",
    "    return thresholded_map_dict, plot_contrast_dict"
   ]
  },
  {
   "cell_type": "code",
   "execution_count": 155,
   "id": "e5a134f4-3538-482e-89d7-bf15c9260fb3",
   "metadata": {},
   "outputs": [],
   "source": [
    "def multiple_comparison(stat_maps_dict, alpha, height_control):\n",
    "    from nilearn.glm import threshold_stats_img\n",
    "    from nilearn import plotting\n",
    "    thresholded_map_dict = dict.fromkeys(stat_maps_dict.keys())\n",
    "    plot_contrast_dict = dict.fromkeys(stat_maps_dict.keys())\n",
    "    for index, (stats_id, stats_val) in enumerate(stat_maps_dict.items()):\n",
    "        print('  Contrast % 2i out of %i: %s' % (\n",
    "            index + 1, len(stat_maps_dict), stats_id))\n",
    "        thresholded_map, threshold = threshold_stats_img(\n",
    "            stat_img=stats_val['z_score'], \n",
    "            alpha=alpha, \n",
    "            height_control=height_control)\n",
    "        thresholded_map_path = os.path.join(output_dir, \n",
    "                                         'secondlevel_multiple_comp_corrected_contrast-%s_z_map.nii.gz' % stats_id)\n",
    "        thresholded_map_dict[stats_id] = thresholded_map_path\n",
    "        thresholded_map.to_filename(thresholded_map_path)\n",
    "        plot_path = os.path.join(output_dir, \n",
    "                                   'secondlevel_multiple_comp_corrected_contrast-%s_zmap.jpg' % stats_id)\n",
    "        plot_contrast_dict[stats_id] = plot_path\n",
    "        plotting.plot_stat_map(thresholded_map,\n",
    "                               title='Thresholded z map, expected fdr = .05',\n",
    "                               threshold=threshold, \n",
    "                               output_file=plot_path)\n",
    "    return thresholded_map_dict, plot_contrast_dict"
   ]
  },
  {
   "cell_type": "code",
   "execution_count": 163,
   "id": "f88f1d00-504f-42a9-b00f-68df11e5791b",
   "metadata": {},
   "outputs": [],
   "source": [
    "def parametric_test(stat_maps_dict, second_level_model):\n",
    "    import numpy as np\n",
    "    from nilearn.image import get_data, math_img\n",
    "    from nilearn import plotting\n",
    "    thresholded_map_dict = dict.fromkeys(stat_maps_dict.keys())\n",
    "    plot_contrast_dict = dict.fromkeys(stat_maps_dict.keys())\n",
    "    for index, (stats_id, stats_val) in enumerate(stat_maps_dict.items()):\n",
    "        print('  Contrast % 2i out of %i: %s' % (\n",
    "            index + 1, len(stat_maps_dict), stats_id))\n",
    "        p_val = stats_val['p_value']\n",
    "        n_voxels = np.sum(get_data(second_level_model.masker_.mask_img_))\n",
    "        # Correcting the p-values for multiple testing and taking negative logarithm\n",
    "        neg_log_pval = math_img(\"-np.log10(np.minimum(1, img * {}))\"\n",
    "                                .format(str(n_voxels)),\n",
    "                                img=p_val)\n",
    "        \n",
    "        thresholded_map_path = os.path.join(output_dir, 'secondlevel_paramatric_thresholded_contrast-%s_z_map.nii.gz' % stats_id)\n",
    "        thresholded_map_dict[stats_id] = thresholded_map_path\n",
    "        neg_log_pval.to_filename(thresholded_map_path)\n",
    "    \n",
    "        # Since we are plotting negative log p-values and using a threshold equal to 1,\n",
    "        # it corresponds to corrected p-values lower than 10%, meaning that there is\n",
    "        # less than 10% probability to make a single false discovery (90% chance that\n",
    "        # we make no false discovery at all).  This threshold is much more conservative\n",
    "        # than the previous one.\n",
    "        title = ('parametric test (FWER < 10%)')\n",
    "        plot_path = os.path.join(output_dir, \n",
    "                                   'secondlevel_paramatric_thresholded_contrast-%s_zmap.jpg' % stats_id)\n",
    "        plot_contrast_dict[stats_id] = plot_path\n",
    "        plotting.plot_glass_brain(\n",
    "            neg_log_pval, colorbar=True, display_mode='z', plot_abs=False, \n",
    "            vmax=3, threshold=1, title=title, output_file=plot_path)\n",
    "    return thresholded_map_dict, plot_contrast_dict"
   ]
  },
  {
   "cell_type": "code",
   "execution_count": 176,
   "id": "cb60b384-d6e6-489d-8ebc-e7dacc59453f",
   "metadata": {},
   "outputs": [],
   "source": [
    "def nonparametric_test(z_map_dict_list, smoothing_fwhm, design_matrix, firstlevel_contrast, n_perm):\n",
    "    \"\"\" task to estimate the second level\n",
    "    Parameters\n",
    "    ----------\n",
    "    z_map_dict_list : list\n",
    "        the list of first-level output (dictionary)\n",
    "    design_matrix : ty.Any\n",
    "        a pandas.DataFrame that specifies the second level design\n",
    "    first_level_contrast : dict\n",
    "        a dictionary of contrasts used in the first level\n",
    "    n_perm: int\n",
    "        number of permutation\n",
    "\n",
    "    Returns\n",
    "    -------\n",
    "    thresholded_map_dict : dict\n",
    "        \n",
    "    plot_contrast_dict : dict\n",
    "        \n",
    "    \"\"\"\n",
    "    from nilearn.glm.second_level import non_parametric_inference\n",
    "    from nilearn import plotting\n",
    "    z_map_dict = {con: [sub[con] for sub in z_map_dict_list] for con in firstlevel_contrast.keys() }\n",
    "    thresholded_map_dict = dict.fromkeys(z_map_dict.keys())\n",
    "    plot_contrast_dict = dict.fromkeys(z_map_dict.keys())\n",
    "    for index, (stats_id, stats_val) in enumerate(z_map_dict.items()):\n",
    "        print('  Contrast % 2i out of %i: %s' % (\n",
    "            index + 1, len(z_map_dict), stats_id))\n",
    "        \n",
    "        # here we set threshold as none to do voxel-level FWER-correction.\n",
    "        neg_log_pvals_permuted_ols_unmasked = \\\n",
    "            non_parametric_inference(stats_val, design_matrix=design_matrix,\n",
    "                                     model_intercept=True, n_perm=n_perm,\n",
    "                                     two_sided_test=False, smoothing_fwhm=smoothing_fwhm, n_jobs=-2)\n",
    "        \n",
    "        thresholded_map_path = os.path.join(output_dir, 'secondlevel_permutation_contrast-%s_z_map.nii.gz' % stats_id)\n",
    "        thresholded_map_dict[stats_id] = thresholded_map_path\n",
    "        neg_log_pvals_permuted_ols_unmasked.to_filename(thresholded_map_path)\n",
    "        # here I actually have more than one contrast\n",
    "        title = ('permutation test (FWER < 10%)')\n",
    "        plot_path = os.path.join(output_dir, 'secondlevel_permutation_contrast-%s_zmap.jpg' % stats_id)\n",
    "        plot_contrast_dict[stats_id] = plot_path\n",
    "        display = plotting.plot_glass_brain(\n",
    "            neg_log_pvals_permuted_ols_unmasked, colorbar=True, vmax=3,\n",
    "            display_mode='z', plot_abs=False, threshold=1, \n",
    "            title=title, output_file=plot_path)\n",
    "    return thresholded_map_dict, plot_contrast_dict"
   ]
  },
  {
   "cell_type": "code",
   "execution_count": 156,
   "id": "1ff3d5a9-9ffc-4870-a1aa-dfb218dc100b",
   "metadata": {},
   "outputs": [],
   "source": [
    "design_matrix = get_secondlevel_dm(subj_list=subj_list)"
   ]
  },
  {
   "cell_type": "code",
   "execution_count": 138,
   "id": "6588e278-56e5-4980-8084-dbe2a92dfbc4",
   "metadata": {
    "tags": []
   },
   "outputs": [
    {
     "name": "stdout",
     "output_type": "stream",
     "text": [
      "Computing contrasts...\n",
      "  Contrast  1 out of 6: pumps-control\n",
      "  Contrast  2 out of 6: control-pumps\n",
      "  Contrast  3 out of 6: pumps-baseline\n",
      "  Contrast  4 out of 6: cash-baseline\n",
      "  Contrast  5 out of 6: explode-baseline\n",
      "  Contrast  6 out of 6: effects_of_interest\n"
     ]
    }
   ],
   "source": [
    "second_level_model, stat_maps_dict = secondlevel_estimation(\n",
    "    second_level_input=second_level_input, \n",
    "    design_matrix=design_matrix, \n",
    "    first_level_contrast=contrasts)"
   ]
  },
  {
   "cell_type": "code",
   "execution_count": 153,
   "id": "e393d950-2403-48c8-a593-c5987562b396",
   "metadata": {},
   "outputs": [
    {
     "name": "stdout",
     "output_type": "stream",
     "text": [
      "  Contrast  1 out of 6: pumps-control\n",
      "  Contrast  2 out of 6: control-pumps\n",
      "  Contrast  3 out of 6: pumps-baseline\n",
      "  Contrast  4 out of 6: cash-baseline\n",
      "  Contrast  5 out of 6: explode-baseline\n",
      "  Contrast  6 out of 6: effects_of_interest\n"
     ]
    }
   ],
   "source": [
    "threshold = 2.3\n",
    "cluster_threshold = 10\n",
    "thresholded_map_dict, plot_contrast_dict = cluster_thresholding(\n",
    "    stat_maps_dict=stat_maps_dict, threshold=threshold, cluster_threshold=cluster_threshold)"
   ]
  },
  {
   "cell_type": "code",
   "execution_count": 157,
   "id": "fb1aa4da-1fa2-4ba6-be67-f216de91e9c1",
   "metadata": {},
   "outputs": [
    {
     "name": "stdout",
     "output_type": "stream",
     "text": [
      "  Contrast  1 out of 6: pumps-control\n",
      "  Contrast  2 out of 6: control-pumps\n",
      "  Contrast  3 out of 6: pumps-baseline\n",
      "  Contrast  4 out of 6: cash-baseline\n",
      "  Contrast  5 out of 6: explode-baseline\n",
      "  Contrast  6 out of 6: effects_of_interest\n"
     ]
    }
   ],
   "source": [
    "alpha = 0.05\n",
    "height_control = 'fdr'\n",
    "thresholded_map_dict, plot_contrast_dict = multiple_comparison(\n",
    "    stat_maps_dict=stat_maps_dict, alpha=alpha, height_control=height_control)"
   ]
  },
  {
   "cell_type": "code",
   "execution_count": 164,
   "id": "05814560-e00c-4314-be41-2682e1170529",
   "metadata": {},
   "outputs": [
    {
     "name": "stdout",
     "output_type": "stream",
     "text": [
      "  Contrast  1 out of 6: pumps-control\n"
     ]
    },
    {
     "name": "stderr",
     "output_type": "stream",
     "text": [
      "<string>:1: RuntimeWarning: divide by zero encountered in log10\n",
      "/Users/yibeichen/miniconda3/envs/pydra/lib/python3.7/site-packages/nilearn/_utils/niimg.py:62: UserWarning: Non-finite values detected. These values will be replaced with zeros.\n",
      "  \"Non-finite values detected. \"\n"
     ]
    },
    {
     "name": "stdout",
     "output_type": "stream",
     "text": [
      "  Contrast  2 out of 6: control-pumps\n"
     ]
    },
    {
     "name": "stderr",
     "output_type": "stream",
     "text": [
      "<string>:1: RuntimeWarning: divide by zero encountered in log10\n"
     ]
    },
    {
     "name": "stdout",
     "output_type": "stream",
     "text": [
      "  Contrast  3 out of 6: pumps-baseline\n"
     ]
    },
    {
     "name": "stderr",
     "output_type": "stream",
     "text": [
      "<string>:1: RuntimeWarning: divide by zero encountered in log10\n"
     ]
    },
    {
     "name": "stdout",
     "output_type": "stream",
     "text": [
      "  Contrast  4 out of 6: cash-baseline\n"
     ]
    },
    {
     "name": "stderr",
     "output_type": "stream",
     "text": [
      "<string>:1: RuntimeWarning: divide by zero encountered in log10\n"
     ]
    },
    {
     "name": "stdout",
     "output_type": "stream",
     "text": [
      "  Contrast  5 out of 6: explode-baseline\n"
     ]
    },
    {
     "name": "stderr",
     "output_type": "stream",
     "text": [
      "<string>:1: RuntimeWarning: divide by zero encountered in log10\n"
     ]
    },
    {
     "name": "stdout",
     "output_type": "stream",
     "text": [
      "  Contrast  6 out of 6: effects_of_interest\n"
     ]
    },
    {
     "name": "stderr",
     "output_type": "stream",
     "text": [
      "<string>:1: RuntimeWarning: divide by zero encountered in log10\n"
     ]
    }
   ],
   "source": [
    "thresholded_map_dict, plot_contrast_dict = parametric_test(\n",
    "    stat_maps_dict=stat_maps_dict, second_level_model=second_level_model)"
   ]
  },
  {
   "cell_type": "code",
   "execution_count": 177,
   "id": "90c786a2-7ca7-438b-9c08-76581bceae55",
   "metadata": {},
   "outputs": [
    {
     "name": "stdout",
     "output_type": "stream",
     "text": [
      "  Contrast  1 out of 6: pumps-control\n",
      "  Contrast  2 out of 6: control-pumps\n",
      "  Contrast  3 out of 6: pumps-baseline\n",
      "  Contrast  4 out of 6: cash-baseline\n",
      "  Contrast  5 out of 6: explode-baseline\n",
      "  Contrast  6 out of 6: effects_of_interest\n"
     ]
    }
   ],
   "source": [
    "thresholded_map_dict, plot_contrast_dict = nonparametric_test(\n",
    "    z_map_dict_list=z_map_dict_list, smoothing_fwhm=smoothing_fwhm, \n",
    "    design_matrix=design_matrix, firstlevel_contrast=contrasts, n_perm=1)"
   ]
  },
  {
   "cell_type": "code",
   "execution_count": null,
   "id": "9b3d6581-88ff-47fa-be4d-562dd61241ce",
   "metadata": {},
   "outputs": [],
   "source": []
  }
 ],
 "metadata": {
  "kernelspec": {
   "display_name": "Python 3 (ipykernel)",
   "language": "python",
   "name": "python3"
  },
  "language_info": {
   "codemirror_mode": {
    "name": "ipython",
    "version": 3
   },
   "file_extension": ".py",
   "mimetype": "text/x-python",
   "name": "python",
   "nbconvert_exporter": "python",
   "pygments_lexer": "ipython3",
   "version": "3.7.13"
  }
 },
 "nbformat": 4,
 "nbformat_minor": 5
}
