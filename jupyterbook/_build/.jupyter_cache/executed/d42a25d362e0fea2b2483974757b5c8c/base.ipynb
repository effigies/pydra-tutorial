{
 "cells": [
  {
   "cell_type": "code",
   "execution_count": 1,
   "id": "146eb2be",
   "metadata": {
    "jupyter": {
     "outputs_hidden": false
    },
    "pycharm": {
     "name": "#%%\n"
    }
   },
   "outputs": [],
   "source": [
    "import nest_asyncio\n",
    "nest_asyncio.apply()"
   ]
  },
  {
   "cell_type": "code",
   "execution_count": 2,
   "id": "cf24a8ad",
   "metadata": {},
   "outputs": [],
   "source": [
    "import pydra\n",
    "\n",
    "@pydra.mark.task\n",
    "def add_two(x):\n",
    "    return x + 2\n",
    "\n",
    "task1 = add_two(x=[1, 2, 3])"
   ]
  },
  {
   "cell_type": "code",
   "execution_count": 3,
   "id": "118805a3",
   "metadata": {},
   "outputs": [
    {
     "data": {
      "text/plain": [
       "True"
      ]
     },
     "execution_count": 3,
     "metadata": {},
     "output_type": "execute_result"
    }
   ],
   "source": [
    "task1.state is None"
   ]
  },
  {
   "cell_type": "code",
   "execution_count": 4,
   "id": "52cd2a70",
   "metadata": {},
   "outputs": [
    {
     "data": {
      "text/plain": [
       "<pydra.engine.task.FunctionTask at 0x7fb0205e3b90>"
      ]
     },
     "execution_count": 4,
     "metadata": {},
     "output_type": "execute_result"
    }
   ],
   "source": [
    "task1.split(\"x\")"
   ]
  },
  {
   "cell_type": "code",
   "execution_count": 5,
   "id": "a6b2ba60",
   "metadata": {},
   "outputs": [
    {
     "data": {
      "text/plain": [
       "<pydra.engine.state.State at 0x7fb01813fd10>"
      ]
     },
     "execution_count": 5,
     "metadata": {},
     "output_type": "execute_result"
    }
   ],
   "source": [
    "task1.state"
   ]
  },
  {
   "cell_type": "code",
   "execution_count": 6,
   "id": "982e0881",
   "metadata": {},
   "outputs": [
    {
     "name": "stdout",
     "output_type": "stream",
     "text": [
      "State for add_two with a splitter: add_two.x and combiner: []\n"
     ]
    }
   ],
   "source": [
    "print(task1.state)"
   ]
  },
  {
   "cell_type": "code",
   "execution_count": 7,
   "id": "b1fa6a79",
   "metadata": {},
   "outputs": [
    {
     "data": {
      "text/plain": [
       "'add_two.x'"
      ]
     },
     "execution_count": 7,
     "metadata": {},
     "output_type": "execute_result"
    }
   ],
   "source": [
    "task1.state.splitter"
   ]
  },
  {
   "cell_type": "code",
   "execution_count": 8,
   "id": "b20f04c1",
   "metadata": {},
   "outputs": [
    {
     "data": {
      "text/plain": [
       "[Result(output=Output(out=3), runtime=None, errored=False),\n",
       " Result(output=Output(out=4), runtime=None, errored=False),\n",
       " Result(output=Output(out=5), runtime=None, errored=False)]"
      ]
     },
     "execution_count": 8,
     "metadata": {},
     "output_type": "execute_result"
    }
   ],
   "source": [
    "task1()\n",
    "task1.result()"
   ]
  },
  {
   "cell_type": "code",
   "execution_count": 9,
   "id": "687fe95f",
   "metadata": {},
   "outputs": [
    {
     "data": {
      "text/plain": [
       "[({'add_two.x': 1}, Result(output=Output(out=3), runtime=None, errored=False)),\n",
       " ({'add_two.x': 2}, Result(output=Output(out=4), runtime=None, errored=False)),\n",
       " ({'add_two.x': 3}, Result(output=Output(out=5), runtime=None, errored=False))]"
      ]
     },
     "execution_count": 9,
     "metadata": {},
     "output_type": "execute_result"
    }
   ],
   "source": [
    "task1.result(return_inputs=True)"
   ]
  },
  {
   "cell_type": "code",
   "execution_count": 10,
   "id": "40de66d5",
   "metadata": {},
   "outputs": [
    {
     "data": {
      "text/plain": [
       "[({'add_two.x': 0}, Result(output=Output(out=3), runtime=None, errored=False)),\n",
       " ({'add_two.x': 1}, Result(output=Output(out=4), runtime=None, errored=False)),\n",
       " ({'add_two.x': 2}, Result(output=Output(out=5), runtime=None, errored=False))]"
      ]
     },
     "execution_count": 10,
     "metadata": {},
     "output_type": "execute_result"
    }
   ],
   "source": [
    "task1.result(return_inputs=\"ind\")"
   ]
  },
  {
   "cell_type": "code",
   "execution_count": 11,
   "id": "40b2ff44",
   "metadata": {},
   "outputs": [],
   "source": [
    "@pydra.mark.task\n",
    "def add_var(a, b):\n",
    "    return a + b"
   ]
  },
  {
   "cell_type": "code",
   "execution_count": 12,
   "id": "efb88cfa",
   "metadata": {},
   "outputs": [
    {
     "data": {
      "text/plain": [
       "[Result(output=Output(out=11), runtime=None, errored=False),\n",
       " Result(output=Output(out=12), runtime=None, errored=False),\n",
       " Result(output=Output(out=13), runtime=None, errored=False)]"
      ]
     },
     "execution_count": 12,
     "metadata": {},
     "output_type": "execute_result"
    }
   ],
   "source": [
    "task2 = add_var(a=[1, 2, 3], b=10).split(\"a\")\n",
    "task2()\n",
    "task2.result()"
   ]
  },
  {
   "cell_type": "code",
   "execution_count": 13,
   "id": "7840b17b",
   "metadata": {},
   "outputs": [],
   "source": [
    "task3 = add_var(a=[1, 2], b=[10, 100])"
   ]
  },
  {
   "cell_type": "code",
   "execution_count": 14,
   "id": "97165f48",
   "metadata": {},
   "outputs": [
    {
     "data": {
      "text/plain": [
       "[Result(output=Output(out=11), runtime=None, errored=False),\n",
       " Result(output=Output(out=102), runtime=None, errored=False)]"
      ]
     },
     "execution_count": 14,
     "metadata": {},
     "output_type": "execute_result"
    }
   ],
   "source": [
    "task3.split((\"a\", \"b\"))\n",
    "task3()\n",
    "task3.result()"
   ]
  },
  {
   "cell_type": "code",
   "execution_count": 15,
   "id": "d5efdd96",
   "metadata": {},
   "outputs": [
    {
     "data": {
      "text/plain": [
       "[Result(output=Output(out=11), runtime=None, errored=False),\n",
       " Result(output=Output(out=101), runtime=None, errored=False),\n",
       " Result(output=Output(out=12), runtime=None, errored=False),\n",
       " Result(output=Output(out=102), runtime=None, errored=False)]"
      ]
     },
     "execution_count": 15,
     "metadata": {},
     "output_type": "execute_result"
    }
   ],
   "source": [
    "task4 = add_var(a=[1, 2], b=[10, 100])\n",
    "task4.split([\"a\", \"b\"])\n",
    "task4()\n",
    "task4.result()"
   ]
  },
  {
   "cell_type": "code",
   "execution_count": 16,
   "id": "e82cf01a",
   "metadata": {
    "tags": [
     "raises-exception"
    ]
   },
   "outputs": [
    {
     "ename": "Exception",
     "evalue": "splitter has been already set, if you want to overwrite it - use overwrite=True",
     "output_type": "error",
     "traceback": [
      "\u001b[0;31m---------------------------------------------------------------------------\u001b[0m",
      "\u001b[0;31mException\u001b[0m                                 Traceback (most recent call last)",
      "\u001b[0;32m/var/folders/wr/x5xt_yqs2cvc_gb3sf147lvc0000gn/T/ipykernel_2373/2635338667.py\u001b[0m in \u001b[0;36m<module>\u001b[0;34m\u001b[0m\n\u001b[0;32m----> 1\u001b[0;31m \u001b[0mtask4\u001b[0m\u001b[0;34m.\u001b[0m\u001b[0msplit\u001b[0m\u001b[0;34m(\u001b[0m\u001b[0;34m(\u001b[0m\u001b[0;34m\"a\"\u001b[0m\u001b[0;34m,\u001b[0m \u001b[0;34m\"b\"\u001b[0m\u001b[0;34m)\u001b[0m\u001b[0;34m)\u001b[0m\u001b[0;34m\u001b[0m\u001b[0;34m\u001b[0m\u001b[0m\n\u001b[0m",
      "\u001b[0;32m~/GDrive/GitHub/pydra/pydra/engine/core.py\u001b[0m in \u001b[0;36msplit\u001b[0;34m(self, splitter, overwrite, cont_dim, **kwargs)\u001b[0m\n\u001b[1;32m    557\u001b[0m         \u001b[0;32mif\u001b[0m \u001b[0mself\u001b[0m\u001b[0;34m.\u001b[0m\u001b[0mstate\u001b[0m \u001b[0;32mand\u001b[0m \u001b[0;32mnot\u001b[0m \u001b[0moverwrite\u001b[0m \u001b[0;32mand\u001b[0m \u001b[0mself\u001b[0m\u001b[0;34m.\u001b[0m\u001b[0mstate\u001b[0m\u001b[0;34m.\u001b[0m\u001b[0msplitter\u001b[0m \u001b[0;34m!=\u001b[0m \u001b[0msplitter\u001b[0m\u001b[0;34m:\u001b[0m\u001b[0;34m\u001b[0m\u001b[0;34m\u001b[0m\u001b[0m\n\u001b[1;32m    558\u001b[0m             raise Exception(\n\u001b[0;32m--> 559\u001b[0;31m                 \u001b[0;34m\"splitter has been already set, \"\u001b[0m\u001b[0;34m\u001b[0m\u001b[0;34m\u001b[0m\u001b[0m\n\u001b[0m\u001b[1;32m    560\u001b[0m                 \u001b[0;34m\"if you want to overwrite it - use overwrite=True\"\u001b[0m\u001b[0;34m\u001b[0m\u001b[0;34m\u001b[0m\u001b[0m\n\u001b[1;32m    561\u001b[0m             )\n",
      "\u001b[0;31mException\u001b[0m: splitter has been already set, if you want to overwrite it - use overwrite=True"
     ]
    }
   ],
   "source": [
    "task4.split((\"a\", \"b\"))"
   ]
  },
  {
   "cell_type": "code",
   "execution_count": 17,
   "id": "17847a54",
   "metadata": {},
   "outputs": [
    {
     "data": {
      "text/plain": [
       "[Result(output=Output(out=(20, 11)), runtime=None, errored=False),\n",
       " Result(output=Output(out=(30, 21)), runtime=None, errored=False),\n",
       " Result(output=Output(out=(40, 31)), runtime=None, errored=False),\n",
       " Result(output=Output(out=(30, 12)), runtime=None, errored=False),\n",
       " Result(output=Output(out=(40, 22)), runtime=None, errored=False),\n",
       " Result(output=Output(out=(50, 32)), runtime=None, errored=False)]"
      ]
     },
     "execution_count": 17,
     "metadata": {},
     "output_type": "execute_result"
    }
   ],
   "source": [
    "@pydra.mark.task\n",
    "def add_vector(x1, y1, x2, y2):\n",
    "    return (x1 + x2, y1 + y2)\n",
    "\n",
    "task5 = add_vector(name=\"add_vect\", output_names=[\"x\", \"y\"], \n",
    "                   x1=[10, 20], y1=[1, 2], x2=[10, 20, 30], y2=[10, 20, 30])\n",
    "task5.split(splitter=[(\"x1\", \"y1\"), (\"x2\", \"y2\")])\n",
    "task5()\n",
    "task5.result()"
   ]
  },
  {
   "cell_type": "code",
   "execution_count": 18,
   "id": "7d8247fe",
   "metadata": {},
   "outputs": [
    {
     "data": {
      "text/plain": [
       "[[Result(output=Output(out=11), runtime=None, errored=False),\n",
       "  Result(output=Output(out=101), runtime=None, errored=False)],\n",
       " [Result(output=Output(out=12), runtime=None, errored=False),\n",
       "  Result(output=Output(out=102), runtime=None, errored=False)]]"
      ]
     },
     "execution_count": 18,
     "metadata": {},
     "output_type": "execute_result"
    }
   ],
   "source": [
    "task5 = add_var(a=[1, 2], b=[10, 100])\n",
    "task5.split([\"a\", \"b\"])\n",
    "# adding combiner\n",
    "task5.combine(\"b\")\n",
    "task5()\n",
    "task5.result()"
   ]
  },
  {
   "cell_type": "code",
   "execution_count": 19,
   "id": "2d46e10f",
   "metadata": {},
   "outputs": [
    {
     "name": "stdout",
     "output_type": "stream",
     "text": [
      "first list, a=1: [({'add_var.a': 1, 'add_var.b': 10}, Result(output=Output(out=11), runtime=None, errored=False)), ({'add_var.a': 1, 'add_var.b': 100}, Result(output=Output(out=101), runtime=None, errored=False))]\n",
      "\n",
      " second list, a=2: [({'add_var.a': 2, 'add_var.b': 10}, Result(output=Output(out=12), runtime=None, errored=False)), ({'add_var.a': 2, 'add_var.b': 100}, Result(output=Output(out=102), runtime=None, errored=False))]\n"
     ]
    }
   ],
   "source": [
    "all_results = task5.result(return_inputs=True)\n",
    "print(f\"first list, a=1: {all_results[0]}\")\n",
    "print(f\"\\n second list, a=2: {all_results[1]}\")"
   ]
  },
  {
   "cell_type": "code",
   "execution_count": 20,
   "id": "7416cfab",
   "metadata": {},
   "outputs": [
    {
     "data": {
      "text/plain": [
       "[[Result(output=Output(out=11), runtime=None, errored=False),\n",
       "  Result(output=Output(out=12), runtime=None, errored=False)],\n",
       " [Result(output=Output(out=101), runtime=None, errored=False),\n",
       "  Result(output=Output(out=102), runtime=None, errored=False)]]"
      ]
     },
     "execution_count": 20,
     "metadata": {},
     "output_type": "execute_result"
    }
   ],
   "source": [
    "task6 = add_var(a=[1, 2], b=[10, 100])\n",
    "task6.split([\"a\", \"b\"])\n",
    "# changing the combiner\n",
    "task6.combine(\"a\")\n",
    "task6()\n",
    "task6.result()"
   ]
  },
  {
   "cell_type": "code",
   "execution_count": 21,
   "id": "c1b8647e",
   "metadata": {},
   "outputs": [
    {
     "name": "stdout",
     "output_type": "stream",
     "text": [
      "first list, b=10: [({'add_var.a': 1, 'add_var.b': 10}, Result(output=Output(out=11), runtime=None, errored=False)), ({'add_var.a': 2, 'add_var.b': 10}, Result(output=Output(out=12), runtime=None, errored=False))]\n",
      "\n",
      " second list, b=100: [({'add_var.a': 1, 'add_var.b': 100}, Result(output=Output(out=101), runtime=None, errored=False)), ({'add_var.a': 2, 'add_var.b': 100}, Result(output=Output(out=102), runtime=None, errored=False))]\n"
     ]
    }
   ],
   "source": [
    "all_results = task6.result(return_inputs=True)\n",
    "print(f\"first list, b=10: {all_results[0]}\")\n",
    "print(f\"\\n second list, b=100: {all_results[1]}\")"
   ]
  },
  {
   "cell_type": "code",
   "execution_count": 22,
   "id": "66b7c828",
   "metadata": {},
   "outputs": [
    {
     "data": {
      "text/plain": [
       "[Result(output=Output(out=11), runtime=None, errored=False),\n",
       " Result(output=Output(out=101), runtime=None, errored=False),\n",
       " Result(output=Output(out=12), runtime=None, errored=False),\n",
       " Result(output=Output(out=102), runtime=None, errored=False)]"
      ]
     },
     "execution_count": 22,
     "metadata": {},
     "output_type": "execute_result"
    }
   ],
   "source": [
    "task7 = add_var(a=[1, 2], b=[10, 100])\n",
    "task7.split([\"a\", \"b\"])\n",
    "# combining all inputs\n",
    "task7.combine([\"a\", \"b\"])\n",
    "task7()\n",
    "task7.result()"
   ]
  },
  {
   "cell_type": "code",
   "execution_count": 23,
   "id": "7c8eb272",
   "metadata": {},
   "outputs": [
    {
     "data": {
      "text/plain": [
       "Result(output=Output(out=33.0), runtime=None, errored=False)"
      ]
     },
     "execution_count": 23,
     "metadata": {},
     "output_type": "execute_result"
    }
   ],
   "source": [
    "@pydra.mark.task\n",
    "def moment(lst, n):\n",
    "    return sum([i ** n for i in lst]) / len(lst)\n",
    "\n",
    "task8 = moment(n=3, lst=[2, 3, 4])\n",
    "\n",
    "task8()\n",
    "task8.result()"
   ]
  },
  {
   "cell_type": "code",
   "execution_count": 24,
   "id": "78adbdd2",
   "metadata": {
    "tags": [
     "hide-cell"
    ]
   },
   "outputs": [],
   "source": [
    "@pydra.mark.task\n",
    "def power(x, n):\n",
    "    return x**n"
   ]
  },
  {
   "cell_type": "code",
   "execution_count": 25,
   "id": "a27f2db1",
   "metadata": {
    "tags": [
     "hide-cell"
    ]
   },
   "outputs": [
    {
     "data": {
      "text/plain": [
       "[[Result(output=Output(out=4), runtime=None, errored=False),\n",
       "  Result(output=Output(out=9), runtime=None, errored=False),\n",
       "  Result(output=Output(out=16), runtime=None, errored=False),\n",
       "  Result(output=Output(out=25), runtime=None, errored=False)],\n",
       " [Result(output=Output(out=8), runtime=None, errored=False),\n",
       "  Result(output=Output(out=27), runtime=None, errored=False),\n",
       "  Result(output=Output(out=64), runtime=None, errored=False),\n",
       "  Result(output=Output(out=125), runtime=None, errored=False)]]"
      ]
     },
     "execution_count": 25,
     "metadata": {},
     "output_type": "execute_result"
    }
   ],
   "source": [
    "task_ex1 = power(x=[2, 3, 4, 5], n=[2, 3]).split([\"x\", \"n\"]).combine(\"x\")\n",
    "task_ex1()\n",
    "task_ex1.result()"
   ]
  },
  {
   "cell_type": "code",
   "execution_count": 26,
   "id": "ff7469f8",
   "metadata": {
    "tags": [
     "hide-cell"
    ]
   },
   "outputs": [
    {
     "name": "stdout",
     "output_type": "stream",
     "text": [
      "squares: [4, 9, 16, 25]\n",
      "cubes: [8, 27, 64, 125]\n"
     ]
    }
   ],
   "source": [
    "squares_list = [el.output.out for el in task_ex1.result()[0]]\n",
    "cubes_list = [el.output.out for el in task_ex1.result()[1]]\n",
    "print(f\"squares: {squares_list}\")\n",
    "print(f\"cubes: {cubes_list}\")"
   ]
  },
  {
   "cell_type": "code",
   "execution_count": 27,
   "id": "3667e110",
   "metadata": {},
   "outputs": [
    {
     "name": "stdout",
     "output_type": "stream",
     "text": [
      "total time: 1.3097989559173584\n"
     ]
    },
    {
     "data": {
      "text/plain": [
       "[Result(output=Output(out=3), runtime=None, errored=False),\n",
       " Result(output=Output(out=4), runtime=None, errored=False),\n",
       " Result(output=Output(out=5), runtime=None, errored=False),\n",
       " Result(output=Output(out=6), runtime=None, errored=False)]"
      ]
     },
     "execution_count": 27,
     "metadata": {},
     "output_type": "execute_result"
    }
   ],
   "source": [
    "import time\n",
    "\n",
    "@pydra.mark.task\n",
    "def add_two_sleep(x):\n",
    "    time.sleep(1)\n",
    "    return x + 2\n",
    "\n",
    "task9 = add_two_sleep(x=[1, 2, 3, 4]).split(\"x\")\n",
    "t0 = time.time()\n",
    "task9()\n",
    "print(f'total time: {time.time() - t0}')\n",
    "task9.result()"
   ]
  },
  {
   "cell_type": "code",
   "execution_count": 28,
   "id": "706ffec0",
   "metadata": {},
   "outputs": [
    {
     "name": "stdout",
     "output_type": "stream",
     "text": [
      "total time: 1.347938060760498\n",
      "results: [Result(output=Output(out=3), runtime=None, errored=False), Result(output=Output(out=4), runtime=None, errored=False), Result(output=Output(out=5), runtime=None, errored=False), Result(output=Output(out=6), runtime=None, errored=False)]\n"
     ]
    }
   ],
   "source": [
    "task10 = add_two_sleep(x=[1, 2, 3, 4]).split(\"x\")\n",
    "\n",
    "t0 = time.time()\n",
    "with pydra.Submitter(plugin=\"cf\") as sub:\n",
    "    task10(submitter=sub)\n",
    "print(f'total time: {time.time() - t0}')\n",
    "print(f\"results: {task10.result()}\")"
   ]
  },
  {
   "cell_type": "code",
   "execution_count": 29,
   "id": "7f113dee",
   "metadata": {},
   "outputs": [
    {
     "name": "stdout",
     "output_type": "stream",
     "text": [
      "total time: 1.339102029800415\n",
      "results: [Result(output=Output(out=3), runtime=None, errored=False), Result(output=Output(out=4), runtime=None, errored=False), Result(output=Output(out=5), runtime=None, errored=False), Result(output=Output(out=6), runtime=None, errored=False)]\n"
     ]
    }
   ],
   "source": [
    "task11 = add_two_sleep(x=[1, 2, 3, 4]).split(\"x\")\n",
    "\n",
    "t0 = time.time()\n",
    "task11(plugin=\"cf\")\n",
    "print(f'total time: {time.time() - t0}')\n",
    "print(f\"results: {task11.result()}\")"
   ]
  },
  {
   "cell_type": "code",
   "execution_count": 30,
   "id": "518585bc",
   "metadata": {},
   "outputs": [
    {
     "name": "stdout",
     "output_type": "stream",
     "text": [
      "total time: 1.3082010746002197\n",
      "results: [Result(output=Output(out=3), runtime=None, errored=False), Result(output=Output(out=4), runtime=None, errored=False), Result(output=Output(out=5), runtime=None, errored=False), Result(output=Output(out=6), runtime=None, errored=False)]\n"
     ]
    }
   ],
   "source": [
    "task12 = add_two_sleep(x=[1, 2, 3, 4]).split(\"x\")\n",
    "\n",
    "t0 = time.time()\n",
    "with pydra.Submitter(plugin=\"cf\") as sub:\n",
    "    sub(runnable=task12)\n",
    "print(f'total time: {time.time() - t0}')\n",
    "print(f\"results: {task12.result()}\")"
   ]
  },
  {
   "cell_type": "code",
   "execution_count": 31,
   "id": "890bf70f",
   "metadata": {},
   "outputs": [
    {
     "name": "stdout",
     "output_type": "stream",
     "text": [
      "total time: 2.364259719848633\n",
      "results: [Result(output=Output(out=3), runtime=None, errored=False), Result(output=Output(out=4), runtime=None, errored=False), Result(output=Output(out=5), runtime=None, errored=False), Result(output=Output(out=6), runtime=None, errored=False)]\n"
     ]
    }
   ],
   "source": [
    "task13 = add_two_sleep(x=[1, 2, 3, 4]).split(\"x\")\n",
    "\n",
    "t0 = time.time()\n",
    "with pydra.Submitter(plugin=\"cf\", n_procs=2) as sub:\n",
    "    sub(runnable=task13)\n",
    "print(f'total time: {time.time() - t0}')\n",
    "print(f\"results: {task13.result()}\")"
   ]
  }
 ],
 "metadata": {
  "jupytext": {
   "formats": "ipynb,md:myst",
   "text_representation": {
    "extension": ".md",
    "format_name": "myst",
    "format_version": 0.13,
    "jupytext_version": "1.13.8"
   }
  },
  "kernelspec": {
   "display_name": "Python 3",
   "language": "python",
   "name": "python3"
  },
  "language_info": {
   "codemirror_mode": {
    "name": "ipython",
    "version": 3
   },
   "file_extension": ".py",
   "mimetype": "text/x-python",
   "name": "python",
   "nbconvert_exporter": "python",
   "pygments_lexer": "ipython3",
   "version": "3.7.13"
  },
  "source_map": [
   13,
   21,
   34,
   42,
   46,
   48,
   52,
   54,
   58,
   60,
   64,
   66,
   70,
   72,
   78,
   81,
   85,
   87,
   91,
   93,
   97,
   101,
   107,
   111,
   115,
   119,
   123,
   127,
   131,
   133,
   139,
   145,
   149,
   155,
   159,
   165,
   170,
   174,
   178,
   182,
   186,
   192,
   202,
   206,
   214,
   221,
   225,
   229,
   233,
   237,
   244,
   248,
   252,
   256,
   260,
   267,
   271,
   275,
   281,
   292,
   298,
   302,
   310,
   314,
   322,
   326,
   333,
   339,
   352,
   360,
   368,
   372,
   379,
   383,
   391,
   395,
   403
  ]
 },
 "nbformat": 4,
 "nbformat_minor": 5
}